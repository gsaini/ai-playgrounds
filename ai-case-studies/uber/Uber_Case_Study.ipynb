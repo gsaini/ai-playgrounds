{
  "cells": [
    {
      "cell_type": "markdown",
      "metadata": {
        "id": "view-in-github",
        "colab_type": "text"
      },
      "source": [
        "<a href=\"https://colab.research.google.com/github/gsaini/ai-playgrounds/blob/main/ai-case-studies/uber/Uber_Case_Study.ipynb\" target=\"_parent\"><img src=\"https://colab.research.google.com/assets/colab-badge.svg\" alt=\"Open In Colab\"/></a>"
      ]
    },
    {
      "cell_type": "markdown",
      "metadata": {
        "id": "QskpGMoz4JRv"
      },
      "source": [
        "<h1><center><font size=10>Artificial Intelligence and Machine Learning</center></font></h1>\n",
        "<h1><center>Exploratory Data Analysis</center></h1>"
      ]
    },
    {
      "cell_type": "markdown",
      "metadata": {
        "id": "8vL--AGe4n75"
      },
      "source": [
        "<center><img src=\"https://upload.wikimedia.org/wikipedia/commons/d/d6/UBER_%281%29.jpg\" width=\"800\" height=\"400\"></center>\n",
        "\n",
        "<b><h2><center>Uber Case Study</center></h2></b>"
      ]
    },
    {
      "cell_type": "markdown",
      "metadata": {
        "id": "dvt3gPFODuc4"
      },
      "source": [
        "### **Context:**\n",
        "Ridesharing is a service that arranges transportation on short notice. It is a very volatile market and its demand fluctuates wildly with time, place, weather, local events, etc. The key to being successful in this business is to be able to detect patterns in these fluctuations and cater to the demand at any given time.  \n",
        "\n",
        "### **Objective:**\n",
        "Uber Technologies, Inc. is an American multinational transportation network company based in San Francisco and has operations in over 785 metropolitan areas with over 110 million users worldwide. As a newly hired Data Scientist in Uber's New York Office, you have been given the task of extracting actionable insights from data that will help in the growth of the the business.\n",
        "\n",
        "### **Key Questions:**\n",
        "1. What are the different variables that influence the number of pickups?\n",
        "2. Which factor affects the number of pickups the most? What could be the possible reasons for that?\n",
        "3. What are your recommendations to Uber management to capitalize on fluctuating demand?\n",
        "\n",
        "### **Data Description:**\n",
        "The data contains the details for the Uber rides across various boroughs (subdivisions) of New York City at an hourly level and attributes associated with weather conditions at that time.\n",
        "\n",
        "* pickup_dt: Date and time of the pick-up\n",
        "* borough: NYC's borough\n",
        "* pickups: Number of pickups for the period (hourly)\n",
        "* spd: Wind speed in miles/hour\n",
        "* vsb: Visibility in miles to the nearest tenth\n",
        "* temp: Temperature in Fahrenheit\n",
        "* dewp: Dew point in Fahrenheit\n",
        "* slp: Sea level pressure\n",
        "* pcp01: 1-hour liquid precipitation\n",
        "* pcp06: 6-hour liquid precipitation\n",
        "* pcp24: 24-hour liquid precipitation\n",
        "* sd: Snow depth in inches\n",
        "* hday: Being a holiday (Y) or not (N)"
      ]
    },
    {
      "cell_type": "markdown",
      "metadata": {
        "id": "cuFlvhPwCmL3"
      },
      "source": [
        "### **Importing the necessary libraries**"
      ]
    },
    {
      "cell_type": "code",
      "execution_count": 91,
      "metadata": {
        "id": "MeW5cQ7zjY7D"
      },
      "outputs": [],
      "source": [
        "# Installing the libraries with the specified version.\n",
        "!pip install numpy==1.25.2 pandas==2.0.3 matplotlib==3.7.1 seaborn==0.13.1 scikit-learn==1.2.2 sklearn-pandas==2.2.0 -q --user"
      ]
    },
    {
      "cell_type": "markdown",
      "metadata": {
        "id": "_gTmc9ZkwSHe"
      },
      "source": [
        "**Note**: *After running the above cell, kindly restart the notebook kernel and run all cells sequentially from the start again.*"
      ]
    },
    {
      "cell_type": "code",
      "execution_count": 92,
      "metadata": {
        "id": "xwOVK2hbCmL8"
      },
      "outputs": [],
      "source": [
        "# Libraries to help with reading and manipulating data\n",
        "import numpy as np\n",
        "import pandas as pd\n",
        "\n",
        "# Libraries to help with data visualization\n",
        "import matplotlib.pyplot as plt\n",
        "import seaborn as sns\n",
        "%matplotlib inline"
      ]
    },
    {
      "cell_type": "markdown",
      "metadata": {
        "id": "ikTvAOfVCmL_"
      },
      "source": [
        "### **Loading the dataset**"
      ]
    },
    {
      "cell_type": "code",
      "execution_count": 93,
      "metadata": {
        "id": "LQzILM1q1wsj"
      },
      "outputs": [],
      "source": [
        "# from google.colab import drive\n",
        "# drive.mount('/content/drive')"
      ]
    },
    {
      "cell_type": "code",
      "execution_count": 94,
      "metadata": {
        "id": "rOGD4EvwCmL_"
      },
      "outputs": [],
      "source": [
        "data = pd.read_csv('https://raw.githubusercontent.com/gsaini/ai-playgrounds/refs/heads/main/ai-case-studies/uber/data/uber_data.csv')"
      ]
    },
    {
      "cell_type": "code",
      "execution_count": 95,
      "metadata": {
        "id": "1UXsOeJoCmMC"
      },
      "outputs": [],
      "source": [
        "# copying data to another variable to avoid any changes to original data\n",
        "df = data.copy()"
      ]
    },
    {
      "cell_type": "markdown",
      "metadata": {
        "id": "wCI1v_BsreA5"
      },
      "source": [
        "### **Data Overview**"
      ]
    },
    {
      "cell_type": "markdown",
      "metadata": {
        "id": "XBP_F-h9rijD"
      },
      "source": [
        "The initial steps to get an overview of any dataset is to:\n",
        "- observe the first few rows of the dataset, to check whether the dataset has been loaded properly or not\n",
        "- get information about the number of rows and columns in the dataset\n",
        "- find out the data types of the columns to ensure that data is stored in the preferred format and the value of each property is as expected.\n",
        "- check the statistical summary of the dataset to get an overview of the numerical columns of the data"
      ]
    },
    {
      "cell_type": "markdown",
      "metadata": {
        "id": "-zQAz_0LCmME"
      },
      "source": [
        "#### **Displaying the first few rows of the dataset**"
      ]
    },
    {
      "cell_type": "code",
      "execution_count": 96,
      "metadata": {
        "colab": {
          "base_uri": "https://localhost:8080/",
          "height": 206
        },
        "id": "HjwECjgXCmME",
        "outputId": "06b02f66-7b2d-4c42-b78a-955acb763d0f"
      },
      "outputs": [
        {
          "output_type": "execute_result",
          "data": {
            "text/plain": [
              "          pickup_dt    borough  pickups  spd   vsb  temp  dewp     slp  pcp01  \\\n",
              "0  01-01-2015 01:00      Bronx      152  5.0  10.0  30.0   7.0  1023.5    0.0   \n",
              "1  01-01-2015 01:00   Brooklyn     1519  5.0  10.0   NaN   7.0  1023.5    0.0   \n",
              "2  01-01-2015 01:00        EWR        0  5.0  10.0  30.0   7.0  1023.5    0.0   \n",
              "3  01-01-2015 01:00  Manhattan     5258  5.0  10.0  30.0   7.0  1023.5    0.0   \n",
              "4  01-01-2015 01:00     Queens      405  5.0  10.0  30.0   7.0  1023.5    0.0   \n",
              "\n",
              "   pcp06  pcp24   sd hday  \n",
              "0    0.0    0.0  0.0    Y  \n",
              "1    0.0    0.0  0.0    Y  \n",
              "2    0.0    0.0  0.0    Y  \n",
              "3    0.0    0.0  0.0    Y  \n",
              "4    0.0    0.0  0.0    Y  "
            ],
            "text/html": [
              "\n",
              "  <div id=\"df-97214ad6-7a05-449b-b120-ad29c08e87f2\" class=\"colab-df-container\">\n",
              "    <div>\n",
              "<style scoped>\n",
              "    .dataframe tbody tr th:only-of-type {\n",
              "        vertical-align: middle;\n",
              "    }\n",
              "\n",
              "    .dataframe tbody tr th {\n",
              "        vertical-align: top;\n",
              "    }\n",
              "\n",
              "    .dataframe thead th {\n",
              "        text-align: right;\n",
              "    }\n",
              "</style>\n",
              "<table border=\"1\" class=\"dataframe\">\n",
              "  <thead>\n",
              "    <tr style=\"text-align: right;\">\n",
              "      <th></th>\n",
              "      <th>pickup_dt</th>\n",
              "      <th>borough</th>\n",
              "      <th>pickups</th>\n",
              "      <th>spd</th>\n",
              "      <th>vsb</th>\n",
              "      <th>temp</th>\n",
              "      <th>dewp</th>\n",
              "      <th>slp</th>\n",
              "      <th>pcp01</th>\n",
              "      <th>pcp06</th>\n",
              "      <th>pcp24</th>\n",
              "      <th>sd</th>\n",
              "      <th>hday</th>\n",
              "    </tr>\n",
              "  </thead>\n",
              "  <tbody>\n",
              "    <tr>\n",
              "      <th>0</th>\n",
              "      <td>01-01-2015 01:00</td>\n",
              "      <td>Bronx</td>\n",
              "      <td>152</td>\n",
              "      <td>5.0</td>\n",
              "      <td>10.0</td>\n",
              "      <td>30.0</td>\n",
              "      <td>7.0</td>\n",
              "      <td>1023.5</td>\n",
              "      <td>0.0</td>\n",
              "      <td>0.0</td>\n",
              "      <td>0.0</td>\n",
              "      <td>0.0</td>\n",
              "      <td>Y</td>\n",
              "    </tr>\n",
              "    <tr>\n",
              "      <th>1</th>\n",
              "      <td>01-01-2015 01:00</td>\n",
              "      <td>Brooklyn</td>\n",
              "      <td>1519</td>\n",
              "      <td>5.0</td>\n",
              "      <td>10.0</td>\n",
              "      <td>NaN</td>\n",
              "      <td>7.0</td>\n",
              "      <td>1023.5</td>\n",
              "      <td>0.0</td>\n",
              "      <td>0.0</td>\n",
              "      <td>0.0</td>\n",
              "      <td>0.0</td>\n",
              "      <td>Y</td>\n",
              "    </tr>\n",
              "    <tr>\n",
              "      <th>2</th>\n",
              "      <td>01-01-2015 01:00</td>\n",
              "      <td>EWR</td>\n",
              "      <td>0</td>\n",
              "      <td>5.0</td>\n",
              "      <td>10.0</td>\n",
              "      <td>30.0</td>\n",
              "      <td>7.0</td>\n",
              "      <td>1023.5</td>\n",
              "      <td>0.0</td>\n",
              "      <td>0.0</td>\n",
              "      <td>0.0</td>\n",
              "      <td>0.0</td>\n",
              "      <td>Y</td>\n",
              "    </tr>\n",
              "    <tr>\n",
              "      <th>3</th>\n",
              "      <td>01-01-2015 01:00</td>\n",
              "      <td>Manhattan</td>\n",
              "      <td>5258</td>\n",
              "      <td>5.0</td>\n",
              "      <td>10.0</td>\n",
              "      <td>30.0</td>\n",
              "      <td>7.0</td>\n",
              "      <td>1023.5</td>\n",
              "      <td>0.0</td>\n",
              "      <td>0.0</td>\n",
              "      <td>0.0</td>\n",
              "      <td>0.0</td>\n",
              "      <td>Y</td>\n",
              "    </tr>\n",
              "    <tr>\n",
              "      <th>4</th>\n",
              "      <td>01-01-2015 01:00</td>\n",
              "      <td>Queens</td>\n",
              "      <td>405</td>\n",
              "      <td>5.0</td>\n",
              "      <td>10.0</td>\n",
              "      <td>30.0</td>\n",
              "      <td>7.0</td>\n",
              "      <td>1023.5</td>\n",
              "      <td>0.0</td>\n",
              "      <td>0.0</td>\n",
              "      <td>0.0</td>\n",
              "      <td>0.0</td>\n",
              "      <td>Y</td>\n",
              "    </tr>\n",
              "  </tbody>\n",
              "</table>\n",
              "</div>\n",
              "    <div class=\"colab-df-buttons\">\n",
              "\n",
              "  <div class=\"colab-df-container\">\n",
              "    <button class=\"colab-df-convert\" onclick=\"convertToInteractive('df-97214ad6-7a05-449b-b120-ad29c08e87f2')\"\n",
              "            title=\"Convert this dataframe to an interactive table.\"\n",
              "            style=\"display:none;\">\n",
              "\n",
              "  <svg xmlns=\"http://www.w3.org/2000/svg\" height=\"24px\" viewBox=\"0 -960 960 960\">\n",
              "    <path d=\"M120-120v-720h720v720H120Zm60-500h600v-160H180v160Zm220 220h160v-160H400v160Zm0 220h160v-160H400v160ZM180-400h160v-160H180v160Zm440 0h160v-160H620v160ZM180-180h160v-160H180v160Zm440 0h160v-160H620v160Z\"/>\n",
              "  </svg>\n",
              "    </button>\n",
              "\n",
              "  <style>\n",
              "    .colab-df-container {\n",
              "      display:flex;\n",
              "      gap: 12px;\n",
              "    }\n",
              "\n",
              "    .colab-df-convert {\n",
              "      background-color: #E8F0FE;\n",
              "      border: none;\n",
              "      border-radius: 50%;\n",
              "      cursor: pointer;\n",
              "      display: none;\n",
              "      fill: #1967D2;\n",
              "      height: 32px;\n",
              "      padding: 0 0 0 0;\n",
              "      width: 32px;\n",
              "    }\n",
              "\n",
              "    .colab-df-convert:hover {\n",
              "      background-color: #E2EBFA;\n",
              "      box-shadow: 0px 1px 2px rgba(60, 64, 67, 0.3), 0px 1px 3px 1px rgba(60, 64, 67, 0.15);\n",
              "      fill: #174EA6;\n",
              "    }\n",
              "\n",
              "    .colab-df-buttons div {\n",
              "      margin-bottom: 4px;\n",
              "    }\n",
              "\n",
              "    [theme=dark] .colab-df-convert {\n",
              "      background-color: #3B4455;\n",
              "      fill: #D2E3FC;\n",
              "    }\n",
              "\n",
              "    [theme=dark] .colab-df-convert:hover {\n",
              "      background-color: #434B5C;\n",
              "      box-shadow: 0px 1px 3px 1px rgba(0, 0, 0, 0.15);\n",
              "      filter: drop-shadow(0px 1px 2px rgba(0, 0, 0, 0.3));\n",
              "      fill: #FFFFFF;\n",
              "    }\n",
              "  </style>\n",
              "\n",
              "    <script>\n",
              "      const buttonEl =\n",
              "        document.querySelector('#df-97214ad6-7a05-449b-b120-ad29c08e87f2 button.colab-df-convert');\n",
              "      buttonEl.style.display =\n",
              "        google.colab.kernel.accessAllowed ? 'block' : 'none';\n",
              "\n",
              "      async function convertToInteractive(key) {\n",
              "        const element = document.querySelector('#df-97214ad6-7a05-449b-b120-ad29c08e87f2');\n",
              "        const dataTable =\n",
              "          await google.colab.kernel.invokeFunction('convertToInteractive',\n",
              "                                                    [key], {});\n",
              "        if (!dataTable) return;\n",
              "\n",
              "        const docLinkHtml = 'Like what you see? Visit the ' +\n",
              "          '<a target=\"_blank\" href=https://colab.research.google.com/notebooks/data_table.ipynb>data table notebook</a>'\n",
              "          + ' to learn more about interactive tables.';\n",
              "        element.innerHTML = '';\n",
              "        dataTable['output_type'] = 'display_data';\n",
              "        await google.colab.output.renderOutput(dataTable, element);\n",
              "        const docLink = document.createElement('div');\n",
              "        docLink.innerHTML = docLinkHtml;\n",
              "        element.appendChild(docLink);\n",
              "      }\n",
              "    </script>\n",
              "  </div>\n",
              "\n",
              "\n",
              "    <div id=\"df-cd5f1d15-7a80-44e8-b983-c2e527f02499\">\n",
              "      <button class=\"colab-df-quickchart\" onclick=\"quickchart('df-cd5f1d15-7a80-44e8-b983-c2e527f02499')\"\n",
              "                title=\"Suggest charts\"\n",
              "                style=\"display:none;\">\n",
              "\n",
              "<svg xmlns=\"http://www.w3.org/2000/svg\" height=\"24px\"viewBox=\"0 0 24 24\"\n",
              "     width=\"24px\">\n",
              "    <g>\n",
              "        <path d=\"M19 3H5c-1.1 0-2 .9-2 2v14c0 1.1.9 2 2 2h14c1.1 0 2-.9 2-2V5c0-1.1-.9-2-2-2zM9 17H7v-7h2v7zm4 0h-2V7h2v10zm4 0h-2v-4h2v4z\"/>\n",
              "    </g>\n",
              "</svg>\n",
              "      </button>\n",
              "\n",
              "<style>\n",
              "  .colab-df-quickchart {\n",
              "      --bg-color: #E8F0FE;\n",
              "      --fill-color: #1967D2;\n",
              "      --hover-bg-color: #E2EBFA;\n",
              "      --hover-fill-color: #174EA6;\n",
              "      --disabled-fill-color: #AAA;\n",
              "      --disabled-bg-color: #DDD;\n",
              "  }\n",
              "\n",
              "  [theme=dark] .colab-df-quickchart {\n",
              "      --bg-color: #3B4455;\n",
              "      --fill-color: #D2E3FC;\n",
              "      --hover-bg-color: #434B5C;\n",
              "      --hover-fill-color: #FFFFFF;\n",
              "      --disabled-bg-color: #3B4455;\n",
              "      --disabled-fill-color: #666;\n",
              "  }\n",
              "\n",
              "  .colab-df-quickchart {\n",
              "    background-color: var(--bg-color);\n",
              "    border: none;\n",
              "    border-radius: 50%;\n",
              "    cursor: pointer;\n",
              "    display: none;\n",
              "    fill: var(--fill-color);\n",
              "    height: 32px;\n",
              "    padding: 0;\n",
              "    width: 32px;\n",
              "  }\n",
              "\n",
              "  .colab-df-quickchart:hover {\n",
              "    background-color: var(--hover-bg-color);\n",
              "    box-shadow: 0 1px 2px rgba(60, 64, 67, 0.3), 0 1px 3px 1px rgba(60, 64, 67, 0.15);\n",
              "    fill: var(--button-hover-fill-color);\n",
              "  }\n",
              "\n",
              "  .colab-df-quickchart-complete:disabled,\n",
              "  .colab-df-quickchart-complete:disabled:hover {\n",
              "    background-color: var(--disabled-bg-color);\n",
              "    fill: var(--disabled-fill-color);\n",
              "    box-shadow: none;\n",
              "  }\n",
              "\n",
              "  .colab-df-spinner {\n",
              "    border: 2px solid var(--fill-color);\n",
              "    border-color: transparent;\n",
              "    border-bottom-color: var(--fill-color);\n",
              "    animation:\n",
              "      spin 1s steps(1) infinite;\n",
              "  }\n",
              "\n",
              "  @keyframes spin {\n",
              "    0% {\n",
              "      border-color: transparent;\n",
              "      border-bottom-color: var(--fill-color);\n",
              "      border-left-color: var(--fill-color);\n",
              "    }\n",
              "    20% {\n",
              "      border-color: transparent;\n",
              "      border-left-color: var(--fill-color);\n",
              "      border-top-color: var(--fill-color);\n",
              "    }\n",
              "    30% {\n",
              "      border-color: transparent;\n",
              "      border-left-color: var(--fill-color);\n",
              "      border-top-color: var(--fill-color);\n",
              "      border-right-color: var(--fill-color);\n",
              "    }\n",
              "    40% {\n",
              "      border-color: transparent;\n",
              "      border-right-color: var(--fill-color);\n",
              "      border-top-color: var(--fill-color);\n",
              "    }\n",
              "    60% {\n",
              "      border-color: transparent;\n",
              "      border-right-color: var(--fill-color);\n",
              "    }\n",
              "    80% {\n",
              "      border-color: transparent;\n",
              "      border-right-color: var(--fill-color);\n",
              "      border-bottom-color: var(--fill-color);\n",
              "    }\n",
              "    90% {\n",
              "      border-color: transparent;\n",
              "      border-bottom-color: var(--fill-color);\n",
              "    }\n",
              "  }\n",
              "</style>\n",
              "\n",
              "      <script>\n",
              "        async function quickchart(key) {\n",
              "          const quickchartButtonEl =\n",
              "            document.querySelector('#' + key + ' button');\n",
              "          quickchartButtonEl.disabled = true;  // To prevent multiple clicks.\n",
              "          quickchartButtonEl.classList.add('colab-df-spinner');\n",
              "          try {\n",
              "            const charts = await google.colab.kernel.invokeFunction(\n",
              "                'suggestCharts', [key], {});\n",
              "          } catch (error) {\n",
              "            console.error('Error during call to suggestCharts:', error);\n",
              "          }\n",
              "          quickchartButtonEl.classList.remove('colab-df-spinner');\n",
              "          quickchartButtonEl.classList.add('colab-df-quickchart-complete');\n",
              "        }\n",
              "        (() => {\n",
              "          let quickchartButtonEl =\n",
              "            document.querySelector('#df-cd5f1d15-7a80-44e8-b983-c2e527f02499 button');\n",
              "          quickchartButtonEl.style.display =\n",
              "            google.colab.kernel.accessAllowed ? 'block' : 'none';\n",
              "        })();\n",
              "      </script>\n",
              "    </div>\n",
              "\n",
              "    </div>\n",
              "  </div>\n"
            ],
            "application/vnd.google.colaboratory.intrinsic+json": {
              "type": "dataframe",
              "variable_name": "df",
              "summary": "{\n  \"name\": \"df\",\n  \"rows\": 29101,\n  \"fields\": [\n    {\n      \"column\": \"pickup_dt\",\n      \"properties\": {\n        \"dtype\": \"category\",\n        \"num_unique_values\": 4343,\n        \"samples\": [\n          \"17-04-2015 23:00\",\n          \"14-01-2015 07:00\",\n          \"22-03-2015 05:00\"\n        ],\n        \"semantic_type\": \"\",\n        \"description\": \"\"\n      }\n    },\n    {\n      \"column\": \"borough\",\n      \"properties\": {\n        \"dtype\": \"category\",\n        \"num_unique_values\": 6,\n        \"samples\": [\n          \"Bronx\",\n          \"Brooklyn\",\n          \"Staten Island\"\n        ],\n        \"semantic_type\": \"\",\n        \"description\": \"\"\n      }\n    },\n    {\n      \"column\": \"pickups\",\n      \"properties\": {\n        \"dtype\": \"number\",\n        \"std\": 995,\n        \"min\": 0,\n        \"max\": 7883,\n        \"num_unique_values\": 3406,\n        \"samples\": [\n          672,\n          3340,\n          3062\n        ],\n        \"semantic_type\": \"\",\n        \"description\": \"\"\n      }\n    },\n    {\n      \"column\": \"spd\",\n      \"properties\": {\n        \"dtype\": \"number\",\n        \"std\": 3.699007242118309,\n        \"min\": 0.0,\n        \"max\": 21.0,\n        \"num_unique_values\": 114,\n        \"samples\": [\n          11.66666667,\n          7.0,\n          2.666666667\n        ],\n        \"semantic_type\": \"\",\n        \"description\": \"\"\n      }\n    },\n    {\n      \"column\": \"vsb\",\n      \"properties\": {\n        \"dtype\": \"number\",\n        \"std\": 2.4428973586411757,\n        \"min\": 0.0,\n        \"max\": 10.0,\n        \"num_unique_values\": 179,\n        \"samples\": [\n          1.88,\n          8.0,\n          1.325\n        ],\n        \"semantic_type\": \"\",\n        \"description\": \"\"\n      }\n    },\n    {\n      \"column\": \"temp\",\n      \"properties\": {\n        \"dtype\": \"number\",\n        \"std\": 19.798782931248635,\n        \"min\": 2.0,\n        \"max\": 89.0,\n        \"num_unique_values\": 295,\n        \"samples\": [\n          88.0,\n          57.0,\n          31.33333333\n        ],\n        \"semantic_type\": \"\",\n        \"description\": \"\"\n      }\n    },\n    {\n      \"column\": \"dewp\",\n      \"properties\": {\n        \"dtype\": \"number\",\n        \"std\": 21.283444335844486,\n        \"min\": -16.0,\n        \"max\": 73.0,\n        \"num_unique_values\": 305,\n        \"samples\": [\n          39.5,\n          22.16666667,\n          17.25\n        ],\n        \"semantic_type\": \"\",\n        \"description\": \"\"\n      }\n    },\n    {\n      \"column\": \"slp\",\n      \"properties\": {\n        \"dtype\": \"number\",\n        \"std\": 7.768795579962438,\n        \"min\": 991.4,\n        \"max\": 1043.4,\n        \"num_unique_values\": 413,\n        \"samples\": [\n          1002.8,\n          1032.2,\n          1002.7\n        ],\n        \"semantic_type\": \"\",\n        \"description\": \"\"\n      }\n    },\n    {\n      \"column\": \"pcp01\",\n      \"properties\": {\n        \"dtype\": \"number\",\n        \"std\": 0.01893306514418863,\n        \"min\": 0.0,\n        \"max\": 0.28,\n        \"num_unique_values\": 80,\n        \"samples\": [\n          0.125,\n          0.0,\n          0.025\n        ],\n        \"semantic_type\": \"\",\n        \"description\": \"\"\n      }\n    },\n    {\n      \"column\": \"pcp06\",\n      \"properties\": {\n        \"dtype\": \"number\",\n        \"std\": 0.09312533963562859,\n        \"min\": 0.0,\n        \"max\": 1.24,\n        \"num_unique_values\": 318,\n        \"samples\": [\n          0.038333333,\n          0.478333333,\n          0.05\n        ],\n        \"semantic_type\": \"\",\n        \"description\": \"\"\n      }\n    },\n    {\n      \"column\": \"pcp24\",\n      \"properties\": {\n        \"dtype\": \"number\",\n        \"std\": 0.219402201691659,\n        \"min\": 0.0,\n        \"max\": 2.1,\n        \"num_unique_values\": 484,\n        \"samples\": [\n          1.048333333,\n          0.4905,\n          0.164666667\n        ],\n        \"semantic_type\": \"\",\n        \"description\": \"\"\n      }\n    },\n    {\n      \"column\": \"sd\",\n      \"properties\": {\n        \"dtype\": \"number\",\n        \"std\": 4.520325423985724,\n        \"min\": 0.0,\n        \"max\": 19.0,\n        \"num_unique_values\": 419,\n        \"samples\": [\n          10.1875,\n          14.16666667,\n          10.0\n        ],\n        \"semantic_type\": \"\",\n        \"description\": \"\"\n      }\n    },\n    {\n      \"column\": \"hday\",\n      \"properties\": {\n        \"dtype\": \"category\",\n        \"num_unique_values\": 2,\n        \"samples\": [\n          \"N\",\n          \"Y\"\n        ],\n        \"semantic_type\": \"\",\n        \"description\": \"\"\n      }\n    }\n  ]\n}"
            }
          },
          "metadata": {},
          "execution_count": 96
        }
      ],
      "source": [
        "# looking at head (5 observations)\n",
        "df.head()"
      ]
    },
    {
      "cell_type": "markdown",
      "metadata": {
        "id": "9nv1ikTeCmMH"
      },
      "source": [
        "- *The `pickup_dt` column contains the date and time of pickup*\n",
        "- *The `borough` column contains the name of the New York borough in which the pickup was made*\n",
        "- *The `pickups` column contains the number of pickups in the borough at the given time*\n",
        "- *Starting from `spd` to `sd`, all the columns are related to weather and  are numerical in nature*\n",
        "- *The `hday` column indicates whether the day of the pickup is a holiday or not (Y: Holiday, N: Not a holiday)*"
      ]
    },
    {
      "cell_type": "markdown",
      "metadata": {
        "id": "ymfvv11nCmMI"
      },
      "source": [
        "#### **Checking the shape of the dataset**"
      ]
    },
    {
      "cell_type": "code",
      "execution_count": 97,
      "metadata": {
        "colab": {
          "base_uri": "https://localhost:8080/"
        },
        "id": "cF4tL1ZlCmMI",
        "outputId": "ac6303eb-1ef3-4b1a-d62a-3829621041ef"
      },
      "outputs": [
        {
          "output_type": "execute_result",
          "data": {
            "text/plain": [
              "(29101, 13)"
            ]
          },
          "metadata": {},
          "execution_count": 97
        }
      ],
      "source": [
        "df.shape"
      ]
    },
    {
      "cell_type": "markdown",
      "metadata": {
        "id": "bAhAe3wLCmML"
      },
      "source": [
        "- *The dataset has 29,101 rows and 13 columns*"
      ]
    },
    {
      "cell_type": "markdown",
      "metadata": {
        "id": "0rwGjIn8CmML"
      },
      "source": [
        "####**Checking the data types of the columns for the dataset**"
      ]
    },
    {
      "cell_type": "code",
      "execution_count": 98,
      "metadata": {
        "colab": {
          "base_uri": "https://localhost:8080/"
        },
        "id": "VJzNZtiBCmMM",
        "outputId": "f4aba47f-83e1-48c4-8e28-cbe0bd4710d9"
      },
      "outputs": [
        {
          "output_type": "stream",
          "name": "stdout",
          "text": [
            "<class 'pandas.core.frame.DataFrame'>\n",
            "RangeIndex: 29101 entries, 0 to 29100\n",
            "Data columns (total 13 columns):\n",
            " #   Column     Non-Null Count  Dtype  \n",
            "---  ------     --------------  -----  \n",
            " 0   pickup_dt  29101 non-null  object \n",
            " 1   borough    26058 non-null  object \n",
            " 2   pickups    29101 non-null  int64  \n",
            " 3   spd        29101 non-null  float64\n",
            " 4   vsb        29101 non-null  float64\n",
            " 5   temp       28742 non-null  float64\n",
            " 6   dewp       29101 non-null  float64\n",
            " 7   slp        29101 non-null  float64\n",
            " 8   pcp01      29101 non-null  float64\n",
            " 9   pcp06      29101 non-null  float64\n",
            " 10  pcp24      29101 non-null  float64\n",
            " 11  sd         29101 non-null  float64\n",
            " 12  hday       29101 non-null  object \n",
            "dtypes: float64(9), int64(1), object(3)\n",
            "memory usage: 2.9+ MB\n"
          ]
        }
      ],
      "source": [
        "df.info()"
      ]
    },
    {
      "cell_type": "markdown",
      "metadata": {
        "id": "xXYKB3CfCmMO"
      },
      "source": [
        "- *All the columns have 29,101 observations except `borough` and `temp` which has 26058 and 28742 observations indicating that there are some missing values in them*\n",
        "- *The `pickup_dt` column is being read as a 'object' data type but it should be in date-time format*\n",
        "- *The `borough` and `hday` columns are of object type while the rest of the columns are numerical in nature*\n",
        "- *The object type columns contain categories in them*"
      ]
    },
    {
      "cell_type": "markdown",
      "metadata": {
        "id": "QDaaq4453upr"
      },
      "source": [
        "#### **Getting the statistical summary for the dataset**"
      ]
    },
    {
      "cell_type": "code",
      "execution_count": 99,
      "metadata": {
        "colab": {
          "base_uri": "https://localhost:8080/",
          "height": 363
        },
        "id": "n1lUl2IoCmMW",
        "outputId": "7fc68764-5734-412f-ae0d-4aef4c68622b"
      },
      "outputs": [
        {
          "output_type": "execute_result",
          "data": {
            "text/plain": [
              "           count         mean         std    min     25%     50%          75%  \\\n",
              "pickups  29101.0   490.215903  995.649536    0.0     1.0    54.0   449.000000   \n",
              "spd      29101.0     5.984924    3.699007    0.0     3.0     6.0     8.000000   \n",
              "vsb      29101.0     8.818125    2.442897    0.0     9.1    10.0    10.000000   \n",
              "temp     28742.0    47.900019   19.798783    2.0    32.0    46.5    65.000000   \n",
              "dewp     29101.0    30.823065   21.283444  -16.0    14.0    30.0    50.000000   \n",
              "slp      29101.0  1017.817938    7.768796  991.4  1012.5  1018.2  1022.900000   \n",
              "pcp01    29101.0     0.003830    0.018933    0.0     0.0     0.0     0.000000   \n",
              "pcp06    29101.0     0.026129    0.093125    0.0     0.0     0.0     0.000000   \n",
              "pcp24    29101.0     0.090464    0.219402    0.0     0.0     0.0     0.050000   \n",
              "sd       29101.0     2.529169    4.520325    0.0     0.0     0.0     2.958333   \n",
              "\n",
              "             max  \n",
              "pickups  7883.00  \n",
              "spd        21.00  \n",
              "vsb        10.00  \n",
              "temp       89.00  \n",
              "dewp       73.00  \n",
              "slp      1043.40  \n",
              "pcp01       0.28  \n",
              "pcp06       1.24  \n",
              "pcp24       2.10  \n",
              "sd         19.00  "
            ],
            "text/html": [
              "\n",
              "  <div id=\"df-8f6d267a-96c7-4397-a215-917ba9413079\" class=\"colab-df-container\">\n",
              "    <div>\n",
              "<style scoped>\n",
              "    .dataframe tbody tr th:only-of-type {\n",
              "        vertical-align: middle;\n",
              "    }\n",
              "\n",
              "    .dataframe tbody tr th {\n",
              "        vertical-align: top;\n",
              "    }\n",
              "\n",
              "    .dataframe thead th {\n",
              "        text-align: right;\n",
              "    }\n",
              "</style>\n",
              "<table border=\"1\" class=\"dataframe\">\n",
              "  <thead>\n",
              "    <tr style=\"text-align: right;\">\n",
              "      <th></th>\n",
              "      <th>count</th>\n",
              "      <th>mean</th>\n",
              "      <th>std</th>\n",
              "      <th>min</th>\n",
              "      <th>25%</th>\n",
              "      <th>50%</th>\n",
              "      <th>75%</th>\n",
              "      <th>max</th>\n",
              "    </tr>\n",
              "  </thead>\n",
              "  <tbody>\n",
              "    <tr>\n",
              "      <th>pickups</th>\n",
              "      <td>29101.0</td>\n",
              "      <td>490.215903</td>\n",
              "      <td>995.649536</td>\n",
              "      <td>0.0</td>\n",
              "      <td>1.0</td>\n",
              "      <td>54.0</td>\n",
              "      <td>449.000000</td>\n",
              "      <td>7883.00</td>\n",
              "    </tr>\n",
              "    <tr>\n",
              "      <th>spd</th>\n",
              "      <td>29101.0</td>\n",
              "      <td>5.984924</td>\n",
              "      <td>3.699007</td>\n",
              "      <td>0.0</td>\n",
              "      <td>3.0</td>\n",
              "      <td>6.0</td>\n",
              "      <td>8.000000</td>\n",
              "      <td>21.00</td>\n",
              "    </tr>\n",
              "    <tr>\n",
              "      <th>vsb</th>\n",
              "      <td>29101.0</td>\n",
              "      <td>8.818125</td>\n",
              "      <td>2.442897</td>\n",
              "      <td>0.0</td>\n",
              "      <td>9.1</td>\n",
              "      <td>10.0</td>\n",
              "      <td>10.000000</td>\n",
              "      <td>10.00</td>\n",
              "    </tr>\n",
              "    <tr>\n",
              "      <th>temp</th>\n",
              "      <td>28742.0</td>\n",
              "      <td>47.900019</td>\n",
              "      <td>19.798783</td>\n",
              "      <td>2.0</td>\n",
              "      <td>32.0</td>\n",
              "      <td>46.5</td>\n",
              "      <td>65.000000</td>\n",
              "      <td>89.00</td>\n",
              "    </tr>\n",
              "    <tr>\n",
              "      <th>dewp</th>\n",
              "      <td>29101.0</td>\n",
              "      <td>30.823065</td>\n",
              "      <td>21.283444</td>\n",
              "      <td>-16.0</td>\n",
              "      <td>14.0</td>\n",
              "      <td>30.0</td>\n",
              "      <td>50.000000</td>\n",
              "      <td>73.00</td>\n",
              "    </tr>\n",
              "    <tr>\n",
              "      <th>slp</th>\n",
              "      <td>29101.0</td>\n",
              "      <td>1017.817938</td>\n",
              "      <td>7.768796</td>\n",
              "      <td>991.4</td>\n",
              "      <td>1012.5</td>\n",
              "      <td>1018.2</td>\n",
              "      <td>1022.900000</td>\n",
              "      <td>1043.40</td>\n",
              "    </tr>\n",
              "    <tr>\n",
              "      <th>pcp01</th>\n",
              "      <td>29101.0</td>\n",
              "      <td>0.003830</td>\n",
              "      <td>0.018933</td>\n",
              "      <td>0.0</td>\n",
              "      <td>0.0</td>\n",
              "      <td>0.0</td>\n",
              "      <td>0.000000</td>\n",
              "      <td>0.28</td>\n",
              "    </tr>\n",
              "    <tr>\n",
              "      <th>pcp06</th>\n",
              "      <td>29101.0</td>\n",
              "      <td>0.026129</td>\n",
              "      <td>0.093125</td>\n",
              "      <td>0.0</td>\n",
              "      <td>0.0</td>\n",
              "      <td>0.0</td>\n",
              "      <td>0.000000</td>\n",
              "      <td>1.24</td>\n",
              "    </tr>\n",
              "    <tr>\n",
              "      <th>pcp24</th>\n",
              "      <td>29101.0</td>\n",
              "      <td>0.090464</td>\n",
              "      <td>0.219402</td>\n",
              "      <td>0.0</td>\n",
              "      <td>0.0</td>\n",
              "      <td>0.0</td>\n",
              "      <td>0.050000</td>\n",
              "      <td>2.10</td>\n",
              "    </tr>\n",
              "    <tr>\n",
              "      <th>sd</th>\n",
              "      <td>29101.0</td>\n",
              "      <td>2.529169</td>\n",
              "      <td>4.520325</td>\n",
              "      <td>0.0</td>\n",
              "      <td>0.0</td>\n",
              "      <td>0.0</td>\n",
              "      <td>2.958333</td>\n",
              "      <td>19.00</td>\n",
              "    </tr>\n",
              "  </tbody>\n",
              "</table>\n",
              "</div>\n",
              "    <div class=\"colab-df-buttons\">\n",
              "\n",
              "  <div class=\"colab-df-container\">\n",
              "    <button class=\"colab-df-convert\" onclick=\"convertToInteractive('df-8f6d267a-96c7-4397-a215-917ba9413079')\"\n",
              "            title=\"Convert this dataframe to an interactive table.\"\n",
              "            style=\"display:none;\">\n",
              "\n",
              "  <svg xmlns=\"http://www.w3.org/2000/svg\" height=\"24px\" viewBox=\"0 -960 960 960\">\n",
              "    <path d=\"M120-120v-720h720v720H120Zm60-500h600v-160H180v160Zm220 220h160v-160H400v160Zm0 220h160v-160H400v160ZM180-400h160v-160H180v160Zm440 0h160v-160H620v160ZM180-180h160v-160H180v160Zm440 0h160v-160H620v160Z\"/>\n",
              "  </svg>\n",
              "    </button>\n",
              "\n",
              "  <style>\n",
              "    .colab-df-container {\n",
              "      display:flex;\n",
              "      gap: 12px;\n",
              "    }\n",
              "\n",
              "    .colab-df-convert {\n",
              "      background-color: #E8F0FE;\n",
              "      border: none;\n",
              "      border-radius: 50%;\n",
              "      cursor: pointer;\n",
              "      display: none;\n",
              "      fill: #1967D2;\n",
              "      height: 32px;\n",
              "      padding: 0 0 0 0;\n",
              "      width: 32px;\n",
              "    }\n",
              "\n",
              "    .colab-df-convert:hover {\n",
              "      background-color: #E2EBFA;\n",
              "      box-shadow: 0px 1px 2px rgba(60, 64, 67, 0.3), 0px 1px 3px 1px rgba(60, 64, 67, 0.15);\n",
              "      fill: #174EA6;\n",
              "    }\n",
              "\n",
              "    .colab-df-buttons div {\n",
              "      margin-bottom: 4px;\n",
              "    }\n",
              "\n",
              "    [theme=dark] .colab-df-convert {\n",
              "      background-color: #3B4455;\n",
              "      fill: #D2E3FC;\n",
              "    }\n",
              "\n",
              "    [theme=dark] .colab-df-convert:hover {\n",
              "      background-color: #434B5C;\n",
              "      box-shadow: 0px 1px 3px 1px rgba(0, 0, 0, 0.15);\n",
              "      filter: drop-shadow(0px 1px 2px rgba(0, 0, 0, 0.3));\n",
              "      fill: #FFFFFF;\n",
              "    }\n",
              "  </style>\n",
              "\n",
              "    <script>\n",
              "      const buttonEl =\n",
              "        document.querySelector('#df-8f6d267a-96c7-4397-a215-917ba9413079 button.colab-df-convert');\n",
              "      buttonEl.style.display =\n",
              "        google.colab.kernel.accessAllowed ? 'block' : 'none';\n",
              "\n",
              "      async function convertToInteractive(key) {\n",
              "        const element = document.querySelector('#df-8f6d267a-96c7-4397-a215-917ba9413079');\n",
              "        const dataTable =\n",
              "          await google.colab.kernel.invokeFunction('convertToInteractive',\n",
              "                                                    [key], {});\n",
              "        if (!dataTable) return;\n",
              "\n",
              "        const docLinkHtml = 'Like what you see? Visit the ' +\n",
              "          '<a target=\"_blank\" href=https://colab.research.google.com/notebooks/data_table.ipynb>data table notebook</a>'\n",
              "          + ' to learn more about interactive tables.';\n",
              "        element.innerHTML = '';\n",
              "        dataTable['output_type'] = 'display_data';\n",
              "        await google.colab.output.renderOutput(dataTable, element);\n",
              "        const docLink = document.createElement('div');\n",
              "        docLink.innerHTML = docLinkHtml;\n",
              "        element.appendChild(docLink);\n",
              "      }\n",
              "    </script>\n",
              "  </div>\n",
              "\n",
              "\n",
              "    <div id=\"df-26444da4-96b0-40a9-9c3c-aa18a49ccf6b\">\n",
              "      <button class=\"colab-df-quickchart\" onclick=\"quickchart('df-26444da4-96b0-40a9-9c3c-aa18a49ccf6b')\"\n",
              "                title=\"Suggest charts\"\n",
              "                style=\"display:none;\">\n",
              "\n",
              "<svg xmlns=\"http://www.w3.org/2000/svg\" height=\"24px\"viewBox=\"0 0 24 24\"\n",
              "     width=\"24px\">\n",
              "    <g>\n",
              "        <path d=\"M19 3H5c-1.1 0-2 .9-2 2v14c0 1.1.9 2 2 2h14c1.1 0 2-.9 2-2V5c0-1.1-.9-2-2-2zM9 17H7v-7h2v7zm4 0h-2V7h2v10zm4 0h-2v-4h2v4z\"/>\n",
              "    </g>\n",
              "</svg>\n",
              "      </button>\n",
              "\n",
              "<style>\n",
              "  .colab-df-quickchart {\n",
              "      --bg-color: #E8F0FE;\n",
              "      --fill-color: #1967D2;\n",
              "      --hover-bg-color: #E2EBFA;\n",
              "      --hover-fill-color: #174EA6;\n",
              "      --disabled-fill-color: #AAA;\n",
              "      --disabled-bg-color: #DDD;\n",
              "  }\n",
              "\n",
              "  [theme=dark] .colab-df-quickchart {\n",
              "      --bg-color: #3B4455;\n",
              "      --fill-color: #D2E3FC;\n",
              "      --hover-bg-color: #434B5C;\n",
              "      --hover-fill-color: #FFFFFF;\n",
              "      --disabled-bg-color: #3B4455;\n",
              "      --disabled-fill-color: #666;\n",
              "  }\n",
              "\n",
              "  .colab-df-quickchart {\n",
              "    background-color: var(--bg-color);\n",
              "    border: none;\n",
              "    border-radius: 50%;\n",
              "    cursor: pointer;\n",
              "    display: none;\n",
              "    fill: var(--fill-color);\n",
              "    height: 32px;\n",
              "    padding: 0;\n",
              "    width: 32px;\n",
              "  }\n",
              "\n",
              "  .colab-df-quickchart:hover {\n",
              "    background-color: var(--hover-bg-color);\n",
              "    box-shadow: 0 1px 2px rgba(60, 64, 67, 0.3), 0 1px 3px 1px rgba(60, 64, 67, 0.15);\n",
              "    fill: var(--button-hover-fill-color);\n",
              "  }\n",
              "\n",
              "  .colab-df-quickchart-complete:disabled,\n",
              "  .colab-df-quickchart-complete:disabled:hover {\n",
              "    background-color: var(--disabled-bg-color);\n",
              "    fill: var(--disabled-fill-color);\n",
              "    box-shadow: none;\n",
              "  }\n",
              "\n",
              "  .colab-df-spinner {\n",
              "    border: 2px solid var(--fill-color);\n",
              "    border-color: transparent;\n",
              "    border-bottom-color: var(--fill-color);\n",
              "    animation:\n",
              "      spin 1s steps(1) infinite;\n",
              "  }\n",
              "\n",
              "  @keyframes spin {\n",
              "    0% {\n",
              "      border-color: transparent;\n",
              "      border-bottom-color: var(--fill-color);\n",
              "      border-left-color: var(--fill-color);\n",
              "    }\n",
              "    20% {\n",
              "      border-color: transparent;\n",
              "      border-left-color: var(--fill-color);\n",
              "      border-top-color: var(--fill-color);\n",
              "    }\n",
              "    30% {\n",
              "      border-color: transparent;\n",
              "      border-left-color: var(--fill-color);\n",
              "      border-top-color: var(--fill-color);\n",
              "      border-right-color: var(--fill-color);\n",
              "    }\n",
              "    40% {\n",
              "      border-color: transparent;\n",
              "      border-right-color: var(--fill-color);\n",
              "      border-top-color: var(--fill-color);\n",
              "    }\n",
              "    60% {\n",
              "      border-color: transparent;\n",
              "      border-right-color: var(--fill-color);\n",
              "    }\n",
              "    80% {\n",
              "      border-color: transparent;\n",
              "      border-right-color: var(--fill-color);\n",
              "      border-bottom-color: var(--fill-color);\n",
              "    }\n",
              "    90% {\n",
              "      border-color: transparent;\n",
              "      border-bottom-color: var(--fill-color);\n",
              "    }\n",
              "  }\n",
              "</style>\n",
              "\n",
              "      <script>\n",
              "        async function quickchart(key) {\n",
              "          const quickchartButtonEl =\n",
              "            document.querySelector('#' + key + ' button');\n",
              "          quickchartButtonEl.disabled = true;  // To prevent multiple clicks.\n",
              "          quickchartButtonEl.classList.add('colab-df-spinner');\n",
              "          try {\n",
              "            const charts = await google.colab.kernel.invokeFunction(\n",
              "                'suggestCharts', [key], {});\n",
              "          } catch (error) {\n",
              "            console.error('Error during call to suggestCharts:', error);\n",
              "          }\n",
              "          quickchartButtonEl.classList.remove('colab-df-spinner');\n",
              "          quickchartButtonEl.classList.add('colab-df-quickchart-complete');\n",
              "        }\n",
              "        (() => {\n",
              "          let quickchartButtonEl =\n",
              "            document.querySelector('#df-26444da4-96b0-40a9-9c3c-aa18a49ccf6b button');\n",
              "          quickchartButtonEl.style.display =\n",
              "            google.colab.kernel.accessAllowed ? 'block' : 'none';\n",
              "        })();\n",
              "      </script>\n",
              "    </div>\n",
              "\n",
              "    </div>\n",
              "  </div>\n"
            ],
            "application/vnd.google.colaboratory.intrinsic+json": {
              "type": "dataframe",
              "summary": "{\n  \"name\": \"df\",\n  \"rows\": 10,\n  \"fields\": [\n    {\n      \"column\": \"count\",\n      \"properties\": {\n        \"dtype\": \"number\",\n        \"std\": 113.5257680000448,\n        \"min\": 28742.0,\n        \"max\": 29101.0,\n        \"num_unique_values\": 2,\n        \"samples\": [\n          28742.0,\n          29101.0\n        ],\n        \"semantic_type\": \"\",\n        \"description\": \"\"\n      }\n    },\n    {\n      \"column\": \"mean\",\n      \"properties\": {\n        \"dtype\": \"number\",\n        \"std\": 337.0263111929084,\n        \"min\": 0.0038301490194151406,\n        \"max\": 1017.81793752792,\n        \"num_unique_values\": 10,\n        \"samples\": [\n          0.09046437119992438,\n          5.9849241803146285\n        ],\n        \"semantic_type\": \"\",\n        \"description\": \"\"\n      }\n    },\n    {\n      \"column\": \"std\",\n      \"properties\": {\n        \"dtype\": \"number\",\n        \"std\": 312.84654713431075,\n        \"min\": 0.01893306514418863,\n        \"max\": 995.6495355004179,\n        \"num_unique_values\": 10,\n        \"samples\": [\n          0.219402201691659,\n          3.699007242118309\n        ],\n        \"semantic_type\": \"\",\n        \"description\": \"\"\n      }\n    },\n    {\n      \"column\": \"min\",\n      \"properties\": {\n        \"dtype\": \"number\",\n        \"std\": 314.04226254863636,\n        \"min\": -16.0,\n        \"max\": 991.4,\n        \"num_unique_values\": 4,\n        \"samples\": [\n          2.0,\n          991.4\n        ],\n        \"semantic_type\": \"\",\n        \"description\": \"\"\n      }\n    },\n    {\n      \"column\": \"25%\",\n      \"properties\": {\n        \"dtype\": \"number\",\n        \"std\": 318.26550830678747,\n        \"min\": 0.0,\n        \"max\": 1012.5,\n        \"num_unique_values\": 7,\n        \"samples\": [\n          1.0,\n          3.0\n        ],\n        \"semantic_type\": \"\",\n        \"description\": \"\"\n      }\n    },\n    {\n      \"column\": \"50%\",\n      \"properties\": {\n        \"dtype\": \"number\",\n        \"std\": 317.48891161739806,\n        \"min\": 0.0,\n        \"max\": 1018.2,\n        \"num_unique_values\": 7,\n        \"samples\": [\n          54.0,\n          6.0\n        ],\n        \"semantic_type\": \"\",\n        \"description\": \"\"\n      }\n    },\n    {\n      \"column\": \"75%\",\n      \"properties\": {\n        \"dtype\": \"number\",\n        \"std\": 332.71379816358325,\n        \"min\": 0.0,\n        \"max\": 1022.9,\n        \"num_unique_values\": 9,\n        \"samples\": [\n          0.05,\n          8.0\n        ],\n        \"semantic_type\": \"\",\n        \"description\": \"\"\n      }\n    },\n    {\n      \"column\": \"max\",\n      \"properties\": {\n        \"dtype\": \"number\",\n        \"std\": 2469.5226173394544,\n        \"min\": 0.28,\n        \"max\": 7883.0,\n        \"num_unique_values\": 10,\n        \"samples\": [\n          2.1,\n          21.0\n        ],\n        \"semantic_type\": \"\",\n        \"description\": \"\"\n      }\n    }\n  ]\n}"
            }
          },
          "metadata": {},
          "execution_count": 99
        }
      ],
      "source": [
        "df.describe().T"
      ]
    },
    {
      "cell_type": "markdown",
      "metadata": {
        "id": "x_PhyHxL3ups"
      },
      "source": [
        "- *There is a huge difference between the 3rd quartile and the maximum value for the number of pickups (`pickups`) and snow depth (`sd`) indicating that there might be outliers to the right in these variables*\n",
        "- *The temperature has a wide range indicating that data consists of entries for different seasons*"
      ]
    },
    {
      "cell_type": "markdown",
      "metadata": {
        "id": "svBC9nXK3upt"
      },
      "source": [
        "**Let's check the count of each unique category in each of the categorical/object type variables.**"
      ]
    },
    {
      "cell_type": "code",
      "execution_count": 100,
      "metadata": {
        "colab": {
          "base_uri": "https://localhost:8080/"
        },
        "id": "fFdmyY41d4zX",
        "outputId": "2d2ded12-482d-4608-9b6f-8166fdc2bd65"
      },
      "outputs": [
        {
          "output_type": "execute_result",
          "data": {
            "text/plain": [
              "array(['Bronx', 'Brooklyn', 'EWR', 'Manhattan', 'Queens', 'Staten Island',\n",
              "       nan], dtype=object)"
            ]
          },
          "metadata": {},
          "execution_count": 100
        }
      ],
      "source": [
        "df['borough'].unique()"
      ]
    },
    {
      "cell_type": "markdown",
      "metadata": {
        "id": "BYxuTDfyelS_"
      },
      "source": [
        "- *We can observe that there are 6 unique boroughs present in the dataset for New York*"
      ]
    },
    {
      "cell_type": "code",
      "execution_count": 101,
      "metadata": {
        "colab": {
          "base_uri": "https://localhost:8080/",
          "height": 178
        },
        "id": "w7a6Jc09d-sK",
        "outputId": "e780ebe0-b5b7-40d6-db29-1672bff7bd54"
      },
      "outputs": [
        {
          "output_type": "execute_result",
          "data": {
            "text/plain": [
              "hday\n",
              "N    0.961479\n",
              "Y    0.038521\n",
              "Name: proportion, dtype: float64"
            ],
            "text/html": [
              "<div>\n",
              "<style scoped>\n",
              "    .dataframe tbody tr th:only-of-type {\n",
              "        vertical-align: middle;\n",
              "    }\n",
              "\n",
              "    .dataframe tbody tr th {\n",
              "        vertical-align: top;\n",
              "    }\n",
              "\n",
              "    .dataframe thead th {\n",
              "        text-align: right;\n",
              "    }\n",
              "</style>\n",
              "<table border=\"1\" class=\"dataframe\">\n",
              "  <thead>\n",
              "    <tr style=\"text-align: right;\">\n",
              "      <th></th>\n",
              "      <th>proportion</th>\n",
              "    </tr>\n",
              "    <tr>\n",
              "      <th>hday</th>\n",
              "      <th></th>\n",
              "    </tr>\n",
              "  </thead>\n",
              "  <tbody>\n",
              "    <tr>\n",
              "      <th>N</th>\n",
              "      <td>0.961479</td>\n",
              "    </tr>\n",
              "    <tr>\n",
              "      <th>Y</th>\n",
              "      <td>0.038521</td>\n",
              "    </tr>\n",
              "  </tbody>\n",
              "</table>\n",
              "</div><br><label><b>dtype:</b> float64</label>"
            ]
          },
          "metadata": {},
          "execution_count": 101
        }
      ],
      "source": [
        "df['hday'].value_counts(normalize=True)"
      ]
    },
    {
      "cell_type": "markdown",
      "metadata": {
        "id": "3sUd75Rs3upu"
      },
      "source": [
        "- *The number of non-holiday observations is much more than holiday observations which make sense*\n",
        "-*Around 96% of the observations are from non-holidays*\n"
      ]
    },
    {
      "cell_type": "markdown",
      "metadata": {
        "id": "hoo-dGeRYjiN"
      },
      "source": [
        "We have observed earlier that the data type for `pickup_dt` is object in nature. Let us change the data type of `pickup_dt` to date-time format."
      ]
    },
    {
      "cell_type": "markdown",
      "metadata": {
        "id": "HSpYcGWICmMP"
      },
      "source": [
        "#### **Fixing the datatypes**"
      ]
    },
    {
      "cell_type": "code",
      "execution_count": 102,
      "metadata": {
        "id": "HlVBWhiPCmMP"
      },
      "outputs": [],
      "source": [
        "df['pickup_dt'] = pd.to_datetime(df['pickup_dt'], format=\"%d-%m-%Y %H:%M\")"
      ]
    },
    {
      "cell_type": "markdown",
      "metadata": {
        "id": "Si33SFEfqrKu"
      },
      "source": [
        "Let's check the data types of the columns again to ensure that the change has been executed properly."
      ]
    },
    {
      "cell_type": "code",
      "execution_count": 103,
      "metadata": {
        "colab": {
          "base_uri": "https://localhost:8080/"
        },
        "id": "vF39s0gSCmMU",
        "outputId": "a15db035-3195-4660-d3fb-596fae696830"
      },
      "outputs": [
        {
          "output_type": "stream",
          "name": "stdout",
          "text": [
            "<class 'pandas.core.frame.DataFrame'>\n",
            "RangeIndex: 29101 entries, 0 to 29100\n",
            "Data columns (total 13 columns):\n",
            " #   Column     Non-Null Count  Dtype         \n",
            "---  ------     --------------  -----         \n",
            " 0   pickup_dt  29101 non-null  datetime64[ns]\n",
            " 1   borough    26058 non-null  object        \n",
            " 2   pickups    29101 non-null  int64         \n",
            " 3   spd        29101 non-null  float64       \n",
            " 4   vsb        29101 non-null  float64       \n",
            " 5   temp       28742 non-null  float64       \n",
            " 6   dewp       29101 non-null  float64       \n",
            " 7   slp        29101 non-null  float64       \n",
            " 8   pcp01      29101 non-null  float64       \n",
            " 9   pcp06      29101 non-null  float64       \n",
            " 10  pcp24      29101 non-null  float64       \n",
            " 11  sd         29101 non-null  float64       \n",
            " 12  hday       29101 non-null  object        \n",
            "dtypes: datetime64[ns](1), float64(9), int64(1), object(2)\n",
            "memory usage: 2.9+ MB\n"
          ]
        }
      ],
      "source": [
        "df.info()"
      ]
    },
    {
      "cell_type": "markdown",
      "metadata": {
        "id": "jV0KJY5xCmMW"
      },
      "source": [
        "- *The data type of the `pickup_dt` column has been succesfully changed to date-time format*\n",
        "- *There are now 10 numerical columns, 2 object type columns and 1 date-time column*"
      ]
    },
    {
      "cell_type": "markdown",
      "metadata": {
        "id": "aTiD4ChKtFxj"
      },
      "source": [
        "Now let's check the range of time period for which the data has been collected."
      ]
    },
    {
      "cell_type": "code",
      "execution_count": 104,
      "metadata": {
        "colab": {
          "base_uri": "https://localhost:8080/"
        },
        "id": "UJM-e_7HtPpl",
        "outputId": "03686a01-3e4e-476c-f1c4-a2ffb7e09845"
      },
      "outputs": [
        {
          "output_type": "execute_result",
          "data": {
            "text/plain": [
              "Timestamp('2015-01-01 01:00:00')"
            ]
          },
          "metadata": {},
          "execution_count": 104
        }
      ],
      "source": [
        "df['pickup_dt'].min() # this will display the date from which data observations have been started"
      ]
    },
    {
      "cell_type": "code",
      "execution_count": 105,
      "metadata": {
        "colab": {
          "base_uri": "https://localhost:8080/"
        },
        "id": "uygASkFXthBs",
        "outputId": "7f4ecf61-2fd4-4c20-ba30-79e917931685"
      },
      "outputs": [
        {
          "output_type": "execute_result",
          "data": {
            "text/plain": [
              "Timestamp('2015-06-30 23:00:00')"
            ]
          },
          "metadata": {},
          "execution_count": 105
        }
      ],
      "source": [
        "df['pickup_dt'].max() # this will display the last date of the dataset"
      ]
    },
    {
      "cell_type": "markdown",
      "metadata": {
        "id": "b4CIghmotkNC"
      },
      "source": [
        "- *So the time period for the data is from Janunary to June for the year 2015*\n",
        "- *There is a significant difference in the weather conditions in this period which we have observed from our statistical summary for various weather parameters such as temperature ranging from 2F to 89F*"
      ]
    },
    {
      "cell_type": "markdown",
      "metadata": {
        "id": "mu2vg3EMCmMY"
      },
      "source": [
        "Since the `pickup_dt` column contains the combined information in the form of date, month, year and time of the day, let's extract each piece of information as a separate entity to get the trend of rides varying over time.\n"
      ]
    },
    {
      "cell_type": "markdown",
      "metadata": {
        "id": "anXwYwBpnzoa"
      },
      "source": [
        "#### **Extracting date parts from pickup date**"
      ]
    },
    {
      "cell_type": "code",
      "execution_count": 106,
      "metadata": {
        "id": "gtg1TE27CmMZ"
      },
      "outputs": [],
      "source": [
        "# Extracting date parts from pickup date\n",
        "df['start_year'] = df.pickup_dt.dt.year # extracting the year from the date\n",
        "df['start_month'] = df.pickup_dt.dt.month_name() # extracting the month name from the date\n",
        "df['start_hour'] = df.pickup_dt.dt.hour # extracting the hour from the time\n",
        "df['start_day'] = df.pickup_dt.dt.day # extracting the day from the date\n",
        "df['week_day'] = df.pickup_dt.dt.day_name() # extracting the day of the week from the date"
      ]
    },
    {
      "cell_type": "markdown",
      "metadata": {
        "id": "NEICdoW_gjov"
      },
      "source": [
        "Now we can remove the `pickup_dt` column from our dataset as it will not be required for further analysis."
      ]
    },
    {
      "cell_type": "code",
      "execution_count": 107,
      "metadata": {
        "id": "mU_CiuTvCmMc"
      },
      "outputs": [],
      "source": [
        "# removing the pickup date column\n",
        "df.drop('pickup_dt',axis=1,inplace=True)"
      ]
    },
    {
      "cell_type": "markdown",
      "metadata": {
        "id": "mLkNWw8PpXIG"
      },
      "source": [
        "**Let's check the first few rows of the dataset to see if changes have been applied properly**"
      ]
    },
    {
      "cell_type": "code",
      "execution_count": 108,
      "metadata": {
        "colab": {
          "base_uri": "https://localhost:8080/",
          "height": 206
        },
        "id": "w5of2J-hphBA",
        "outputId": "09b1f83e-2ddb-4223-81ae-da95e84f9305"
      },
      "outputs": [
        {
          "output_type": "execute_result",
          "data": {
            "text/plain": [
              "     borough  pickups  spd   vsb  temp  dewp     slp  pcp01  pcp06  pcp24  \\\n",
              "0      Bronx      152  5.0  10.0  30.0   7.0  1023.5    0.0    0.0    0.0   \n",
              "1   Brooklyn     1519  5.0  10.0   NaN   7.0  1023.5    0.0    0.0    0.0   \n",
              "2        EWR        0  5.0  10.0  30.0   7.0  1023.5    0.0    0.0    0.0   \n",
              "3  Manhattan     5258  5.0  10.0  30.0   7.0  1023.5    0.0    0.0    0.0   \n",
              "4     Queens      405  5.0  10.0  30.0   7.0  1023.5    0.0    0.0    0.0   \n",
              "\n",
              "    sd hday  start_year start_month  start_hour  start_day  week_day  \n",
              "0  0.0    Y        2015     January           1          1  Thursday  \n",
              "1  0.0    Y        2015     January           1          1  Thursday  \n",
              "2  0.0    Y        2015     January           1          1  Thursday  \n",
              "3  0.0    Y        2015     January           1          1  Thursday  \n",
              "4  0.0    Y        2015     January           1          1  Thursday  "
            ],
            "text/html": [
              "\n",
              "  <div id=\"df-37b00263-cdb3-4fc6-8bcd-fa6e5c2bd6c9\" class=\"colab-df-container\">\n",
              "    <div>\n",
              "<style scoped>\n",
              "    .dataframe tbody tr th:only-of-type {\n",
              "        vertical-align: middle;\n",
              "    }\n",
              "\n",
              "    .dataframe tbody tr th {\n",
              "        vertical-align: top;\n",
              "    }\n",
              "\n",
              "    .dataframe thead th {\n",
              "        text-align: right;\n",
              "    }\n",
              "</style>\n",
              "<table border=\"1\" class=\"dataframe\">\n",
              "  <thead>\n",
              "    <tr style=\"text-align: right;\">\n",
              "      <th></th>\n",
              "      <th>borough</th>\n",
              "      <th>pickups</th>\n",
              "      <th>spd</th>\n",
              "      <th>vsb</th>\n",
              "      <th>temp</th>\n",
              "      <th>dewp</th>\n",
              "      <th>slp</th>\n",
              "      <th>pcp01</th>\n",
              "      <th>pcp06</th>\n",
              "      <th>pcp24</th>\n",
              "      <th>sd</th>\n",
              "      <th>hday</th>\n",
              "      <th>start_year</th>\n",
              "      <th>start_month</th>\n",
              "      <th>start_hour</th>\n",
              "      <th>start_day</th>\n",
              "      <th>week_day</th>\n",
              "    </tr>\n",
              "  </thead>\n",
              "  <tbody>\n",
              "    <tr>\n",
              "      <th>0</th>\n",
              "      <td>Bronx</td>\n",
              "      <td>152</td>\n",
              "      <td>5.0</td>\n",
              "      <td>10.0</td>\n",
              "      <td>30.0</td>\n",
              "      <td>7.0</td>\n",
              "      <td>1023.5</td>\n",
              "      <td>0.0</td>\n",
              "      <td>0.0</td>\n",
              "      <td>0.0</td>\n",
              "      <td>0.0</td>\n",
              "      <td>Y</td>\n",
              "      <td>2015</td>\n",
              "      <td>January</td>\n",
              "      <td>1</td>\n",
              "      <td>1</td>\n",
              "      <td>Thursday</td>\n",
              "    </tr>\n",
              "    <tr>\n",
              "      <th>1</th>\n",
              "      <td>Brooklyn</td>\n",
              "      <td>1519</td>\n",
              "      <td>5.0</td>\n",
              "      <td>10.0</td>\n",
              "      <td>NaN</td>\n",
              "      <td>7.0</td>\n",
              "      <td>1023.5</td>\n",
              "      <td>0.0</td>\n",
              "      <td>0.0</td>\n",
              "      <td>0.0</td>\n",
              "      <td>0.0</td>\n",
              "      <td>Y</td>\n",
              "      <td>2015</td>\n",
              "      <td>January</td>\n",
              "      <td>1</td>\n",
              "      <td>1</td>\n",
              "      <td>Thursday</td>\n",
              "    </tr>\n",
              "    <tr>\n",
              "      <th>2</th>\n",
              "      <td>EWR</td>\n",
              "      <td>0</td>\n",
              "      <td>5.0</td>\n",
              "      <td>10.0</td>\n",
              "      <td>30.0</td>\n",
              "      <td>7.0</td>\n",
              "      <td>1023.5</td>\n",
              "      <td>0.0</td>\n",
              "      <td>0.0</td>\n",
              "      <td>0.0</td>\n",
              "      <td>0.0</td>\n",
              "      <td>Y</td>\n",
              "      <td>2015</td>\n",
              "      <td>January</td>\n",
              "      <td>1</td>\n",
              "      <td>1</td>\n",
              "      <td>Thursday</td>\n",
              "    </tr>\n",
              "    <tr>\n",
              "      <th>3</th>\n",
              "      <td>Manhattan</td>\n",
              "      <td>5258</td>\n",
              "      <td>5.0</td>\n",
              "      <td>10.0</td>\n",
              "      <td>30.0</td>\n",
              "      <td>7.0</td>\n",
              "      <td>1023.5</td>\n",
              "      <td>0.0</td>\n",
              "      <td>0.0</td>\n",
              "      <td>0.0</td>\n",
              "      <td>0.0</td>\n",
              "      <td>Y</td>\n",
              "      <td>2015</td>\n",
              "      <td>January</td>\n",
              "      <td>1</td>\n",
              "      <td>1</td>\n",
              "      <td>Thursday</td>\n",
              "    </tr>\n",
              "    <tr>\n",
              "      <th>4</th>\n",
              "      <td>Queens</td>\n",
              "      <td>405</td>\n",
              "      <td>5.0</td>\n",
              "      <td>10.0</td>\n",
              "      <td>30.0</td>\n",
              "      <td>7.0</td>\n",
              "      <td>1023.5</td>\n",
              "      <td>0.0</td>\n",
              "      <td>0.0</td>\n",
              "      <td>0.0</td>\n",
              "      <td>0.0</td>\n",
              "      <td>Y</td>\n",
              "      <td>2015</td>\n",
              "      <td>January</td>\n",
              "      <td>1</td>\n",
              "      <td>1</td>\n",
              "      <td>Thursday</td>\n",
              "    </tr>\n",
              "  </tbody>\n",
              "</table>\n",
              "</div>\n",
              "    <div class=\"colab-df-buttons\">\n",
              "\n",
              "  <div class=\"colab-df-container\">\n",
              "    <button class=\"colab-df-convert\" onclick=\"convertToInteractive('df-37b00263-cdb3-4fc6-8bcd-fa6e5c2bd6c9')\"\n",
              "            title=\"Convert this dataframe to an interactive table.\"\n",
              "            style=\"display:none;\">\n",
              "\n",
              "  <svg xmlns=\"http://www.w3.org/2000/svg\" height=\"24px\" viewBox=\"0 -960 960 960\">\n",
              "    <path d=\"M120-120v-720h720v720H120Zm60-500h600v-160H180v160Zm220 220h160v-160H400v160Zm0 220h160v-160H400v160ZM180-400h160v-160H180v160Zm440 0h160v-160H620v160ZM180-180h160v-160H180v160Zm440 0h160v-160H620v160Z\"/>\n",
              "  </svg>\n",
              "    </button>\n",
              "\n",
              "  <style>\n",
              "    .colab-df-container {\n",
              "      display:flex;\n",
              "      gap: 12px;\n",
              "    }\n",
              "\n",
              "    .colab-df-convert {\n",
              "      background-color: #E8F0FE;\n",
              "      border: none;\n",
              "      border-radius: 50%;\n",
              "      cursor: pointer;\n",
              "      display: none;\n",
              "      fill: #1967D2;\n",
              "      height: 32px;\n",
              "      padding: 0 0 0 0;\n",
              "      width: 32px;\n",
              "    }\n",
              "\n",
              "    .colab-df-convert:hover {\n",
              "      background-color: #E2EBFA;\n",
              "      box-shadow: 0px 1px 2px rgba(60, 64, 67, 0.3), 0px 1px 3px 1px rgba(60, 64, 67, 0.15);\n",
              "      fill: #174EA6;\n",
              "    }\n",
              "\n",
              "    .colab-df-buttons div {\n",
              "      margin-bottom: 4px;\n",
              "    }\n",
              "\n",
              "    [theme=dark] .colab-df-convert {\n",
              "      background-color: #3B4455;\n",
              "      fill: #D2E3FC;\n",
              "    }\n",
              "\n",
              "    [theme=dark] .colab-df-convert:hover {\n",
              "      background-color: #434B5C;\n",
              "      box-shadow: 0px 1px 3px 1px rgba(0, 0, 0, 0.15);\n",
              "      filter: drop-shadow(0px 1px 2px rgba(0, 0, 0, 0.3));\n",
              "      fill: #FFFFFF;\n",
              "    }\n",
              "  </style>\n",
              "\n",
              "    <script>\n",
              "      const buttonEl =\n",
              "        document.querySelector('#df-37b00263-cdb3-4fc6-8bcd-fa6e5c2bd6c9 button.colab-df-convert');\n",
              "      buttonEl.style.display =\n",
              "        google.colab.kernel.accessAllowed ? 'block' : 'none';\n",
              "\n",
              "      async function convertToInteractive(key) {\n",
              "        const element = document.querySelector('#df-37b00263-cdb3-4fc6-8bcd-fa6e5c2bd6c9');\n",
              "        const dataTable =\n",
              "          await google.colab.kernel.invokeFunction('convertToInteractive',\n",
              "                                                    [key], {});\n",
              "        if (!dataTable) return;\n",
              "\n",
              "        const docLinkHtml = 'Like what you see? Visit the ' +\n",
              "          '<a target=\"_blank\" href=https://colab.research.google.com/notebooks/data_table.ipynb>data table notebook</a>'\n",
              "          + ' to learn more about interactive tables.';\n",
              "        element.innerHTML = '';\n",
              "        dataTable['output_type'] = 'display_data';\n",
              "        await google.colab.output.renderOutput(dataTable, element);\n",
              "        const docLink = document.createElement('div');\n",
              "        docLink.innerHTML = docLinkHtml;\n",
              "        element.appendChild(docLink);\n",
              "      }\n",
              "    </script>\n",
              "  </div>\n",
              "\n",
              "\n",
              "    <div id=\"df-654b1140-3f1d-46fd-b3ad-9a9e8ab3708c\">\n",
              "      <button class=\"colab-df-quickchart\" onclick=\"quickchart('df-654b1140-3f1d-46fd-b3ad-9a9e8ab3708c')\"\n",
              "                title=\"Suggest charts\"\n",
              "                style=\"display:none;\">\n",
              "\n",
              "<svg xmlns=\"http://www.w3.org/2000/svg\" height=\"24px\"viewBox=\"0 0 24 24\"\n",
              "     width=\"24px\">\n",
              "    <g>\n",
              "        <path d=\"M19 3H5c-1.1 0-2 .9-2 2v14c0 1.1.9 2 2 2h14c1.1 0 2-.9 2-2V5c0-1.1-.9-2-2-2zM9 17H7v-7h2v7zm4 0h-2V7h2v10zm4 0h-2v-4h2v4z\"/>\n",
              "    </g>\n",
              "</svg>\n",
              "      </button>\n",
              "\n",
              "<style>\n",
              "  .colab-df-quickchart {\n",
              "      --bg-color: #E8F0FE;\n",
              "      --fill-color: #1967D2;\n",
              "      --hover-bg-color: #E2EBFA;\n",
              "      --hover-fill-color: #174EA6;\n",
              "      --disabled-fill-color: #AAA;\n",
              "      --disabled-bg-color: #DDD;\n",
              "  }\n",
              "\n",
              "  [theme=dark] .colab-df-quickchart {\n",
              "      --bg-color: #3B4455;\n",
              "      --fill-color: #D2E3FC;\n",
              "      --hover-bg-color: #434B5C;\n",
              "      --hover-fill-color: #FFFFFF;\n",
              "      --disabled-bg-color: #3B4455;\n",
              "      --disabled-fill-color: #666;\n",
              "  }\n",
              "\n",
              "  .colab-df-quickchart {\n",
              "    background-color: var(--bg-color);\n",
              "    border: none;\n",
              "    border-radius: 50%;\n",
              "    cursor: pointer;\n",
              "    display: none;\n",
              "    fill: var(--fill-color);\n",
              "    height: 32px;\n",
              "    padding: 0;\n",
              "    width: 32px;\n",
              "  }\n",
              "\n",
              "  .colab-df-quickchart:hover {\n",
              "    background-color: var(--hover-bg-color);\n",
              "    box-shadow: 0 1px 2px rgba(60, 64, 67, 0.3), 0 1px 3px 1px rgba(60, 64, 67, 0.15);\n",
              "    fill: var(--button-hover-fill-color);\n",
              "  }\n",
              "\n",
              "  .colab-df-quickchart-complete:disabled,\n",
              "  .colab-df-quickchart-complete:disabled:hover {\n",
              "    background-color: var(--disabled-bg-color);\n",
              "    fill: var(--disabled-fill-color);\n",
              "    box-shadow: none;\n",
              "  }\n",
              "\n",
              "  .colab-df-spinner {\n",
              "    border: 2px solid var(--fill-color);\n",
              "    border-color: transparent;\n",
              "    border-bottom-color: var(--fill-color);\n",
              "    animation:\n",
              "      spin 1s steps(1) infinite;\n",
              "  }\n",
              "\n",
              "  @keyframes spin {\n",
              "    0% {\n",
              "      border-color: transparent;\n",
              "      border-bottom-color: var(--fill-color);\n",
              "      border-left-color: var(--fill-color);\n",
              "    }\n",
              "    20% {\n",
              "      border-color: transparent;\n",
              "      border-left-color: var(--fill-color);\n",
              "      border-top-color: var(--fill-color);\n",
              "    }\n",
              "    30% {\n",
              "      border-color: transparent;\n",
              "      border-left-color: var(--fill-color);\n",
              "      border-top-color: var(--fill-color);\n",
              "      border-right-color: var(--fill-color);\n",
              "    }\n",
              "    40% {\n",
              "      border-color: transparent;\n",
              "      border-right-color: var(--fill-color);\n",
              "      border-top-color: var(--fill-color);\n",
              "    }\n",
              "    60% {\n",
              "      border-color: transparent;\n",
              "      border-right-color: var(--fill-color);\n",
              "    }\n",
              "    80% {\n",
              "      border-color: transparent;\n",
              "      border-right-color: var(--fill-color);\n",
              "      border-bottom-color: var(--fill-color);\n",
              "    }\n",
              "    90% {\n",
              "      border-color: transparent;\n",
              "      border-bottom-color: var(--fill-color);\n",
              "    }\n",
              "  }\n",
              "</style>\n",
              "\n",
              "      <script>\n",
              "        async function quickchart(key) {\n",
              "          const quickchartButtonEl =\n",
              "            document.querySelector('#' + key + ' button');\n",
              "          quickchartButtonEl.disabled = true;  // To prevent multiple clicks.\n",
              "          quickchartButtonEl.classList.add('colab-df-spinner');\n",
              "          try {\n",
              "            const charts = await google.colab.kernel.invokeFunction(\n",
              "                'suggestCharts', [key], {});\n",
              "          } catch (error) {\n",
              "            console.error('Error during call to suggestCharts:', error);\n",
              "          }\n",
              "          quickchartButtonEl.classList.remove('colab-df-spinner');\n",
              "          quickchartButtonEl.classList.add('colab-df-quickchart-complete');\n",
              "        }\n",
              "        (() => {\n",
              "          let quickchartButtonEl =\n",
              "            document.querySelector('#df-654b1140-3f1d-46fd-b3ad-9a9e8ab3708c button');\n",
              "          quickchartButtonEl.style.display =\n",
              "            google.colab.kernel.accessAllowed ? 'block' : 'none';\n",
              "        })();\n",
              "      </script>\n",
              "    </div>\n",
              "\n",
              "    </div>\n",
              "  </div>\n"
            ],
            "application/vnd.google.colaboratory.intrinsic+json": {
              "type": "dataframe",
              "variable_name": "df",
              "summary": "{\n  \"name\": \"df\",\n  \"rows\": 29101,\n  \"fields\": [\n    {\n      \"column\": \"borough\",\n      \"properties\": {\n        \"dtype\": \"category\",\n        \"num_unique_values\": 6,\n        \"samples\": [\n          \"Bronx\",\n          \"Brooklyn\",\n          \"Staten Island\"\n        ],\n        \"semantic_type\": \"\",\n        \"description\": \"\"\n      }\n    },\n    {\n      \"column\": \"pickups\",\n      \"properties\": {\n        \"dtype\": \"number\",\n        \"std\": 995,\n        \"min\": 0,\n        \"max\": 7883,\n        \"num_unique_values\": 3406,\n        \"samples\": [\n          672,\n          3340,\n          3062\n        ],\n        \"semantic_type\": \"\",\n        \"description\": \"\"\n      }\n    },\n    {\n      \"column\": \"spd\",\n      \"properties\": {\n        \"dtype\": \"number\",\n        \"std\": 3.699007242118309,\n        \"min\": 0.0,\n        \"max\": 21.0,\n        \"num_unique_values\": 114,\n        \"samples\": [\n          11.66666667,\n          7.0,\n          2.666666667\n        ],\n        \"semantic_type\": \"\",\n        \"description\": \"\"\n      }\n    },\n    {\n      \"column\": \"vsb\",\n      \"properties\": {\n        \"dtype\": \"number\",\n        \"std\": 2.4428973586411757,\n        \"min\": 0.0,\n        \"max\": 10.0,\n        \"num_unique_values\": 179,\n        \"samples\": [\n          1.88,\n          8.0,\n          1.325\n        ],\n        \"semantic_type\": \"\",\n        \"description\": \"\"\n      }\n    },\n    {\n      \"column\": \"temp\",\n      \"properties\": {\n        \"dtype\": \"number\",\n        \"std\": 19.798782931248635,\n        \"min\": 2.0,\n        \"max\": 89.0,\n        \"num_unique_values\": 295,\n        \"samples\": [\n          88.0,\n          57.0,\n          31.33333333\n        ],\n        \"semantic_type\": \"\",\n        \"description\": \"\"\n      }\n    },\n    {\n      \"column\": \"dewp\",\n      \"properties\": {\n        \"dtype\": \"number\",\n        \"std\": 21.283444335844486,\n        \"min\": -16.0,\n        \"max\": 73.0,\n        \"num_unique_values\": 305,\n        \"samples\": [\n          39.5,\n          22.16666667,\n          17.25\n        ],\n        \"semantic_type\": \"\",\n        \"description\": \"\"\n      }\n    },\n    {\n      \"column\": \"slp\",\n      \"properties\": {\n        \"dtype\": \"number\",\n        \"std\": 7.768795579962438,\n        \"min\": 991.4,\n        \"max\": 1043.4,\n        \"num_unique_values\": 413,\n        \"samples\": [\n          1002.8,\n          1032.2,\n          1002.7\n        ],\n        \"semantic_type\": \"\",\n        \"description\": \"\"\n      }\n    },\n    {\n      \"column\": \"pcp01\",\n      \"properties\": {\n        \"dtype\": \"number\",\n        \"std\": 0.01893306514418863,\n        \"min\": 0.0,\n        \"max\": 0.28,\n        \"num_unique_values\": 80,\n        \"samples\": [\n          0.125,\n          0.0,\n          0.025\n        ],\n        \"semantic_type\": \"\",\n        \"description\": \"\"\n      }\n    },\n    {\n      \"column\": \"pcp06\",\n      \"properties\": {\n        \"dtype\": \"number\",\n        \"std\": 0.09312533963562859,\n        \"min\": 0.0,\n        \"max\": 1.24,\n        \"num_unique_values\": 318,\n        \"samples\": [\n          0.038333333,\n          0.478333333,\n          0.05\n        ],\n        \"semantic_type\": \"\",\n        \"description\": \"\"\n      }\n    },\n    {\n      \"column\": \"pcp24\",\n      \"properties\": {\n        \"dtype\": \"number\",\n        \"std\": 0.219402201691659,\n        \"min\": 0.0,\n        \"max\": 2.1,\n        \"num_unique_values\": 484,\n        \"samples\": [\n          1.048333333,\n          0.4905,\n          0.164666667\n        ],\n        \"semantic_type\": \"\",\n        \"description\": \"\"\n      }\n    },\n    {\n      \"column\": \"sd\",\n      \"properties\": {\n        \"dtype\": \"number\",\n        \"std\": 4.520325423985724,\n        \"min\": 0.0,\n        \"max\": 19.0,\n        \"num_unique_values\": 419,\n        \"samples\": [\n          10.1875,\n          14.16666667,\n          10.0\n        ],\n        \"semantic_type\": \"\",\n        \"description\": \"\"\n      }\n    },\n    {\n      \"column\": \"hday\",\n      \"properties\": {\n        \"dtype\": \"category\",\n        \"num_unique_values\": 2,\n        \"samples\": [\n          \"N\",\n          \"Y\"\n        ],\n        \"semantic_type\": \"\",\n        \"description\": \"\"\n      }\n    },\n    {\n      \"column\": \"start_year\",\n      \"properties\": {\n        \"dtype\": \"int32\",\n        \"num_unique_values\": 1,\n        \"samples\": [\n          2015\n        ],\n        \"semantic_type\": \"\",\n        \"description\": \"\"\n      }\n    },\n    {\n      \"column\": \"start_month\",\n      \"properties\": {\n        \"dtype\": \"category\",\n        \"num_unique_values\": 6,\n        \"samples\": [\n          \"January\"\n        ],\n        \"semantic_type\": \"\",\n        \"description\": \"\"\n      }\n    },\n    {\n      \"column\": \"start_hour\",\n      \"properties\": {\n        \"dtype\": \"int32\",\n        \"num_unique_values\": 24,\n        \"samples\": [\n          9\n        ],\n        \"semantic_type\": \"\",\n        \"description\": \"\"\n      }\n    },\n    {\n      \"column\": \"start_day\",\n      \"properties\": {\n        \"dtype\": \"int32\",\n        \"num_unique_values\": 31,\n        \"samples\": [\n          28\n        ],\n        \"semantic_type\": \"\",\n        \"description\": \"\"\n      }\n    },\n    {\n      \"column\": \"week_day\",\n      \"properties\": {\n        \"dtype\": \"category\",\n        \"num_unique_values\": 7,\n        \"samples\": [\n          \"Thursday\"\n        ],\n        \"semantic_type\": \"\",\n        \"description\": \"\"\n      }\n    }\n  ]\n}"
            }
          },
          "metadata": {},
          "execution_count": 108
        }
      ],
      "source": [
        "df.head()"
      ]
    },
    {
      "cell_type": "markdown",
      "metadata": {
        "id": "7Udc9MaChL2G"
      },
      "source": [
        "**We can see the changes have been applied to the dataset properly.**"
      ]
    },
    {
      "cell_type": "markdown",
      "metadata": {
        "id": "QU1RkosqigH2"
      },
      "source": [
        "Let's analyze the statistical summary for the new columns added in the dataset."
      ]
    },
    {
      "cell_type": "code",
      "execution_count": 109,
      "metadata": {
        "colab": {
          "base_uri": "https://localhost:8080/",
          "height": 582
        },
        "id": "k-SJ9880CmMi",
        "outputId": "680233f3-cfe8-4635-f356-dab957d5c3ec"
      },
      "outputs": [
        {
          "output_type": "execute_result",
          "data": {
            "text/plain": [
              "               count unique     top   freq         mean         std     min  \\\n",
              "borough        26058      6   Bronx   4343          NaN         NaN     NaN   \n",
              "pickups      29101.0    NaN     NaN    NaN   490.215903  995.649536     0.0   \n",
              "spd          29101.0    NaN     NaN    NaN     5.984924    3.699007     0.0   \n",
              "vsb          29101.0    NaN     NaN    NaN     8.818125    2.442897     0.0   \n",
              "temp         28742.0    NaN     NaN    NaN    47.900019   19.798783     2.0   \n",
              "dewp         29101.0    NaN     NaN    NaN    30.823065   21.283444   -16.0   \n",
              "slp          29101.0    NaN     NaN    NaN  1017.817938    7.768796   991.4   \n",
              "pcp01        29101.0    NaN     NaN    NaN      0.00383    0.018933     0.0   \n",
              "pcp06        29101.0    NaN     NaN    NaN     0.026129    0.093125     0.0   \n",
              "pcp24        29101.0    NaN     NaN    NaN     0.090464    0.219402     0.0   \n",
              "sd           29101.0    NaN     NaN    NaN     2.529169    4.520325     0.0   \n",
              "hday           29101      2       N  27980          NaN         NaN     NaN   \n",
              "start_year   29101.0    NaN     NaN    NaN       2015.0         0.0  2015.0   \n",
              "start_month    29101      6     May   5058          NaN         NaN     NaN   \n",
              "start_hour   29101.0    NaN     NaN    NaN    11.597574    6.907042     0.0   \n",
              "start_day    29101.0    NaN     NaN    NaN     15.62314     8.72504     1.0   \n",
              "week_day       29101      7  Friday   4219          NaN         NaN     NaN   \n",
              "\n",
              "                25%     50%       75%     max  \n",
              "borough         NaN     NaN       NaN     NaN  \n",
              "pickups         1.0    54.0     449.0  7883.0  \n",
              "spd             3.0     6.0       8.0    21.0  \n",
              "vsb             9.1    10.0      10.0    10.0  \n",
              "temp           32.0    46.5      65.0    89.0  \n",
              "dewp           14.0    30.0      50.0    73.0  \n",
              "slp          1012.5  1018.2    1022.9  1043.4  \n",
              "pcp01           0.0     0.0       0.0    0.28  \n",
              "pcp06           0.0     0.0       0.0    1.24  \n",
              "pcp24           0.0     0.0      0.05     2.1  \n",
              "sd              0.0     0.0  2.958333    19.0  \n",
              "hday            NaN     NaN       NaN     NaN  \n",
              "start_year   2015.0  2015.0    2015.0  2015.0  \n",
              "start_month     NaN     NaN       NaN     NaN  \n",
              "start_hour      6.0    12.0      18.0    23.0  \n",
              "start_day       8.0    16.0      23.0    31.0  \n",
              "week_day        NaN     NaN       NaN     NaN  "
            ],
            "text/html": [
              "\n",
              "  <div id=\"df-2205072b-2332-42c9-8cd6-9cb80fbbdd43\" class=\"colab-df-container\">\n",
              "    <div>\n",
              "<style scoped>\n",
              "    .dataframe tbody tr th:only-of-type {\n",
              "        vertical-align: middle;\n",
              "    }\n",
              "\n",
              "    .dataframe tbody tr th {\n",
              "        vertical-align: top;\n",
              "    }\n",
              "\n",
              "    .dataframe thead th {\n",
              "        text-align: right;\n",
              "    }\n",
              "</style>\n",
              "<table border=\"1\" class=\"dataframe\">\n",
              "  <thead>\n",
              "    <tr style=\"text-align: right;\">\n",
              "      <th></th>\n",
              "      <th>count</th>\n",
              "      <th>unique</th>\n",
              "      <th>top</th>\n",
              "      <th>freq</th>\n",
              "      <th>mean</th>\n",
              "      <th>std</th>\n",
              "      <th>min</th>\n",
              "      <th>25%</th>\n",
              "      <th>50%</th>\n",
              "      <th>75%</th>\n",
              "      <th>max</th>\n",
              "    </tr>\n",
              "  </thead>\n",
              "  <tbody>\n",
              "    <tr>\n",
              "      <th>borough</th>\n",
              "      <td>26058</td>\n",
              "      <td>6</td>\n",
              "      <td>Bronx</td>\n",
              "      <td>4343</td>\n",
              "      <td>NaN</td>\n",
              "      <td>NaN</td>\n",
              "      <td>NaN</td>\n",
              "      <td>NaN</td>\n",
              "      <td>NaN</td>\n",
              "      <td>NaN</td>\n",
              "      <td>NaN</td>\n",
              "    </tr>\n",
              "    <tr>\n",
              "      <th>pickups</th>\n",
              "      <td>29101.0</td>\n",
              "      <td>NaN</td>\n",
              "      <td>NaN</td>\n",
              "      <td>NaN</td>\n",
              "      <td>490.215903</td>\n",
              "      <td>995.649536</td>\n",
              "      <td>0.0</td>\n",
              "      <td>1.0</td>\n",
              "      <td>54.0</td>\n",
              "      <td>449.0</td>\n",
              "      <td>7883.0</td>\n",
              "    </tr>\n",
              "    <tr>\n",
              "      <th>spd</th>\n",
              "      <td>29101.0</td>\n",
              "      <td>NaN</td>\n",
              "      <td>NaN</td>\n",
              "      <td>NaN</td>\n",
              "      <td>5.984924</td>\n",
              "      <td>3.699007</td>\n",
              "      <td>0.0</td>\n",
              "      <td>3.0</td>\n",
              "      <td>6.0</td>\n",
              "      <td>8.0</td>\n",
              "      <td>21.0</td>\n",
              "    </tr>\n",
              "    <tr>\n",
              "      <th>vsb</th>\n",
              "      <td>29101.0</td>\n",
              "      <td>NaN</td>\n",
              "      <td>NaN</td>\n",
              "      <td>NaN</td>\n",
              "      <td>8.818125</td>\n",
              "      <td>2.442897</td>\n",
              "      <td>0.0</td>\n",
              "      <td>9.1</td>\n",
              "      <td>10.0</td>\n",
              "      <td>10.0</td>\n",
              "      <td>10.0</td>\n",
              "    </tr>\n",
              "    <tr>\n",
              "      <th>temp</th>\n",
              "      <td>28742.0</td>\n",
              "      <td>NaN</td>\n",
              "      <td>NaN</td>\n",
              "      <td>NaN</td>\n",
              "      <td>47.900019</td>\n",
              "      <td>19.798783</td>\n",
              "      <td>2.0</td>\n",
              "      <td>32.0</td>\n",
              "      <td>46.5</td>\n",
              "      <td>65.0</td>\n",
              "      <td>89.0</td>\n",
              "    </tr>\n",
              "    <tr>\n",
              "      <th>dewp</th>\n",
              "      <td>29101.0</td>\n",
              "      <td>NaN</td>\n",
              "      <td>NaN</td>\n",
              "      <td>NaN</td>\n",
              "      <td>30.823065</td>\n",
              "      <td>21.283444</td>\n",
              "      <td>-16.0</td>\n",
              "      <td>14.0</td>\n",
              "      <td>30.0</td>\n",
              "      <td>50.0</td>\n",
              "      <td>73.0</td>\n",
              "    </tr>\n",
              "    <tr>\n",
              "      <th>slp</th>\n",
              "      <td>29101.0</td>\n",
              "      <td>NaN</td>\n",
              "      <td>NaN</td>\n",
              "      <td>NaN</td>\n",
              "      <td>1017.817938</td>\n",
              "      <td>7.768796</td>\n",
              "      <td>991.4</td>\n",
              "      <td>1012.5</td>\n",
              "      <td>1018.2</td>\n",
              "      <td>1022.9</td>\n",
              "      <td>1043.4</td>\n",
              "    </tr>\n",
              "    <tr>\n",
              "      <th>pcp01</th>\n",
              "      <td>29101.0</td>\n",
              "      <td>NaN</td>\n",
              "      <td>NaN</td>\n",
              "      <td>NaN</td>\n",
              "      <td>0.00383</td>\n",
              "      <td>0.018933</td>\n",
              "      <td>0.0</td>\n",
              "      <td>0.0</td>\n",
              "      <td>0.0</td>\n",
              "      <td>0.0</td>\n",
              "      <td>0.28</td>\n",
              "    </tr>\n",
              "    <tr>\n",
              "      <th>pcp06</th>\n",
              "      <td>29101.0</td>\n",
              "      <td>NaN</td>\n",
              "      <td>NaN</td>\n",
              "      <td>NaN</td>\n",
              "      <td>0.026129</td>\n",
              "      <td>0.093125</td>\n",
              "      <td>0.0</td>\n",
              "      <td>0.0</td>\n",
              "      <td>0.0</td>\n",
              "      <td>0.0</td>\n",
              "      <td>1.24</td>\n",
              "    </tr>\n",
              "    <tr>\n",
              "      <th>pcp24</th>\n",
              "      <td>29101.0</td>\n",
              "      <td>NaN</td>\n",
              "      <td>NaN</td>\n",
              "      <td>NaN</td>\n",
              "      <td>0.090464</td>\n",
              "      <td>0.219402</td>\n",
              "      <td>0.0</td>\n",
              "      <td>0.0</td>\n",
              "      <td>0.0</td>\n",
              "      <td>0.05</td>\n",
              "      <td>2.1</td>\n",
              "    </tr>\n",
              "    <tr>\n",
              "      <th>sd</th>\n",
              "      <td>29101.0</td>\n",
              "      <td>NaN</td>\n",
              "      <td>NaN</td>\n",
              "      <td>NaN</td>\n",
              "      <td>2.529169</td>\n",
              "      <td>4.520325</td>\n",
              "      <td>0.0</td>\n",
              "      <td>0.0</td>\n",
              "      <td>0.0</td>\n",
              "      <td>2.958333</td>\n",
              "      <td>19.0</td>\n",
              "    </tr>\n",
              "    <tr>\n",
              "      <th>hday</th>\n",
              "      <td>29101</td>\n",
              "      <td>2</td>\n",
              "      <td>N</td>\n",
              "      <td>27980</td>\n",
              "      <td>NaN</td>\n",
              "      <td>NaN</td>\n",
              "      <td>NaN</td>\n",
              "      <td>NaN</td>\n",
              "      <td>NaN</td>\n",
              "      <td>NaN</td>\n",
              "      <td>NaN</td>\n",
              "    </tr>\n",
              "    <tr>\n",
              "      <th>start_year</th>\n",
              "      <td>29101.0</td>\n",
              "      <td>NaN</td>\n",
              "      <td>NaN</td>\n",
              "      <td>NaN</td>\n",
              "      <td>2015.0</td>\n",
              "      <td>0.0</td>\n",
              "      <td>2015.0</td>\n",
              "      <td>2015.0</td>\n",
              "      <td>2015.0</td>\n",
              "      <td>2015.0</td>\n",
              "      <td>2015.0</td>\n",
              "    </tr>\n",
              "    <tr>\n",
              "      <th>start_month</th>\n",
              "      <td>29101</td>\n",
              "      <td>6</td>\n",
              "      <td>May</td>\n",
              "      <td>5058</td>\n",
              "      <td>NaN</td>\n",
              "      <td>NaN</td>\n",
              "      <td>NaN</td>\n",
              "      <td>NaN</td>\n",
              "      <td>NaN</td>\n",
              "      <td>NaN</td>\n",
              "      <td>NaN</td>\n",
              "    </tr>\n",
              "    <tr>\n",
              "      <th>start_hour</th>\n",
              "      <td>29101.0</td>\n",
              "      <td>NaN</td>\n",
              "      <td>NaN</td>\n",
              "      <td>NaN</td>\n",
              "      <td>11.597574</td>\n",
              "      <td>6.907042</td>\n",
              "      <td>0.0</td>\n",
              "      <td>6.0</td>\n",
              "      <td>12.0</td>\n",
              "      <td>18.0</td>\n",
              "      <td>23.0</td>\n",
              "    </tr>\n",
              "    <tr>\n",
              "      <th>start_day</th>\n",
              "      <td>29101.0</td>\n",
              "      <td>NaN</td>\n",
              "      <td>NaN</td>\n",
              "      <td>NaN</td>\n",
              "      <td>15.62314</td>\n",
              "      <td>8.72504</td>\n",
              "      <td>1.0</td>\n",
              "      <td>8.0</td>\n",
              "      <td>16.0</td>\n",
              "      <td>23.0</td>\n",
              "      <td>31.0</td>\n",
              "    </tr>\n",
              "    <tr>\n",
              "      <th>week_day</th>\n",
              "      <td>29101</td>\n",
              "      <td>7</td>\n",
              "      <td>Friday</td>\n",
              "      <td>4219</td>\n",
              "      <td>NaN</td>\n",
              "      <td>NaN</td>\n",
              "      <td>NaN</td>\n",
              "      <td>NaN</td>\n",
              "      <td>NaN</td>\n",
              "      <td>NaN</td>\n",
              "      <td>NaN</td>\n",
              "    </tr>\n",
              "  </tbody>\n",
              "</table>\n",
              "</div>\n",
              "    <div class=\"colab-df-buttons\">\n",
              "\n",
              "  <div class=\"colab-df-container\">\n",
              "    <button class=\"colab-df-convert\" onclick=\"convertToInteractive('df-2205072b-2332-42c9-8cd6-9cb80fbbdd43')\"\n",
              "            title=\"Convert this dataframe to an interactive table.\"\n",
              "            style=\"display:none;\">\n",
              "\n",
              "  <svg xmlns=\"http://www.w3.org/2000/svg\" height=\"24px\" viewBox=\"0 -960 960 960\">\n",
              "    <path d=\"M120-120v-720h720v720H120Zm60-500h600v-160H180v160Zm220 220h160v-160H400v160Zm0 220h160v-160H400v160ZM180-400h160v-160H180v160Zm440 0h160v-160H620v160ZM180-180h160v-160H180v160Zm440 0h160v-160H620v160Z\"/>\n",
              "  </svg>\n",
              "    </button>\n",
              "\n",
              "  <style>\n",
              "    .colab-df-container {\n",
              "      display:flex;\n",
              "      gap: 12px;\n",
              "    }\n",
              "\n",
              "    .colab-df-convert {\n",
              "      background-color: #E8F0FE;\n",
              "      border: none;\n",
              "      border-radius: 50%;\n",
              "      cursor: pointer;\n",
              "      display: none;\n",
              "      fill: #1967D2;\n",
              "      height: 32px;\n",
              "      padding: 0 0 0 0;\n",
              "      width: 32px;\n",
              "    }\n",
              "\n",
              "    .colab-df-convert:hover {\n",
              "      background-color: #E2EBFA;\n",
              "      box-shadow: 0px 1px 2px rgba(60, 64, 67, 0.3), 0px 1px 3px 1px rgba(60, 64, 67, 0.15);\n",
              "      fill: #174EA6;\n",
              "    }\n",
              "\n",
              "    .colab-df-buttons div {\n",
              "      margin-bottom: 4px;\n",
              "    }\n",
              "\n",
              "    [theme=dark] .colab-df-convert {\n",
              "      background-color: #3B4455;\n",
              "      fill: #D2E3FC;\n",
              "    }\n",
              "\n",
              "    [theme=dark] .colab-df-convert:hover {\n",
              "      background-color: #434B5C;\n",
              "      box-shadow: 0px 1px 3px 1px rgba(0, 0, 0, 0.15);\n",
              "      filter: drop-shadow(0px 1px 2px rgba(0, 0, 0, 0.3));\n",
              "      fill: #FFFFFF;\n",
              "    }\n",
              "  </style>\n",
              "\n",
              "    <script>\n",
              "      const buttonEl =\n",
              "        document.querySelector('#df-2205072b-2332-42c9-8cd6-9cb80fbbdd43 button.colab-df-convert');\n",
              "      buttonEl.style.display =\n",
              "        google.colab.kernel.accessAllowed ? 'block' : 'none';\n",
              "\n",
              "      async function convertToInteractive(key) {\n",
              "        const element = document.querySelector('#df-2205072b-2332-42c9-8cd6-9cb80fbbdd43');\n",
              "        const dataTable =\n",
              "          await google.colab.kernel.invokeFunction('convertToInteractive',\n",
              "                                                    [key], {});\n",
              "        if (!dataTable) return;\n",
              "\n",
              "        const docLinkHtml = 'Like what you see? Visit the ' +\n",
              "          '<a target=\"_blank\" href=https://colab.research.google.com/notebooks/data_table.ipynb>data table notebook</a>'\n",
              "          + ' to learn more about interactive tables.';\n",
              "        element.innerHTML = '';\n",
              "        dataTable['output_type'] = 'display_data';\n",
              "        await google.colab.output.renderOutput(dataTable, element);\n",
              "        const docLink = document.createElement('div');\n",
              "        docLink.innerHTML = docLinkHtml;\n",
              "        element.appendChild(docLink);\n",
              "      }\n",
              "    </script>\n",
              "  </div>\n",
              "\n",
              "\n",
              "    <div id=\"df-bdbfa18f-9942-4fa1-93e3-c8d800f7018a\">\n",
              "      <button class=\"colab-df-quickchart\" onclick=\"quickchart('df-bdbfa18f-9942-4fa1-93e3-c8d800f7018a')\"\n",
              "                title=\"Suggest charts\"\n",
              "                style=\"display:none;\">\n",
              "\n",
              "<svg xmlns=\"http://www.w3.org/2000/svg\" height=\"24px\"viewBox=\"0 0 24 24\"\n",
              "     width=\"24px\">\n",
              "    <g>\n",
              "        <path d=\"M19 3H5c-1.1 0-2 .9-2 2v14c0 1.1.9 2 2 2h14c1.1 0 2-.9 2-2V5c0-1.1-.9-2-2-2zM9 17H7v-7h2v7zm4 0h-2V7h2v10zm4 0h-2v-4h2v4z\"/>\n",
              "    </g>\n",
              "</svg>\n",
              "      </button>\n",
              "\n",
              "<style>\n",
              "  .colab-df-quickchart {\n",
              "      --bg-color: #E8F0FE;\n",
              "      --fill-color: #1967D2;\n",
              "      --hover-bg-color: #E2EBFA;\n",
              "      --hover-fill-color: #174EA6;\n",
              "      --disabled-fill-color: #AAA;\n",
              "      --disabled-bg-color: #DDD;\n",
              "  }\n",
              "\n",
              "  [theme=dark] .colab-df-quickchart {\n",
              "      --bg-color: #3B4455;\n",
              "      --fill-color: #D2E3FC;\n",
              "      --hover-bg-color: #434B5C;\n",
              "      --hover-fill-color: #FFFFFF;\n",
              "      --disabled-bg-color: #3B4455;\n",
              "      --disabled-fill-color: #666;\n",
              "  }\n",
              "\n",
              "  .colab-df-quickchart {\n",
              "    background-color: var(--bg-color);\n",
              "    border: none;\n",
              "    border-radius: 50%;\n",
              "    cursor: pointer;\n",
              "    display: none;\n",
              "    fill: var(--fill-color);\n",
              "    height: 32px;\n",
              "    padding: 0;\n",
              "    width: 32px;\n",
              "  }\n",
              "\n",
              "  .colab-df-quickchart:hover {\n",
              "    background-color: var(--hover-bg-color);\n",
              "    box-shadow: 0 1px 2px rgba(60, 64, 67, 0.3), 0 1px 3px 1px rgba(60, 64, 67, 0.15);\n",
              "    fill: var(--button-hover-fill-color);\n",
              "  }\n",
              "\n",
              "  .colab-df-quickchart-complete:disabled,\n",
              "  .colab-df-quickchart-complete:disabled:hover {\n",
              "    background-color: var(--disabled-bg-color);\n",
              "    fill: var(--disabled-fill-color);\n",
              "    box-shadow: none;\n",
              "  }\n",
              "\n",
              "  .colab-df-spinner {\n",
              "    border: 2px solid var(--fill-color);\n",
              "    border-color: transparent;\n",
              "    border-bottom-color: var(--fill-color);\n",
              "    animation:\n",
              "      spin 1s steps(1) infinite;\n",
              "  }\n",
              "\n",
              "  @keyframes spin {\n",
              "    0% {\n",
              "      border-color: transparent;\n",
              "      border-bottom-color: var(--fill-color);\n",
              "      border-left-color: var(--fill-color);\n",
              "    }\n",
              "    20% {\n",
              "      border-color: transparent;\n",
              "      border-left-color: var(--fill-color);\n",
              "      border-top-color: var(--fill-color);\n",
              "    }\n",
              "    30% {\n",
              "      border-color: transparent;\n",
              "      border-left-color: var(--fill-color);\n",
              "      border-top-color: var(--fill-color);\n",
              "      border-right-color: var(--fill-color);\n",
              "    }\n",
              "    40% {\n",
              "      border-color: transparent;\n",
              "      border-right-color: var(--fill-color);\n",
              "      border-top-color: var(--fill-color);\n",
              "    }\n",
              "    60% {\n",
              "      border-color: transparent;\n",
              "      border-right-color: var(--fill-color);\n",
              "    }\n",
              "    80% {\n",
              "      border-color: transparent;\n",
              "      border-right-color: var(--fill-color);\n",
              "      border-bottom-color: var(--fill-color);\n",
              "    }\n",
              "    90% {\n",
              "      border-color: transparent;\n",
              "      border-bottom-color: var(--fill-color);\n",
              "    }\n",
              "  }\n",
              "</style>\n",
              "\n",
              "      <script>\n",
              "        async function quickchart(key) {\n",
              "          const quickchartButtonEl =\n",
              "            document.querySelector('#' + key + ' button');\n",
              "          quickchartButtonEl.disabled = true;  // To prevent multiple clicks.\n",
              "          quickchartButtonEl.classList.add('colab-df-spinner');\n",
              "          try {\n",
              "            const charts = await google.colab.kernel.invokeFunction(\n",
              "                'suggestCharts', [key], {});\n",
              "          } catch (error) {\n",
              "            console.error('Error during call to suggestCharts:', error);\n",
              "          }\n",
              "          quickchartButtonEl.classList.remove('colab-df-spinner');\n",
              "          quickchartButtonEl.classList.add('colab-df-quickchart-complete');\n",
              "        }\n",
              "        (() => {\n",
              "          let quickchartButtonEl =\n",
              "            document.querySelector('#df-bdbfa18f-9942-4fa1-93e3-c8d800f7018a button');\n",
              "          quickchartButtonEl.style.display =\n",
              "            google.colab.kernel.accessAllowed ? 'block' : 'none';\n",
              "        })();\n",
              "      </script>\n",
              "    </div>\n",
              "\n",
              "    </div>\n",
              "  </div>\n"
            ],
            "application/vnd.google.colaboratory.intrinsic+json": {
              "type": "dataframe",
              "summary": "{\n  \"name\": \"# setting include='all' will get the statistical summary for both the numerical and categorical variables\",\n  \"rows\": 17,\n  \"fields\": [\n    {\n      \"column\": \"count\",\n      \"properties\": {\n        \"dtype\": \"date\",\n        \"min\": \"26058\",\n        \"max\": 29101.0,\n        \"num_unique_values\": 3,\n        \"samples\": [\n          \"26058\",\n          29101.0,\n          28742.0\n        ],\n        \"semantic_type\": \"\",\n        \"description\": \"\"\n      }\n    },\n    {\n      \"column\": \"unique\",\n      \"properties\": {\n        \"dtype\": \"date\",\n        \"min\": 2,\n        \"max\": 7,\n        \"num_unique_values\": 3,\n        \"samples\": [\n          6,\n          2,\n          7\n        ],\n        \"semantic_type\": \"\",\n        \"description\": \"\"\n      }\n    },\n    {\n      \"column\": \"top\",\n      \"properties\": {\n        \"dtype\": \"category\",\n        \"num_unique_values\": 4,\n        \"samples\": [\n          \"N\",\n          \"Friday\",\n          \"Bronx\"\n        ],\n        \"semantic_type\": \"\",\n        \"description\": \"\"\n      }\n    },\n    {\n      \"column\": \"freq\",\n      \"properties\": {\n        \"dtype\": \"date\",\n        \"min\": \"4219\",\n        \"max\": \"27980\",\n        \"num_unique_values\": 4,\n        \"samples\": [\n          \"27980\",\n          \"4219\",\n          \"4343\"\n        ],\n        \"semantic_type\": \"\",\n        \"description\": \"\"\n      }\n    },\n    {\n      \"column\": \"mean\",\n      \"properties\": {\n        \"dtype\": \"date\",\n        \"min\": 0.0038301490194151406,\n        \"max\": 2015.0,\n        \"num_unique_values\": 13,\n        \"samples\": [\n          11.59757396653036,\n          2.5291692438988695,\n          490.2159032335659\n        ],\n        \"semantic_type\": \"\",\n        \"description\": \"\"\n      }\n    },\n    {\n      \"column\": \"std\",\n      \"properties\": {\n        \"dtype\": \"date\",\n        \"min\": 0.0,\n        \"max\": 995.6495355004179,\n        \"num_unique_values\": 13,\n        \"samples\": [\n          6.907041550485956,\n          4.520325423985724,\n          995.6495355004179\n        ],\n        \"semantic_type\": \"\",\n        \"description\": \"\"\n      }\n    },\n    {\n      \"column\": \"min\",\n      \"properties\": {\n        \"dtype\": \"date\",\n        \"min\": -16.0,\n        \"max\": 2015.0,\n        \"num_unique_values\": 6,\n        \"samples\": [\n          0.0,\n          2.0,\n          1.0\n        ],\n        \"semantic_type\": \"\",\n        \"description\": \"\"\n      }\n    },\n    {\n      \"column\": \"25%\",\n      \"properties\": {\n        \"dtype\": \"date\",\n        \"min\": 0.0,\n        \"max\": 2015.0,\n        \"num_unique_values\": 10,\n        \"samples\": [\n          6.0,\n          3.0,\n          1012.5\n        ],\n        \"semantic_type\": \"\",\n        \"description\": \"\"\n      }\n    },\n    {\n      \"column\": \"50%\",\n      \"properties\": {\n        \"dtype\": \"date\",\n        \"min\": 0.0,\n        \"max\": 2015.0,\n        \"num_unique_values\": 10,\n        \"samples\": [\n          12.0,\n          6.0,\n          1018.2\n        ],\n        \"semantic_type\": \"\",\n        \"description\": \"\"\n      }\n    },\n    {\n      \"column\": \"75%\",\n      \"properties\": {\n        \"dtype\": \"date\",\n        \"min\": 0.0,\n        \"max\": 2015.0,\n        \"num_unique_values\": 12,\n        \"samples\": [\n          18.0,\n          2015.0,\n          449.0\n        ],\n        \"semantic_type\": \"\",\n        \"description\": \"\"\n      }\n    },\n    {\n      \"column\": \"max\",\n      \"properties\": {\n        \"dtype\": \"date\",\n        \"min\": 0.28,\n        \"max\": 7883.0,\n        \"num_unique_values\": 13,\n        \"samples\": [\n          23.0,\n          19.0,\n          7883.0\n        ],\n        \"semantic_type\": \"\",\n        \"description\": \"\"\n      }\n    }\n  ]\n}"
            }
          },
          "metadata": {},
          "execution_count": 109
        }
      ],
      "source": [
        "df.describe(include='all').T\n",
        "# setting include='all' will get the statistical summary for both the numerical and categorical variables."
      ]
    },
    {
      "cell_type": "markdown",
      "metadata": {
        "id": "lhId7DSfqXH2"
      },
      "source": [
        "- *The collected data is from the year 2015*\n",
        "- *It consists of data for 6 unique months*"
      ]
    },
    {
      "cell_type": "markdown",
      "metadata": {
        "id": "IUsnBs8OrhaL"
      },
      "source": [
        "**We have earlier seen that the `borough` and `temp` columns have missing values in them. So let us see them in detail before moving on to do our EDA.**"
      ]
    },
    {
      "cell_type": "markdown",
      "metadata": {
        "id": "XbECHPQ1CmMj"
      },
      "source": [
        "### **Missing value treatment**"
      ]
    },
    {
      "cell_type": "markdown",
      "metadata": {
        "id": "kqx5hRXonIpb"
      },
      "source": [
        "One of the commonly used method to deal with the missing values is to impute them with the central tendencies - mean, median, and mode of a column.\n",
        "\n",
        "* `Replacing with mean`: In this method the missing values are imputed with the mean of the column. Mean gets impacted by the presence of outliers, and in such cases where the column has outliers using this method may lead to erroneous imputations.\n",
        "\n",
        "* `Replacing with median`: In this method the missing values are imputed with the median of the column. In cases where the column has outliers, median is an appropriate measure of central tendency to deal with the missing values over mean.\n",
        "\n",
        "* `Replacing with mode`: In this method the missing values are imputed with the mode of the column. This method is generally preferred with categorical data."
      ]
    },
    {
      "cell_type": "markdown",
      "metadata": {
        "id": "hAu7fme9nP8N"
      },
      "source": [
        "Let's check how many missing values are present in each variable."
      ]
    },
    {
      "cell_type": "code",
      "execution_count": 110,
      "metadata": {
        "colab": {
          "base_uri": "https://localhost:8080/",
          "height": 617
        },
        "id": "CXXpGJjyCmMk",
        "outputId": "0798c449-0f47-49b0-b86a-48ffc6079cce"
      },
      "outputs": [
        {
          "output_type": "execute_result",
          "data": {
            "text/plain": [
              "borough        3043\n",
              "pickups           0\n",
              "spd               0\n",
              "vsb               0\n",
              "temp            359\n",
              "dewp              0\n",
              "slp               0\n",
              "pcp01             0\n",
              "pcp06             0\n",
              "pcp24             0\n",
              "sd                0\n",
              "hday              0\n",
              "start_year        0\n",
              "start_month       0\n",
              "start_hour        0\n",
              "start_day         0\n",
              "week_day          0\n",
              "dtype: int64"
            ],
            "text/html": [
              "<div>\n",
              "<style scoped>\n",
              "    .dataframe tbody tr th:only-of-type {\n",
              "        vertical-align: middle;\n",
              "    }\n",
              "\n",
              "    .dataframe tbody tr th {\n",
              "        vertical-align: top;\n",
              "    }\n",
              "\n",
              "    .dataframe thead th {\n",
              "        text-align: right;\n",
              "    }\n",
              "</style>\n",
              "<table border=\"1\" class=\"dataframe\">\n",
              "  <thead>\n",
              "    <tr style=\"text-align: right;\">\n",
              "      <th></th>\n",
              "      <th>0</th>\n",
              "    </tr>\n",
              "  </thead>\n",
              "  <tbody>\n",
              "    <tr>\n",
              "      <th>borough</th>\n",
              "      <td>3043</td>\n",
              "    </tr>\n",
              "    <tr>\n",
              "      <th>pickups</th>\n",
              "      <td>0</td>\n",
              "    </tr>\n",
              "    <tr>\n",
              "      <th>spd</th>\n",
              "      <td>0</td>\n",
              "    </tr>\n",
              "    <tr>\n",
              "      <th>vsb</th>\n",
              "      <td>0</td>\n",
              "    </tr>\n",
              "    <tr>\n",
              "      <th>temp</th>\n",
              "      <td>359</td>\n",
              "    </tr>\n",
              "    <tr>\n",
              "      <th>dewp</th>\n",
              "      <td>0</td>\n",
              "    </tr>\n",
              "    <tr>\n",
              "      <th>slp</th>\n",
              "      <td>0</td>\n",
              "    </tr>\n",
              "    <tr>\n",
              "      <th>pcp01</th>\n",
              "      <td>0</td>\n",
              "    </tr>\n",
              "    <tr>\n",
              "      <th>pcp06</th>\n",
              "      <td>0</td>\n",
              "    </tr>\n",
              "    <tr>\n",
              "      <th>pcp24</th>\n",
              "      <td>0</td>\n",
              "    </tr>\n",
              "    <tr>\n",
              "      <th>sd</th>\n",
              "      <td>0</td>\n",
              "    </tr>\n",
              "    <tr>\n",
              "      <th>hday</th>\n",
              "      <td>0</td>\n",
              "    </tr>\n",
              "    <tr>\n",
              "      <th>start_year</th>\n",
              "      <td>0</td>\n",
              "    </tr>\n",
              "    <tr>\n",
              "      <th>start_month</th>\n",
              "      <td>0</td>\n",
              "    </tr>\n",
              "    <tr>\n",
              "      <th>start_hour</th>\n",
              "      <td>0</td>\n",
              "    </tr>\n",
              "    <tr>\n",
              "      <th>start_day</th>\n",
              "      <td>0</td>\n",
              "    </tr>\n",
              "    <tr>\n",
              "      <th>week_day</th>\n",
              "      <td>0</td>\n",
              "    </tr>\n",
              "  </tbody>\n",
              "</table>\n",
              "</div><br><label><b>dtype:</b> int64</label>"
            ]
          },
          "metadata": {},
          "execution_count": 110
        }
      ],
      "source": [
        "# checking missing values across each columns\n",
        "df.isnull().sum()"
      ]
    },
    {
      "cell_type": "markdown",
      "metadata": {
        "id": "MMB3gCbiCmMm"
      },
      "source": [
        "- *The variable `borough` and `temp ` have 3043 and 359 missing values in them*\n",
        "- *There are no missing values in other variables*"
      ]
    },
    {
      "cell_type": "markdown",
      "metadata": {
        "id": "L6g_aCamtaWX"
      },
      "source": [
        "Let us first see the missing value of the `borough` column in detail."
      ]
    },
    {
      "cell_type": "code",
      "execution_count": 111,
      "metadata": {
        "colab": {
          "base_uri": "https://localhost:8080/",
          "height": 335
        },
        "id": "smXZ196_CmMm",
        "outputId": "3e3ecec2-0cde-4eb7-846d-534dbdf4073e"
      },
      "outputs": [
        {
          "output_type": "execute_result",
          "data": {
            "text/plain": [
              "borough\n",
              "Bronx            0.149239\n",
              "Brooklyn         0.149239\n",
              "EWR              0.149239\n",
              "Manhattan        0.149239\n",
              "Queens           0.149239\n",
              "Staten Island    0.149239\n",
              "NaN              0.104567\n",
              "Name: proportion, dtype: float64"
            ],
            "text/html": [
              "<div>\n",
              "<style scoped>\n",
              "    .dataframe tbody tr th:only-of-type {\n",
              "        vertical-align: middle;\n",
              "    }\n",
              "\n",
              "    .dataframe tbody tr th {\n",
              "        vertical-align: top;\n",
              "    }\n",
              "\n",
              "    .dataframe thead th {\n",
              "        text-align: right;\n",
              "    }\n",
              "</style>\n",
              "<table border=\"1\" class=\"dataframe\">\n",
              "  <thead>\n",
              "    <tr style=\"text-align: right;\">\n",
              "      <th></th>\n",
              "      <th>proportion</th>\n",
              "    </tr>\n",
              "    <tr>\n",
              "      <th>borough</th>\n",
              "      <th></th>\n",
              "    </tr>\n",
              "  </thead>\n",
              "  <tbody>\n",
              "    <tr>\n",
              "      <th>Bronx</th>\n",
              "      <td>0.149239</td>\n",
              "    </tr>\n",
              "    <tr>\n",
              "      <th>Brooklyn</th>\n",
              "      <td>0.149239</td>\n",
              "    </tr>\n",
              "    <tr>\n",
              "      <th>EWR</th>\n",
              "      <td>0.149239</td>\n",
              "    </tr>\n",
              "    <tr>\n",
              "      <th>Manhattan</th>\n",
              "      <td>0.149239</td>\n",
              "    </tr>\n",
              "    <tr>\n",
              "      <th>Queens</th>\n",
              "      <td>0.149239</td>\n",
              "    </tr>\n",
              "    <tr>\n",
              "      <th>Staten Island</th>\n",
              "      <td>0.149239</td>\n",
              "    </tr>\n",
              "    <tr>\n",
              "      <th>NaN</th>\n",
              "      <td>0.104567</td>\n",
              "    </tr>\n",
              "  </tbody>\n",
              "</table>\n",
              "</div><br><label><b>dtype:</b> float64</label>"
            ]
          },
          "metadata": {},
          "execution_count": 111
        }
      ],
      "source": [
        "# Checking the missing values further\n",
        "df.borough.value_counts(normalize=True, dropna=False)"
      ]
    },
    {
      "cell_type": "markdown",
      "metadata": {
        "id": "qhupnvv-3upw"
      },
      "source": [
        "- *All the 6 categories have the same percentage i.e. ~15%. There is no mode (or multiple modes) for this variable*\n",
        "- *The percentage of missing values is close to the percentage of observations from other boroughs*\n",
        "- *We can treat the missing values as a separate category for this variable*"
      ]
    },
    {
      "cell_type": "markdown",
      "metadata": {
        "id": "vX6BdpNDjG2w"
      },
      "source": [
        "We can replace the null values present in the `borough` column with a new label as `Unknown`."
      ]
    },
    {
      "cell_type": "code",
      "execution_count": 112,
      "metadata": {
        "colab": {
          "base_uri": "https://localhost:8080/"
        },
        "id": "CsRS1e5nCmMo",
        "outputId": "b7887e98-660e-442c-a93f-fab2b427dc85"
      },
      "outputs": [
        {
          "output_type": "stream",
          "name": "stderr",
          "text": [
            "<ipython-input-112-8bf6aedd0432>:2: FutureWarning: A value is trying to be set on a copy of a DataFrame or Series through chained assignment using an inplace method.\n",
            "The behavior will change in pandas 3.0. This inplace method will never work because the intermediate object on which we are setting values always behaves as a copy.\n",
            "\n",
            "For example, when doing 'df[col].method(value, inplace=True)', try using 'df.method({col: value}, inplace=True)' or df[col] = df[col].method(value) instead, to perform the operation inplace on the original object.\n",
            "\n",
            "\n",
            "  df['borough'].fillna('Unknown', inplace =True)\n"
          ]
        }
      ],
      "source": [
        "# Replacing NaN with Unknown\n",
        "df['borough'].fillna('Unknown', inplace =True)"
      ]
    },
    {
      "cell_type": "code",
      "execution_count": 113,
      "metadata": {
        "colab": {
          "base_uri": "https://localhost:8080/"
        },
        "id": "f0VkAAr_jmrH",
        "outputId": "a269407c-136f-4620-b10b-9958adb05e30"
      },
      "outputs": [
        {
          "output_type": "execute_result",
          "data": {
            "text/plain": [
              "array(['Bronx', 'Brooklyn', 'EWR', 'Manhattan', 'Queens', 'Staten Island',\n",
              "       'Unknown'], dtype=object)"
            ]
          },
          "metadata": {},
          "execution_count": 113
        }
      ],
      "source": [
        "df['borough'].unique()"
      ]
    },
    {
      "cell_type": "markdown",
      "metadata": {
        "id": "L8oPFzcIjq6b"
      },
      "source": [
        "*It can be observed that the new label `Unknown` has been added in the `borough` column*"
      ]
    },
    {
      "cell_type": "code",
      "execution_count": 114,
      "metadata": {
        "colab": {
          "base_uri": "https://localhost:8080/",
          "height": 617
        },
        "id": "--sSo20pCmMs",
        "outputId": "84b72426-29c2-4f41-e1a3-4cccaa987574"
      },
      "outputs": [
        {
          "output_type": "execute_result",
          "data": {
            "text/plain": [
              "borough          0\n",
              "pickups          0\n",
              "spd              0\n",
              "vsb              0\n",
              "temp           359\n",
              "dewp             0\n",
              "slp              0\n",
              "pcp01            0\n",
              "pcp06            0\n",
              "pcp24            0\n",
              "sd               0\n",
              "hday             0\n",
              "start_year       0\n",
              "start_month      0\n",
              "start_hour       0\n",
              "start_day        0\n",
              "week_day         0\n",
              "dtype: int64"
            ],
            "text/html": [
              "<div>\n",
              "<style scoped>\n",
              "    .dataframe tbody tr th:only-of-type {\n",
              "        vertical-align: middle;\n",
              "    }\n",
              "\n",
              "    .dataframe tbody tr th {\n",
              "        vertical-align: top;\n",
              "    }\n",
              "\n",
              "    .dataframe thead th {\n",
              "        text-align: right;\n",
              "    }\n",
              "</style>\n",
              "<table border=\"1\" class=\"dataframe\">\n",
              "  <thead>\n",
              "    <tr style=\"text-align: right;\">\n",
              "      <th></th>\n",
              "      <th>0</th>\n",
              "    </tr>\n",
              "  </thead>\n",
              "  <tbody>\n",
              "    <tr>\n",
              "      <th>borough</th>\n",
              "      <td>0</td>\n",
              "    </tr>\n",
              "    <tr>\n",
              "      <th>pickups</th>\n",
              "      <td>0</td>\n",
              "    </tr>\n",
              "    <tr>\n",
              "      <th>spd</th>\n",
              "      <td>0</td>\n",
              "    </tr>\n",
              "    <tr>\n",
              "      <th>vsb</th>\n",
              "      <td>0</td>\n",
              "    </tr>\n",
              "    <tr>\n",
              "      <th>temp</th>\n",
              "      <td>359</td>\n",
              "    </tr>\n",
              "    <tr>\n",
              "      <th>dewp</th>\n",
              "      <td>0</td>\n",
              "    </tr>\n",
              "    <tr>\n",
              "      <th>slp</th>\n",
              "      <td>0</td>\n",
              "    </tr>\n",
              "    <tr>\n",
              "      <th>pcp01</th>\n",
              "      <td>0</td>\n",
              "    </tr>\n",
              "    <tr>\n",
              "      <th>pcp06</th>\n",
              "      <td>0</td>\n",
              "    </tr>\n",
              "    <tr>\n",
              "      <th>pcp24</th>\n",
              "      <td>0</td>\n",
              "    </tr>\n",
              "    <tr>\n",
              "      <th>sd</th>\n",
              "      <td>0</td>\n",
              "    </tr>\n",
              "    <tr>\n",
              "      <th>hday</th>\n",
              "      <td>0</td>\n",
              "    </tr>\n",
              "    <tr>\n",
              "      <th>start_year</th>\n",
              "      <td>0</td>\n",
              "    </tr>\n",
              "    <tr>\n",
              "      <th>start_month</th>\n",
              "      <td>0</td>\n",
              "    </tr>\n",
              "    <tr>\n",
              "      <th>start_hour</th>\n",
              "      <td>0</td>\n",
              "    </tr>\n",
              "    <tr>\n",
              "      <th>start_day</th>\n",
              "      <td>0</td>\n",
              "    </tr>\n",
              "    <tr>\n",
              "      <th>week_day</th>\n",
              "      <td>0</td>\n",
              "    </tr>\n",
              "  </tbody>\n",
              "</table>\n",
              "</div><br><label><b>dtype:</b> int64</label>"
            ]
          },
          "metadata": {},
          "execution_count": 114
        }
      ],
      "source": [
        "df.isnull().sum()"
      ]
    },
    {
      "cell_type": "markdown",
      "metadata": {
        "id": "x2I-IoVVCmMt"
      },
      "source": [
        "The missing values in the `borough` column have been treated. Let us now move on to `temp` variable and see how to deal with the missing values present there."
      ]
    },
    {
      "cell_type": "markdown",
      "metadata": {
        "id": "SzSlIdOHuTlu"
      },
      "source": [
        "Since this is a numerical variable, so we can impute the missing values by mean or median but before imputation, let's analyze the `temp` variable in detail.\n",
        "\n",
        "Let us print the rows where the `temp` variable is having missing values."
      ]
    },
    {
      "cell_type": "code",
      "execution_count": 115,
      "metadata": {
        "colab": {
          "base_uri": "https://localhost:8080/",
          "height": 424
        },
        "id": "tqtDk28puzmK",
        "outputId": "2d18f4a1-4a00-4775-d8b5-7532a33b1348"
      },
      "outputs": [
        {
          "output_type": "execute_result",
          "data": {
            "text/plain": [
              "       borough  pickups  spd   vsb  temp  dewp     slp  pcp01  pcp06  pcp24  \\\n",
              "1     Brooklyn     1519  5.0  10.0   NaN   7.0  1023.5    0.0    0.0    0.0   \n",
              "8     Brooklyn     1229  3.0  10.0   NaN   6.0  1023.0    0.0    0.0    0.0   \n",
              "15    Brooklyn     1601  5.0  10.0   NaN   8.0  1022.3    0.0    0.0    0.0   \n",
              "22    Brooklyn     1390  5.0  10.0   NaN   9.0  1022.0    0.0    0.0    0.0   \n",
              "29    Brooklyn      759  5.0  10.0   NaN   9.0  1021.8    0.0    0.0    0.0   \n",
              "...        ...      ...  ...   ...   ...   ...     ...    ...    ...    ...   \n",
              "2334  Brooklyn      594  5.0  10.0   NaN  13.0  1016.2    0.0    0.0    0.0   \n",
              "2340  Brooklyn      620  5.0  10.0   NaN  13.0  1015.5    0.0    0.0    0.0   \n",
              "2347  Brooklyn      607  3.0  10.0   NaN  14.0  1015.4    0.0    0.0    0.0   \n",
              "2354  Brooklyn      648  9.0  10.0   NaN  14.0  1015.4    0.0    0.0    0.0   \n",
              "2361  Brooklyn      602  5.0  10.0   NaN  16.0  1015.4    0.0    0.0    0.0   \n",
              "\n",
              "       sd hday  start_year start_month  start_hour  start_day  week_day  \n",
              "1     0.0    Y        2015     January           1          1  Thursday  \n",
              "8     0.0    Y        2015     January           2          1  Thursday  \n",
              "15    0.0    Y        2015     January           3          1  Thursday  \n",
              "22    0.0    Y        2015     January           4          1  Thursday  \n",
              "29    0.0    Y        2015     January           5          1  Thursday  \n",
              "...   ...  ...         ...         ...         ...        ...       ...  \n",
              "2334  0.0    N        2015     January          19         15  Thursday  \n",
              "2340  0.0    N        2015     January          20         15  Thursday  \n",
              "2347  0.0    N        2015     January          21         15  Thursday  \n",
              "2354  0.0    N        2015     January          22         15  Thursday  \n",
              "2361  0.0    N        2015     January          23         15  Thursday  \n",
              "\n",
              "[359 rows x 17 columns]"
            ],
            "text/html": [
              "\n",
              "  <div id=\"df-cfbe1196-d1f8-4003-b0de-5bd4b03c15bc\" class=\"colab-df-container\">\n",
              "    <div>\n",
              "<style scoped>\n",
              "    .dataframe tbody tr th:only-of-type {\n",
              "        vertical-align: middle;\n",
              "    }\n",
              "\n",
              "    .dataframe tbody tr th {\n",
              "        vertical-align: top;\n",
              "    }\n",
              "\n",
              "    .dataframe thead th {\n",
              "        text-align: right;\n",
              "    }\n",
              "</style>\n",
              "<table border=\"1\" class=\"dataframe\">\n",
              "  <thead>\n",
              "    <tr style=\"text-align: right;\">\n",
              "      <th></th>\n",
              "      <th>borough</th>\n",
              "      <th>pickups</th>\n",
              "      <th>spd</th>\n",
              "      <th>vsb</th>\n",
              "      <th>temp</th>\n",
              "      <th>dewp</th>\n",
              "      <th>slp</th>\n",
              "      <th>pcp01</th>\n",
              "      <th>pcp06</th>\n",
              "      <th>pcp24</th>\n",
              "      <th>sd</th>\n",
              "      <th>hday</th>\n",
              "      <th>start_year</th>\n",
              "      <th>start_month</th>\n",
              "      <th>start_hour</th>\n",
              "      <th>start_day</th>\n",
              "      <th>week_day</th>\n",
              "    </tr>\n",
              "  </thead>\n",
              "  <tbody>\n",
              "    <tr>\n",
              "      <th>1</th>\n",
              "      <td>Brooklyn</td>\n",
              "      <td>1519</td>\n",
              "      <td>5.0</td>\n",
              "      <td>10.0</td>\n",
              "      <td>NaN</td>\n",
              "      <td>7.0</td>\n",
              "      <td>1023.5</td>\n",
              "      <td>0.0</td>\n",
              "      <td>0.0</td>\n",
              "      <td>0.0</td>\n",
              "      <td>0.0</td>\n",
              "      <td>Y</td>\n",
              "      <td>2015</td>\n",
              "      <td>January</td>\n",
              "      <td>1</td>\n",
              "      <td>1</td>\n",
              "      <td>Thursday</td>\n",
              "    </tr>\n",
              "    <tr>\n",
              "      <th>8</th>\n",
              "      <td>Brooklyn</td>\n",
              "      <td>1229</td>\n",
              "      <td>3.0</td>\n",
              "      <td>10.0</td>\n",
              "      <td>NaN</td>\n",
              "      <td>6.0</td>\n",
              "      <td>1023.0</td>\n",
              "      <td>0.0</td>\n",
              "      <td>0.0</td>\n",
              "      <td>0.0</td>\n",
              "      <td>0.0</td>\n",
              "      <td>Y</td>\n",
              "      <td>2015</td>\n",
              "      <td>January</td>\n",
              "      <td>2</td>\n",
              "      <td>1</td>\n",
              "      <td>Thursday</td>\n",
              "    </tr>\n",
              "    <tr>\n",
              "      <th>15</th>\n",
              "      <td>Brooklyn</td>\n",
              "      <td>1601</td>\n",
              "      <td>5.0</td>\n",
              "      <td>10.0</td>\n",
              "      <td>NaN</td>\n",
              "      <td>8.0</td>\n",
              "      <td>1022.3</td>\n",
              "      <td>0.0</td>\n",
              "      <td>0.0</td>\n",
              "      <td>0.0</td>\n",
              "      <td>0.0</td>\n",
              "      <td>Y</td>\n",
              "      <td>2015</td>\n",
              "      <td>January</td>\n",
              "      <td>3</td>\n",
              "      <td>1</td>\n",
              "      <td>Thursday</td>\n",
              "    </tr>\n",
              "    <tr>\n",
              "      <th>22</th>\n",
              "      <td>Brooklyn</td>\n",
              "      <td>1390</td>\n",
              "      <td>5.0</td>\n",
              "      <td>10.0</td>\n",
              "      <td>NaN</td>\n",
              "      <td>9.0</td>\n",
              "      <td>1022.0</td>\n",
              "      <td>0.0</td>\n",
              "      <td>0.0</td>\n",
              "      <td>0.0</td>\n",
              "      <td>0.0</td>\n",
              "      <td>Y</td>\n",
              "      <td>2015</td>\n",
              "      <td>January</td>\n",
              "      <td>4</td>\n",
              "      <td>1</td>\n",
              "      <td>Thursday</td>\n",
              "    </tr>\n",
              "    <tr>\n",
              "      <th>29</th>\n",
              "      <td>Brooklyn</td>\n",
              "      <td>759</td>\n",
              "      <td>5.0</td>\n",
              "      <td>10.0</td>\n",
              "      <td>NaN</td>\n",
              "      <td>9.0</td>\n",
              "      <td>1021.8</td>\n",
              "      <td>0.0</td>\n",
              "      <td>0.0</td>\n",
              "      <td>0.0</td>\n",
              "      <td>0.0</td>\n",
              "      <td>Y</td>\n",
              "      <td>2015</td>\n",
              "      <td>January</td>\n",
              "      <td>5</td>\n",
              "      <td>1</td>\n",
              "      <td>Thursday</td>\n",
              "    </tr>\n",
              "    <tr>\n",
              "      <th>...</th>\n",
              "      <td>...</td>\n",
              "      <td>...</td>\n",
              "      <td>...</td>\n",
              "      <td>...</td>\n",
              "      <td>...</td>\n",
              "      <td>...</td>\n",
              "      <td>...</td>\n",
              "      <td>...</td>\n",
              "      <td>...</td>\n",
              "      <td>...</td>\n",
              "      <td>...</td>\n",
              "      <td>...</td>\n",
              "      <td>...</td>\n",
              "      <td>...</td>\n",
              "      <td>...</td>\n",
              "      <td>...</td>\n",
              "      <td>...</td>\n",
              "    </tr>\n",
              "    <tr>\n",
              "      <th>2334</th>\n",
              "      <td>Brooklyn</td>\n",
              "      <td>594</td>\n",
              "      <td>5.0</td>\n",
              "      <td>10.0</td>\n",
              "      <td>NaN</td>\n",
              "      <td>13.0</td>\n",
              "      <td>1016.2</td>\n",
              "      <td>0.0</td>\n",
              "      <td>0.0</td>\n",
              "      <td>0.0</td>\n",
              "      <td>0.0</td>\n",
              "      <td>N</td>\n",
              "      <td>2015</td>\n",
              "      <td>January</td>\n",
              "      <td>19</td>\n",
              "      <td>15</td>\n",
              "      <td>Thursday</td>\n",
              "    </tr>\n",
              "    <tr>\n",
              "      <th>2340</th>\n",
              "      <td>Brooklyn</td>\n",
              "      <td>620</td>\n",
              "      <td>5.0</td>\n",
              "      <td>10.0</td>\n",
              "      <td>NaN</td>\n",
              "      <td>13.0</td>\n",
              "      <td>1015.5</td>\n",
              "      <td>0.0</td>\n",
              "      <td>0.0</td>\n",
              "      <td>0.0</td>\n",
              "      <td>0.0</td>\n",
              "      <td>N</td>\n",
              "      <td>2015</td>\n",
              "      <td>January</td>\n",
              "      <td>20</td>\n",
              "      <td>15</td>\n",
              "      <td>Thursday</td>\n",
              "    </tr>\n",
              "    <tr>\n",
              "      <th>2347</th>\n",
              "      <td>Brooklyn</td>\n",
              "      <td>607</td>\n",
              "      <td>3.0</td>\n",
              "      <td>10.0</td>\n",
              "      <td>NaN</td>\n",
              "      <td>14.0</td>\n",
              "      <td>1015.4</td>\n",
              "      <td>0.0</td>\n",
              "      <td>0.0</td>\n",
              "      <td>0.0</td>\n",
              "      <td>0.0</td>\n",
              "      <td>N</td>\n",
              "      <td>2015</td>\n",
              "      <td>January</td>\n",
              "      <td>21</td>\n",
              "      <td>15</td>\n",
              "      <td>Thursday</td>\n",
              "    </tr>\n",
              "    <tr>\n",
              "      <th>2354</th>\n",
              "      <td>Brooklyn</td>\n",
              "      <td>648</td>\n",
              "      <td>9.0</td>\n",
              "      <td>10.0</td>\n",
              "      <td>NaN</td>\n",
              "      <td>14.0</td>\n",
              "      <td>1015.4</td>\n",
              "      <td>0.0</td>\n",
              "      <td>0.0</td>\n",
              "      <td>0.0</td>\n",
              "      <td>0.0</td>\n",
              "      <td>N</td>\n",
              "      <td>2015</td>\n",
              "      <td>January</td>\n",
              "      <td>22</td>\n",
              "      <td>15</td>\n",
              "      <td>Thursday</td>\n",
              "    </tr>\n",
              "    <tr>\n",
              "      <th>2361</th>\n",
              "      <td>Brooklyn</td>\n",
              "      <td>602</td>\n",
              "      <td>5.0</td>\n",
              "      <td>10.0</td>\n",
              "      <td>NaN</td>\n",
              "      <td>16.0</td>\n",
              "      <td>1015.4</td>\n",
              "      <td>0.0</td>\n",
              "      <td>0.0</td>\n",
              "      <td>0.0</td>\n",
              "      <td>0.0</td>\n",
              "      <td>N</td>\n",
              "      <td>2015</td>\n",
              "      <td>January</td>\n",
              "      <td>23</td>\n",
              "      <td>15</td>\n",
              "      <td>Thursday</td>\n",
              "    </tr>\n",
              "  </tbody>\n",
              "</table>\n",
              "<p>359 rows × 17 columns</p>\n",
              "</div>\n",
              "    <div class=\"colab-df-buttons\">\n",
              "\n",
              "  <div class=\"colab-df-container\">\n",
              "    <button class=\"colab-df-convert\" onclick=\"convertToInteractive('df-cfbe1196-d1f8-4003-b0de-5bd4b03c15bc')\"\n",
              "            title=\"Convert this dataframe to an interactive table.\"\n",
              "            style=\"display:none;\">\n",
              "\n",
              "  <svg xmlns=\"http://www.w3.org/2000/svg\" height=\"24px\" viewBox=\"0 -960 960 960\">\n",
              "    <path d=\"M120-120v-720h720v720H120Zm60-500h600v-160H180v160Zm220 220h160v-160H400v160Zm0 220h160v-160H400v160ZM180-400h160v-160H180v160Zm440 0h160v-160H620v160ZM180-180h160v-160H180v160Zm440 0h160v-160H620v160Z\"/>\n",
              "  </svg>\n",
              "    </button>\n",
              "\n",
              "  <style>\n",
              "    .colab-df-container {\n",
              "      display:flex;\n",
              "      gap: 12px;\n",
              "    }\n",
              "\n",
              "    .colab-df-convert {\n",
              "      background-color: #E8F0FE;\n",
              "      border: none;\n",
              "      border-radius: 50%;\n",
              "      cursor: pointer;\n",
              "      display: none;\n",
              "      fill: #1967D2;\n",
              "      height: 32px;\n",
              "      padding: 0 0 0 0;\n",
              "      width: 32px;\n",
              "    }\n",
              "\n",
              "    .colab-df-convert:hover {\n",
              "      background-color: #E2EBFA;\n",
              "      box-shadow: 0px 1px 2px rgba(60, 64, 67, 0.3), 0px 1px 3px 1px rgba(60, 64, 67, 0.15);\n",
              "      fill: #174EA6;\n",
              "    }\n",
              "\n",
              "    .colab-df-buttons div {\n",
              "      margin-bottom: 4px;\n",
              "    }\n",
              "\n",
              "    [theme=dark] .colab-df-convert {\n",
              "      background-color: #3B4455;\n",
              "      fill: #D2E3FC;\n",
              "    }\n",
              "\n",
              "    [theme=dark] .colab-df-convert:hover {\n",
              "      background-color: #434B5C;\n",
              "      box-shadow: 0px 1px 3px 1px rgba(0, 0, 0, 0.15);\n",
              "      filter: drop-shadow(0px 1px 2px rgba(0, 0, 0, 0.3));\n",
              "      fill: #FFFFFF;\n",
              "    }\n",
              "  </style>\n",
              "\n",
              "    <script>\n",
              "      const buttonEl =\n",
              "        document.querySelector('#df-cfbe1196-d1f8-4003-b0de-5bd4b03c15bc button.colab-df-convert');\n",
              "      buttonEl.style.display =\n",
              "        google.colab.kernel.accessAllowed ? 'block' : 'none';\n",
              "\n",
              "      async function convertToInteractive(key) {\n",
              "        const element = document.querySelector('#df-cfbe1196-d1f8-4003-b0de-5bd4b03c15bc');\n",
              "        const dataTable =\n",
              "          await google.colab.kernel.invokeFunction('convertToInteractive',\n",
              "                                                    [key], {});\n",
              "        if (!dataTable) return;\n",
              "\n",
              "        const docLinkHtml = 'Like what you see? Visit the ' +\n",
              "          '<a target=\"_blank\" href=https://colab.research.google.com/notebooks/data_table.ipynb>data table notebook</a>'\n",
              "          + ' to learn more about interactive tables.';\n",
              "        element.innerHTML = '';\n",
              "        dataTable['output_type'] = 'display_data';\n",
              "        await google.colab.output.renderOutput(dataTable, element);\n",
              "        const docLink = document.createElement('div');\n",
              "        docLink.innerHTML = docLinkHtml;\n",
              "        element.appendChild(docLink);\n",
              "      }\n",
              "    </script>\n",
              "  </div>\n",
              "\n",
              "\n",
              "    <div id=\"df-2b7ee5a4-addc-4e56-93c0-94983a860a3d\">\n",
              "      <button class=\"colab-df-quickchart\" onclick=\"quickchart('df-2b7ee5a4-addc-4e56-93c0-94983a860a3d')\"\n",
              "                title=\"Suggest charts\"\n",
              "                style=\"display:none;\">\n",
              "\n",
              "<svg xmlns=\"http://www.w3.org/2000/svg\" height=\"24px\"viewBox=\"0 0 24 24\"\n",
              "     width=\"24px\">\n",
              "    <g>\n",
              "        <path d=\"M19 3H5c-1.1 0-2 .9-2 2v14c0 1.1.9 2 2 2h14c1.1 0 2-.9 2-2V5c0-1.1-.9-2-2-2zM9 17H7v-7h2v7zm4 0h-2V7h2v10zm4 0h-2v-4h2v4z\"/>\n",
              "    </g>\n",
              "</svg>\n",
              "      </button>\n",
              "\n",
              "<style>\n",
              "  .colab-df-quickchart {\n",
              "      --bg-color: #E8F0FE;\n",
              "      --fill-color: #1967D2;\n",
              "      --hover-bg-color: #E2EBFA;\n",
              "      --hover-fill-color: #174EA6;\n",
              "      --disabled-fill-color: #AAA;\n",
              "      --disabled-bg-color: #DDD;\n",
              "  }\n",
              "\n",
              "  [theme=dark] .colab-df-quickchart {\n",
              "      --bg-color: #3B4455;\n",
              "      --fill-color: #D2E3FC;\n",
              "      --hover-bg-color: #434B5C;\n",
              "      --hover-fill-color: #FFFFFF;\n",
              "      --disabled-bg-color: #3B4455;\n",
              "      --disabled-fill-color: #666;\n",
              "  }\n",
              "\n",
              "  .colab-df-quickchart {\n",
              "    background-color: var(--bg-color);\n",
              "    border: none;\n",
              "    border-radius: 50%;\n",
              "    cursor: pointer;\n",
              "    display: none;\n",
              "    fill: var(--fill-color);\n",
              "    height: 32px;\n",
              "    padding: 0;\n",
              "    width: 32px;\n",
              "  }\n",
              "\n",
              "  .colab-df-quickchart:hover {\n",
              "    background-color: var(--hover-bg-color);\n",
              "    box-shadow: 0 1px 2px rgba(60, 64, 67, 0.3), 0 1px 3px 1px rgba(60, 64, 67, 0.15);\n",
              "    fill: var(--button-hover-fill-color);\n",
              "  }\n",
              "\n",
              "  .colab-df-quickchart-complete:disabled,\n",
              "  .colab-df-quickchart-complete:disabled:hover {\n",
              "    background-color: var(--disabled-bg-color);\n",
              "    fill: var(--disabled-fill-color);\n",
              "    box-shadow: none;\n",
              "  }\n",
              "\n",
              "  .colab-df-spinner {\n",
              "    border: 2px solid var(--fill-color);\n",
              "    border-color: transparent;\n",
              "    border-bottom-color: var(--fill-color);\n",
              "    animation:\n",
              "      spin 1s steps(1) infinite;\n",
              "  }\n",
              "\n",
              "  @keyframes spin {\n",
              "    0% {\n",
              "      border-color: transparent;\n",
              "      border-bottom-color: var(--fill-color);\n",
              "      border-left-color: var(--fill-color);\n",
              "    }\n",
              "    20% {\n",
              "      border-color: transparent;\n",
              "      border-left-color: var(--fill-color);\n",
              "      border-top-color: var(--fill-color);\n",
              "    }\n",
              "    30% {\n",
              "      border-color: transparent;\n",
              "      border-left-color: var(--fill-color);\n",
              "      border-top-color: var(--fill-color);\n",
              "      border-right-color: var(--fill-color);\n",
              "    }\n",
              "    40% {\n",
              "      border-color: transparent;\n",
              "      border-right-color: var(--fill-color);\n",
              "      border-top-color: var(--fill-color);\n",
              "    }\n",
              "    60% {\n",
              "      border-color: transparent;\n",
              "      border-right-color: var(--fill-color);\n",
              "    }\n",
              "    80% {\n",
              "      border-color: transparent;\n",
              "      border-right-color: var(--fill-color);\n",
              "      border-bottom-color: var(--fill-color);\n",
              "    }\n",
              "    90% {\n",
              "      border-color: transparent;\n",
              "      border-bottom-color: var(--fill-color);\n",
              "    }\n",
              "  }\n",
              "</style>\n",
              "\n",
              "      <script>\n",
              "        async function quickchart(key) {\n",
              "          const quickchartButtonEl =\n",
              "            document.querySelector('#' + key + ' button');\n",
              "          quickchartButtonEl.disabled = true;  // To prevent multiple clicks.\n",
              "          quickchartButtonEl.classList.add('colab-df-spinner');\n",
              "          try {\n",
              "            const charts = await google.colab.kernel.invokeFunction(\n",
              "                'suggestCharts', [key], {});\n",
              "          } catch (error) {\n",
              "            console.error('Error during call to suggestCharts:', error);\n",
              "          }\n",
              "          quickchartButtonEl.classList.remove('colab-df-spinner');\n",
              "          quickchartButtonEl.classList.add('colab-df-quickchart-complete');\n",
              "        }\n",
              "        (() => {\n",
              "          let quickchartButtonEl =\n",
              "            document.querySelector('#df-2b7ee5a4-addc-4e56-93c0-94983a860a3d button');\n",
              "          quickchartButtonEl.style.display =\n",
              "            google.colab.kernel.accessAllowed ? 'block' : 'none';\n",
              "        })();\n",
              "      </script>\n",
              "    </div>\n",
              "\n",
              "    </div>\n",
              "  </div>\n"
            ],
            "application/vnd.google.colaboratory.intrinsic+json": {
              "type": "dataframe",
              "summary": "{\n  \"name\": \"df\",\n  \"rows\": 359,\n  \"fields\": [\n    {\n      \"column\": \"borough\",\n      \"properties\": {\n        \"dtype\": \"category\",\n        \"num_unique_values\": 1,\n        \"samples\": [\n          \"Brooklyn\"\n        ],\n        \"semantic_type\": \"\",\n        \"description\": \"\"\n      }\n    },\n    {\n      \"column\": \"pickups\",\n      \"properties\": {\n        \"dtype\": \"number\",\n        \"std\": 232,\n        \"min\": 51,\n        \"max\": 1601,\n        \"num_unique_values\": 280,\n        \"samples\": [\n          308\n        ],\n        \"semantic_type\": \"\",\n        \"description\": \"\"\n      }\n    },\n    {\n      \"column\": \"spd\",\n      \"properties\": {\n        \"dtype\": \"number\",\n        \"std\": 3.602504465052686,\n        \"min\": 0.0,\n        \"max\": 21.0,\n        \"num_unique_values\": 47,\n        \"samples\": [\n          18.0\n        ],\n        \"semantic_type\": \"\",\n        \"description\": \"\"\n      }\n    },\n    {\n      \"column\": \"vsb\",\n      \"properties\": {\n        \"dtype\": \"number\",\n        \"std\": 2.4330437421155744,\n        \"min\": 0.4,\n        \"max\": 10.0,\n        \"num_unique_values\": 37,\n        \"samples\": [\n          8.5\n        ],\n        \"semantic_type\": \"\",\n        \"description\": \"\"\n      }\n    },\n    {\n      \"column\": \"temp\",\n      \"properties\": {\n        \"dtype\": \"number\",\n        \"std\": null,\n        \"min\": null,\n        \"max\": null,\n        \"num_unique_values\": 0,\n        \"samples\": [],\n        \"semantic_type\": \"\",\n        \"description\": \"\"\n      }\n    },\n    {\n      \"column\": \"dewp\",\n      \"properties\": {\n        \"dtype\": \"number\",\n        \"std\": 13.589596165103185,\n        \"min\": -13.0,\n        \"max\": 50.0,\n        \"num_unique_values\": 86,\n        \"samples\": [],\n        \"semantic_type\": \"\",\n        \"description\": \"\"\n      }\n    },\n    {\n      \"column\": \"slp\",\n      \"properties\": {\n        \"dtype\": \"number\",\n        \"std\": 7.812193587772753,\n        \"min\": 1004.3,\n        \"max\": 1038.7,\n        \"num_unique_values\": 205,\n        \"samples\": [],\n        \"semantic_type\": \"\",\n        \"description\": \"\"\n      }\n    },\n    {\n      \"column\": \"pcp01\",\n      \"properties\": {\n        \"dtype\": \"number\",\n        \"std\": 0.013764730952523306,\n        \"min\": 0.0,\n        \"max\": 0.15,\n        \"num_unique_values\": 28,\n        \"samples\": [],\n        \"semantic_type\": \"\",\n        \"description\": \"\"\n      }\n    },\n    {\n      \"column\": \"pcp06\",\n      \"properties\": {\n        \"dtype\": \"number\",\n        \"std\": 0.07039389404853492,\n        \"min\": 0.0,\n        \"max\": 0.44,\n        \"num_unique_values\": 54,\n        \"samples\": [],\n        \"semantic_type\": \"\",\n        \"description\": \"\"\n      }\n    },\n    {\n      \"column\": \"pcp24\",\n      \"properties\": {\n        \"dtype\": \"number\",\n        \"std\": 0.18315186868231512,\n        \"min\": 0.0,\n        \"max\": 0.89,\n        \"num_unique_values\": 71,\n        \"samples\": [],\n        \"semantic_type\": \"\",\n        \"description\": \"\"\n      }\n    },\n    {\n      \"column\": \"sd\",\n      \"properties\": {\n        \"dtype\": \"number\",\n        \"std\": 0.3408323133149994,\n        \"min\": 0.0,\n        \"max\": 1.0,\n        \"num_unique_values\": 25,\n        \"samples\": [],\n        \"semantic_type\": \"\",\n        \"description\": \"\"\n      }\n    },\n    {\n      \"column\": \"hday\",\n      \"properties\": {\n        \"dtype\": \"category\",\n        \"num_unique_values\": 2,\n        \"samples\": [],\n        \"semantic_type\": \"\",\n        \"description\": \"\"\n      }\n    },\n    {\n      \"column\": \"start_year\",\n      \"properties\": {\n        \"dtype\": \"int32\",\n        \"num_unique_values\": 1,\n        \"samples\": [],\n        \"semantic_type\": \"\",\n        \"description\": \"\"\n      }\n    },\n    {\n      \"column\": \"start_month\",\n      \"properties\": {\n        \"dtype\": \"category\",\n        \"num_unique_values\": 1,\n        \"samples\": [],\n        \"semantic_type\": \"\",\n        \"description\": \"\"\n      }\n    },\n    {\n      \"column\": \"start_hour\",\n      \"properties\": {\n        \"dtype\": \"int32\",\n        \"num_unique_values\": 24,\n        \"samples\": [],\n        \"semantic_type\": \"\",\n        \"description\": \"\"\n      }\n    },\n    {\n      \"column\": \"start_day\",\n      \"properties\": {\n        \"dtype\": \"int32\",\n        \"num_unique_values\": 15,\n        \"samples\": [],\n        \"semantic_type\": \"\",\n        \"description\": \"\"\n      }\n    },\n    {\n      \"column\": \"week_day\",\n      \"properties\": {\n        \"dtype\": \"category\",\n        \"num_unique_values\": 7,\n        \"samples\": [],\n        \"semantic_type\": \"\",\n        \"description\": \"\"\n      }\n    }\n  ]\n}"
            }
          },
          "metadata": {},
          "execution_count": 115
        }
      ],
      "source": [
        "df.loc[df['temp'].isnull()==True]"
      ]
    },
    {
      "cell_type": "markdown",
      "metadata": {
        "id": "X7wU_wiDv_pP"
      },
      "source": [
        "*There are 359 observations where `temp` variable has missing values. From the overview of the dataset, it seems as if the missing temperature values are from the Brooklyn borough in the month of January.*\n",
        "\n",
        "So let's confirm our hypothesis by printing the unique boroughs and month names present for these missing values."
      ]
    },
    {
      "cell_type": "code",
      "execution_count": 116,
      "metadata": {
        "colab": {
          "base_uri": "https://localhost:8080/",
          "height": 147
        },
        "id": "W0_QfPD0wSnI",
        "outputId": "69233b5d-76b5-4acd-f1b7-9eefbe83358a"
      },
      "outputs": [
        {
          "output_type": "execute_result",
          "data": {
            "text/plain": [
              "borough\n",
              "Brooklyn    359\n",
              "Name: count, dtype: int64"
            ],
            "text/html": [
              "<div>\n",
              "<style scoped>\n",
              "    .dataframe tbody tr th:only-of-type {\n",
              "        vertical-align: middle;\n",
              "    }\n",
              "\n",
              "    .dataframe tbody tr th {\n",
              "        vertical-align: top;\n",
              "    }\n",
              "\n",
              "    .dataframe thead th {\n",
              "        text-align: right;\n",
              "    }\n",
              "</style>\n",
              "<table border=\"1\" class=\"dataframe\">\n",
              "  <thead>\n",
              "    <tr style=\"text-align: right;\">\n",
              "      <th></th>\n",
              "      <th>count</th>\n",
              "    </tr>\n",
              "    <tr>\n",
              "      <th>borough</th>\n",
              "      <th></th>\n",
              "    </tr>\n",
              "  </thead>\n",
              "  <tbody>\n",
              "    <tr>\n",
              "      <th>Brooklyn</th>\n",
              "      <td>359</td>\n",
              "    </tr>\n",
              "  </tbody>\n",
              "</table>\n",
              "</div><br><label><b>dtype:</b> int64</label>"
            ]
          },
          "metadata": {},
          "execution_count": 116
        }
      ],
      "source": [
        "df.loc[df['temp'].isnull()==True,'borough'].value_counts()"
      ]
    },
    {
      "cell_type": "code",
      "execution_count": 117,
      "metadata": {
        "colab": {
          "base_uri": "https://localhost:8080/",
          "height": 147
        },
        "id": "aU9qYUnfw0hV",
        "outputId": "5b9a3c64-6280-4ab0-e983-2de31e6864f4"
      },
      "outputs": [
        {
          "output_type": "execute_result",
          "data": {
            "text/plain": [
              "start_month\n",
              "January    359\n",
              "Name: count, dtype: int64"
            ],
            "text/html": [
              "<div>\n",
              "<style scoped>\n",
              "    .dataframe tbody tr th:only-of-type {\n",
              "        vertical-align: middle;\n",
              "    }\n",
              "\n",
              "    .dataframe tbody tr th {\n",
              "        vertical-align: top;\n",
              "    }\n",
              "\n",
              "    .dataframe thead th {\n",
              "        text-align: right;\n",
              "    }\n",
              "</style>\n",
              "<table border=\"1\" class=\"dataframe\">\n",
              "  <thead>\n",
              "    <tr style=\"text-align: right;\">\n",
              "      <th></th>\n",
              "      <th>count</th>\n",
              "    </tr>\n",
              "    <tr>\n",
              "      <th>start_month</th>\n",
              "      <th></th>\n",
              "    </tr>\n",
              "  </thead>\n",
              "  <tbody>\n",
              "    <tr>\n",
              "      <th>January</th>\n",
              "      <td>359</td>\n",
              "    </tr>\n",
              "  </tbody>\n",
              "</table>\n",
              "</div><br><label><b>dtype:</b> int64</label>"
            ]
          },
          "metadata": {},
          "execution_count": 117
        }
      ],
      "source": [
        "df.loc[df['temp'].isnull()==True,'start_month'].value_counts()"
      ]
    },
    {
      "cell_type": "markdown",
      "metadata": {
        "id": "M0NaFiKS-gWU"
      },
      "source": [
        "*The missing values in `temp` are from the Brooklyn borough and they are from the month of January.*\n",
        "\n",
        "Let's check on which the date for the month of  January, missing values are present."
      ]
    },
    {
      "cell_type": "code",
      "execution_count": 118,
      "metadata": {
        "colab": {
          "base_uri": "https://localhost:8080/"
        },
        "id": "MfDkDeFV_NV7",
        "outputId": "06c08897-efc8-48c0-dcc0-149acee0aa54"
      },
      "outputs": [
        {
          "output_type": "execute_result",
          "data": {
            "text/plain": [
              "array([ 1,  2,  3,  4,  5,  6,  7,  8,  9, 10, 11, 12, 13, 14, 15],\n",
              "      dtype=int32)"
            ]
          },
          "metadata": {},
          "execution_count": 118
        }
      ],
      "source": [
        "df.loc[df['temp'].isnull()==True,'start_day'].unique() # days for which missing values are present"
      ]
    },
    {
      "cell_type": "code",
      "execution_count": 119,
      "metadata": {
        "colab": {
          "base_uri": "https://localhost:8080/"
        },
        "id": "TJtL09OGAGTF",
        "outputId": "a757b700-1261-42c7-92a7-7a9eb9574606"
      },
      "outputs": [
        {
          "output_type": "execute_result",
          "data": {
            "text/plain": [
              "array([ 1,  2,  3,  4,  5,  6,  7,  8,  9, 10, 11, 12, 13, 14, 15, 16, 17,\n",
              "       18, 19, 20, 21, 22, 23, 24, 25, 26, 27, 28, 29, 30, 31],\n",
              "      dtype=int32)"
            ]
          },
          "metadata": {},
          "execution_count": 119
        }
      ],
      "source": [
        "df.loc[df['start_month']=='January', 'start_day'].unique() # unique days in the month of January"
      ]
    },
    {
      "cell_type": "markdown",
      "metadata": {
        "id": "XmcNZ3AhA8NR"
      },
      "source": [
        "*It can be observed  that out of the 31 days in January, the data is missing for the first 15 days.*"
      ]
    },
    {
      "cell_type": "markdown",
      "metadata": {
        "id": "VY7MhR2hBENo"
      },
      "source": [
        "Since from the statistical summary, the mean and median values of temperature are close to each other, hence we can impute the missing values in the `temp` column by taking the mean tempertaure of the Brooklyn borough during 16th to 31st January."
      ]
    },
    {
      "cell_type": "markdown",
      "metadata": {
        "id": "MEiud9SSB4mC"
      },
      "source": [
        "We will use fillna() function to impute the missing values.\n",
        "\n",
        "**fillna() -** The fillna() function is used to fill NaN values by using the provided input value.\n",
        "\n",
        "       Syntax of fillna():  data['column'].fillna(value = x)\n"
      ]
    },
    {
      "cell_type": "code",
      "execution_count": 120,
      "metadata": {
        "id": "9-TYrOn2Btlb"
      },
      "outputs": [],
      "source": [
        "df['temp'] = df['temp'].fillna(value=df.loc[(df['borough'] == 'Brooklyn') & (df['start_month'] == 'January') & (df['start_day'] >= 16),'temp'].mean())"
      ]
    },
    {
      "cell_type": "code",
      "execution_count": 121,
      "metadata": {
        "colab": {
          "base_uri": "https://localhost:8080/",
          "height": 617
        },
        "id": "2m8IEoKFGVoV",
        "outputId": "8ba8aaa0-3f37-46d1-efa0-f9fd56c0d855"
      },
      "outputs": [
        {
          "output_type": "execute_result",
          "data": {
            "text/plain": [
              "borough        0\n",
              "pickups        0\n",
              "spd            0\n",
              "vsb            0\n",
              "temp           0\n",
              "dewp           0\n",
              "slp            0\n",
              "pcp01          0\n",
              "pcp06          0\n",
              "pcp24          0\n",
              "sd             0\n",
              "hday           0\n",
              "start_year     0\n",
              "start_month    0\n",
              "start_hour     0\n",
              "start_day      0\n",
              "week_day       0\n",
              "dtype: int64"
            ],
            "text/html": [
              "<div>\n",
              "<style scoped>\n",
              "    .dataframe tbody tr th:only-of-type {\n",
              "        vertical-align: middle;\n",
              "    }\n",
              "\n",
              "    .dataframe tbody tr th {\n",
              "        vertical-align: top;\n",
              "    }\n",
              "\n",
              "    .dataframe thead th {\n",
              "        text-align: right;\n",
              "    }\n",
              "</style>\n",
              "<table border=\"1\" class=\"dataframe\">\n",
              "  <thead>\n",
              "    <tr style=\"text-align: right;\">\n",
              "      <th></th>\n",
              "      <th>0</th>\n",
              "    </tr>\n",
              "  </thead>\n",
              "  <tbody>\n",
              "    <tr>\n",
              "      <th>borough</th>\n",
              "      <td>0</td>\n",
              "    </tr>\n",
              "    <tr>\n",
              "      <th>pickups</th>\n",
              "      <td>0</td>\n",
              "    </tr>\n",
              "    <tr>\n",
              "      <th>spd</th>\n",
              "      <td>0</td>\n",
              "    </tr>\n",
              "    <tr>\n",
              "      <th>vsb</th>\n",
              "      <td>0</td>\n",
              "    </tr>\n",
              "    <tr>\n",
              "      <th>temp</th>\n",
              "      <td>0</td>\n",
              "    </tr>\n",
              "    <tr>\n",
              "      <th>dewp</th>\n",
              "      <td>0</td>\n",
              "    </tr>\n",
              "    <tr>\n",
              "      <th>slp</th>\n",
              "      <td>0</td>\n",
              "    </tr>\n",
              "    <tr>\n",
              "      <th>pcp01</th>\n",
              "      <td>0</td>\n",
              "    </tr>\n",
              "    <tr>\n",
              "      <th>pcp06</th>\n",
              "      <td>0</td>\n",
              "    </tr>\n",
              "    <tr>\n",
              "      <th>pcp24</th>\n",
              "      <td>0</td>\n",
              "    </tr>\n",
              "    <tr>\n",
              "      <th>sd</th>\n",
              "      <td>0</td>\n",
              "    </tr>\n",
              "    <tr>\n",
              "      <th>hday</th>\n",
              "      <td>0</td>\n",
              "    </tr>\n",
              "    <tr>\n",
              "      <th>start_year</th>\n",
              "      <td>0</td>\n",
              "    </tr>\n",
              "    <tr>\n",
              "      <th>start_month</th>\n",
              "      <td>0</td>\n",
              "    </tr>\n",
              "    <tr>\n",
              "      <th>start_hour</th>\n",
              "      <td>0</td>\n",
              "    </tr>\n",
              "    <tr>\n",
              "      <th>start_day</th>\n",
              "      <td>0</td>\n",
              "    </tr>\n",
              "    <tr>\n",
              "      <th>week_day</th>\n",
              "      <td>0</td>\n",
              "    </tr>\n",
              "  </tbody>\n",
              "</table>\n",
              "</div><br><label><b>dtype:</b> int64</label>"
            ]
          },
          "metadata": {},
          "execution_count": 121
        }
      ],
      "source": [
        "df.isnull().sum()"
      ]
    },
    {
      "cell_type": "markdown",
      "metadata": {
        "id": "zSS71cvrGcJc"
      },
      "source": [
        "- *All the missing values have been imputed and there are no missing values in our dataset now*."
      ]
    },
    {
      "cell_type": "markdown",
      "metadata": {
        "id": "2A1Q1rBUo2eJ"
      },
      "source": [
        "Let's now perform the Exploratory Data Analysis on the dataset"
      ]
    },
    {
      "cell_type": "markdown",
      "metadata": {
        "id": "sZ4YtvWeCmMu"
      },
      "source": [
        "### **Exploratory Data Analysis**"
      ]
    },
    {
      "cell_type": "markdown",
      "metadata": {
        "id": "1v3duQ20G_PG"
      },
      "source": [
        "### **Univariate Analysis**"
      ]
    },
    {
      "cell_type": "markdown",
      "metadata": {
        "id": "PONVs6K6CmMv"
      },
      "source": [
        "**Let us first explore the numerical variables.**"
      ]
    },
    {
      "cell_type": "markdown",
      "metadata": {
        "id": "EcGCZNBVTWfV"
      },
      "source": [
        "Univariate data visualization plots help us comprehend the descriptive summary of the particular data variable. These plots help in understanding the location/position of observations in the data variable, its distribution, and dispersion.\n",
        "\n",
        "We can check the distribution of observations by plotting **Histograms** and **Boxplots**\n",
        "\n",
        "A histogram takes as input a numeric variable only. The variable is cut into several bins, and the number of observations per bin is represented by the height of the bar\n",
        "\n",
        "![Screenshot 2022-02-26 145921.jpg](data:image/jpeg;base64,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)\n",
        "\n"
      ]
    },
    {
      "cell_type": "markdown",
      "metadata": {
        "id": "-U4dqsSyXYt8"
      },
      "source": [
        "A boxplot gives a summary of one or several numeric variables. The line that divides the box into 2 parts represents the median of the data. The end of the box shows the upper and lower quartiles. The extreme lines show the highest and lowest value excluding outliers.\n",
        "\n",
        "![Screenshot 2022-02-26 150041.jpg](data:image/jpeg;base64,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)"
      ]
    },
    {
      "cell_type": "markdown",
      "metadata": {
        "id": "DtYMqpkOCmMx"
      },
      "source": [
        "#### **Observations on Pickups**"
      ]
    },
    {
      "cell_type": "code",
      "execution_count": 122,
      "metadata": {
        "colab": {
          "base_uri": "https://localhost:8080/",
          "height": 0
        },
        "id": "VO1I-bvmCmMx",
        "outputId": "cb9ebe4b-2fa9-42d1-debb-5051f4c7f478"
      },
      "outputs": [
        {
          "output_type": "display_data",
          "data": {
            "text/plain": [
              "<Figure size 640x480 with 1 Axes>"
            ],
            "image/png": "[encoded data removed]"
          },
          "metadata": {}
        },
        {
          "output_type": "display_data",
          "data": {
            "text/plain": [
              "<Figure size 640x480 with 1 Axes>"
            ],
            "image/png": "[encoded data removed]"
          },
          "metadata": {}
        }
      ],
      "source": [
        "sns.histplot(data=df,x='pickups')\n",
        "plt.show()\n",
        "sns.boxplot(data=df,x='pickups')\n",
        "plt.show()"
      ]
    },
    {
      "cell_type": "markdown",
      "metadata": {
        "id": "POMeLzhnCmM0"
      },
      "source": [
        "- *The distribution of pickups is highly right skewed*\n",
        "- *There are a lot of outliers in this variable*\n",
        "- *While mostly the number of pickups are at a lower end, we have observations where the number of pickups went as high as 8000*"
      ]
    },
    {
      "cell_type": "markdown",
      "metadata": {
        "id": "sd8hv8JDCmM0"
      },
      "source": [
        "####  **Observations on Visibility**"
      ]
    },
    {
      "cell_type": "code",
      "execution_count": 123,
      "metadata": {
        "colab": {
          "base_uri": "https://localhost:8080/",
          "height": 0
        },
        "id": "OHBGv-xCCmM0",
        "outputId": "618ccd05-50aa-46d6-89d3-c97ce02dc669"
      },
      "outputs": [
        {
          "output_type": "display_data",
          "data": {
            "text/plain": [
              "<Figure size 640x480 with 1 Axes>"
            ],
            "image/png": "[encoded data removed]"
          },
          "metadata": {}
        },
        {
          "output_type": "display_data",
          "data": {
            "text/plain": [
              "<Figure size 640x480 with 1 Axes>"
            ],
            "image/png": "[encoded data removed]"
          },
          "metadata": {}
        }
      ],
      "source": [
        "sns.histplot(data=df,x='vsb')\n",
        "plt.show()\n",
        "sns.boxplot(data=df,x='vsb')\n",
        "plt.show()"
      ]
    },
    {
      "cell_type": "markdown",
      "metadata": {
        "id": "P6jd8o4ZCmM2"
      },
      "source": [
        "- *The `visibility` column is is left-skewed*\n",
        "- *Both the mean and median are high, indicating that the visibility is good on most days*\n",
        "- *There are, however, outliers towards the left, indicating that visibility is extremely low on some days*\n",
        "- *It will be interesting to see how visibility affects the Uber pickup frequency*"
      ]
    },
    {
      "cell_type": "markdown",
      "metadata": {
        "id": "UnLx3-PfCmM2"
      },
      "source": [
        "#### **Observations on Temperature**"
      ]
    },
    {
      "cell_type": "code",
      "execution_count": 124,
      "metadata": {
        "colab": {
          "base_uri": "https://localhost:8080/",
          "height": 0
        },
        "id": "Aw8IBdqSCmM3",
        "outputId": "2963116f-3434-40a5-c397-0a5f73757dfb"
      },
      "outputs": [
        {
          "output_type": "display_data",
          "data": {
            "text/plain": [
              "<Figure size 640x480 with 1 Axes>"
            ],
            "image/png": "[encoded data removed]"
          },
          "metadata": {}
        },
        {
          "output_type": "display_data",
          "data": {
            "text/plain": [
              "<Figure size 640x480 with 1 Axes>"
            ],
            "image/png": "[encoded data removed]"
          },
          "metadata": {}
        }
      ],
      "source": [
        "sns.histplot(data=df,x='temp')\n",
        "plt.show()\n",
        "sns.boxplot(data=df,x='temp')\n",
        "plt.show()"
      ]
    },
    {
      "cell_type": "markdown",
      "metadata": {
        "id": "w6hDuBtCCmM5"
      },
      "source": [
        "- *Temperature does not have any outliers*\n",
        "- *50% of the temperature values are less than 45F (~7 degree celcius), indicating cold weather conditions*"
      ]
    },
    {
      "cell_type": "markdown",
      "metadata": {
        "id": "4j6Be5DuCmM5"
      },
      "source": [
        "#### **Observations on Dew point**"
      ]
    },
    {
      "cell_type": "code",
      "execution_count": 125,
      "metadata": {
        "colab": {
          "base_uri": "https://localhost:8080/",
          "height": 0
        },
        "id": "XQ_jLcXzCmM6",
        "outputId": "829e2270-f1a1-41fe-80d5-e241361ace17"
      },
      "outputs": [
        {
          "output_type": "display_data",
          "data": {
            "text/plain": [
              "<Figure size 640x480 with 1 Axes>"
            ],
            "image/png": "[encoded data removed]"
          },
          "metadata": {}
        },
        {
          "output_type": "display_data",
          "data": {
            "text/plain": [
              "<Figure size 640x480 with 1 Axes>"
            ],
            "image/png": "[encoded data removed]"
          },
          "metadata": {}
        }
      ],
      "source": [
        "sns.histplot(data=df,x='dewp')\n",
        "plt.show()\n",
        "sns.boxplot(data=df,x='dewp')\n",
        "plt.show()"
      ]
    },
    {
      "cell_type": "markdown",
      "metadata": {
        "id": "skHS2SKeCmM7"
      },
      "source": [
        "- *There are no outliers for dew point either*\n",
        "- *The distribution is similar to that of temperature. It suggests possible correlation between the two variables*\n",
        "- *Dew point is an indication of humidity, which is correlated with temperature*"
      ]
    },
    {
      "cell_type": "markdown",
      "metadata": {
        "id": "Rl6uU-UWCmM8"
      },
      "source": [
        "#### **Observations on Sea level pressure**"
      ]
    },
    {
      "cell_type": "code",
      "execution_count": 126,
      "metadata": {
        "colab": {
          "base_uri": "https://localhost:8080/",
          "height": 0
        },
        "id": "5vP2afNGCmM8",
        "outputId": "d83e5975-3732-401e-c88e-78cbd2a34d12"
      },
      "outputs": [
        {
          "output_type": "display_data",
          "data": {
            "text/plain": [
              "<Figure size 640x480 with 1 Axes>"
            ],
            "image/png": "[encoded data removed]"
          },
          "metadata": {}
        },
        {
          "output_type": "display_data",
          "data": {
            "text/plain": [
              "<Figure size 640x480 with 1 Axes>"
            ],
            "image/png": "[encoded data removed]"
          },
          "metadata": {}
        }
      ],
      "source": [
        "sns.histplot(data=df,x='slp')\n",
        "plt.show()\n",
        "sns.boxplot(data=df,x='slp')\n",
        "plt.show()"
      ]
    },
    {
      "cell_type": "markdown",
      "metadata": {
        "id": "1REHSW5ECmM-"
      },
      "source": [
        "- *Sea level pressure distribution is close to normal*\n",
        "- *There are a few outliers on both the ends*"
      ]
    },
    {
      "cell_type": "markdown",
      "metadata": {
        "id": "w-YtW4DJCmM_"
      },
      "source": [
        "####  **Observations on Liquid Precipitation (Rain)**"
      ]
    },
    {
      "cell_type": "markdown",
      "metadata": {
        "id": "STf8kh15CmM_"
      },
      "source": [
        "**1 hour liquid precipitation**"
      ]
    },
    {
      "cell_type": "code",
      "execution_count": 127,
      "metadata": {
        "colab": {
          "base_uri": "https://localhost:8080/",
          "height": 0
        },
        "id": "Nd4yBMjjCmNA",
        "outputId": "b0332b5f-1bef-4acb-94f3-174ada5e35a6"
      },
      "outputs": [
        {
          "output_type": "display_data",
          "data": {
            "text/plain": [
              "<Figure size 640x480 with 1 Axes>"
            ],
            "image/png": "[encoded data removed]"
          },
          "metadata": {}
        },
        {
          "output_type": "display_data",
          "data": {
            "text/plain": [
              "<Figure size 640x480 with 1 Axes>"
            ],
            "image/png": "[encoded data removed]"
          },
          "metadata": {}
        }
      ],
      "source": [
        "sns.histplot(data=df,x='pcp01')\n",
        "plt.show()\n",
        "sns.boxplot(data=df,x='pcp01')\n",
        "plt.show()"
      ]
    },
    {
      "cell_type": "markdown",
      "metadata": {
        "id": "UzaDZD0zCmNB"
      },
      "source": [
        "**6 hour liquid precipitation**"
      ]
    },
    {
      "cell_type": "code",
      "execution_count": 128,
      "metadata": {
        "colab": {
          "base_uri": "https://localhost:8080/",
          "height": 0
        },
        "id": "4R71CEJdCmNC",
        "outputId": "1cda9a3f-5263-458e-82a5-fafef2d00d8d"
      },
      "outputs": [
        {
          "output_type": "display_data",
          "data": {
            "text/plain": [
              "<Figure size 640x480 with 1 Axes>"
            ],
            "image/png": "[encoded data removed]"
          },
          "metadata": {}
        },
        {
          "output_type": "display_data",
          "data": {
            "text/plain": [
              "<Figure size 640x480 with 1 Axes>"
            ],
            "image/png": "[encoded data removed]"
          },
          "metadata": {}
        }
      ],
      "source": [
        "sns.histplot(data=df,x='pcp06')\n",
        "plt.show()\n",
        "sns.boxplot(data=df,x='pcp06')\n",
        "plt.show()"
      ]
    },
    {
      "cell_type": "markdown",
      "metadata": {
        "id": "q0X5znMMCmNE"
      },
      "source": [
        "**24 hour liquid precipitation**"
      ]
    },
    {
      "cell_type": "code",
      "execution_count": 129,
      "metadata": {
        "colab": {
          "base_uri": "https://localhost:8080/",
          "height": 0
        },
        "id": "mHACRN4SCmNE",
        "outputId": "7e9079ab-2da5-4ae8-9a9c-0281c5f9ca7a"
      },
      "outputs": [
        {
          "output_type": "display_data",
          "data": {
            "text/plain": [
              "<Figure size 640x480 with 1 Axes>"
            ],
            "image/png": "[encoded data removed]"
          },
          "metadata": {}
        },
        {
          "output_type": "display_data",
          "data": {
            "text/plain": [
              "<Figure size 640x480 with 1 Axes>"
            ],
            "image/png": "[encoded data removed]"
          },
          "metadata": {}
        }
      ],
      "source": [
        "sns.histplot(data=df,x='pcp24')\n",
        "plt.show()\n",
        "sns.boxplot(data=df,x='pcp24')\n",
        "plt.show()"
      ]
    },
    {
      "cell_type": "markdown",
      "metadata": {
        "id": "jrWF2FtHCmNG"
      },
      "source": [
        "- *It rains on relatively fewer days in New York*\n",
        "- *Most of the days are dry*\n",
        "- *The outliers occur when it rains heavily*"
      ]
    },
    {
      "cell_type": "markdown",
      "metadata": {
        "id": "cO94S55DCmNG"
      },
      "source": [
        "#### **Observations on Snow Depth**"
      ]
    },
    {
      "cell_type": "code",
      "execution_count": 130,
      "metadata": {
        "colab": {
          "base_uri": "https://localhost:8080/",
          "height": 0
        },
        "id": "VAFWTAueCmNH",
        "outputId": "5bae4a2d-cb76-464e-ce5d-b927d425ca97"
      },
      "outputs": [
        {
          "output_type": "display_data",
          "data": {
            "text/plain": [
              "<Figure size 640x480 with 1 Axes>"
            ],
            "image/png": "[encoded data removed]"
          },
          "metadata": {}
        },
        {
          "output_type": "display_data",
          "data": {
            "text/plain": [
              "<Figure size 640x480 with 1 Axes>"
            ],
            "image/png": "[encoded data removed]"
          },
          "metadata": {}
        }
      ],
      "source": [
        "sns.histplot(data=df,x='sd')\n",
        "plt.show()\n",
        "sns.boxplot(data=df,x='sd')\n",
        "plt.show()"
      ]
    },
    {
      "cell_type": "markdown",
      "metadata": {
        "id": "1aPQX-HdCmNJ"
      },
      "source": [
        "- *We can observe that there is snowfall in the time period that we are analyzing*\n",
        "- *There are outliers in this data*\n",
        "- *We will have to see how snowfall affects pickups. We know that very few people are likely to get out if it is snowing heavily, so our pickups is most likely to decrease when it snows*"
      ]
    },
    {
      "cell_type": "markdown",
      "metadata": {
        "id": "YS0zRpcHCmNK"
      },
      "source": [
        "**Let's explore the categorical variables now**"
      ]
    },
    {
      "cell_type": "markdown",
      "metadata": {
        "id": "T3LTOrX7gS3_"
      },
      "source": [
        "Bar Charts can be used to explore the distribution of Categorical Variables. Each entity of the categorical variable is represented as a bar. The size of the bar represents its numeric value.\n",
        "\n",
        "\n",
        "![Screenshot 2022-02-26 150512.jpg](data:image/jpeg;base64,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)"
      ]
    },
    {
      "cell_type": "markdown",
      "metadata": {
        "id": "Rz5intsrCmNM"
      },
      "source": [
        "#### **Observations on holiday**"
      ]
    },
    {
      "cell_type": "code",
      "execution_count": 131,
      "metadata": {
        "colab": {
          "base_uri": "https://localhost:8080/",
          "height": 0
        },
        "id": "Qek29sNdCmNM",
        "outputId": "94231d47-34ac-4fab-ae43-bdbc5f2bae82"
      },
      "outputs": [
        {
          "output_type": "execute_result",
          "data": {
            "text/plain": [
              "<Axes: xlabel='hday', ylabel='count'>"
            ]
          },
          "metadata": {},
          "execution_count": 131
        },
        {
          "output_type": "display_data",
          "data": {
            "text/plain": [
              "<Figure size 640x480 with 1 Axes>"
            ],
            "image/png": "[encoded data removed]"
          },
          "metadata": {}
        }
      ],
      "source": [
        "sns.countplot(data=df,x='hday')"
      ]
    },
    {
      "cell_type": "markdown",
      "metadata": {
        "id": "fPuDXd02CmNO"
      },
      "source": [
        "- *The number of pickups is more on non-holidays than on holidays*"
      ]
    },
    {
      "cell_type": "markdown",
      "metadata": {
        "id": "gCoGf5viCmNO"
      },
      "source": [
        "#### **Observations on borough**"
      ]
    },
    {
      "cell_type": "code",
      "execution_count": 132,
      "metadata": {
        "colab": {
          "base_uri": "https://localhost:8080/",
          "height": 0
        },
        "id": "cjZtXHrUCmNO",
        "outputId": "9e528704-e0bf-4881-b5bc-e3a7308b9992"
      },
      "outputs": [
        {
          "output_type": "execute_result",
          "data": {
            "text/plain": [
              "([0, 1, 2, 3, 4, 5, 6],\n",
              " [Text(0, 0, 'Bronx'),\n",
              "  Text(1, 0, 'Brooklyn'),\n",
              "  Text(2, 0, 'EWR'),\n",
              "  Text(3, 0, 'Manhattan'),\n",
              "  Text(4, 0, 'Queens'),\n",
              "  Text(5, 0, 'Staten Island'),\n",
              "  Text(6, 0, 'Unknown')])"
            ]
          },
          "metadata": {},
          "execution_count": 132
        },
        {
          "output_type": "display_data",
          "data": {
            "text/plain": [
              "<Figure size 640x480 with 1 Axes>"
            ],
            "image/png": "[encoded data removed]"
          },
          "metadata": {}
        }
      ],
      "source": [
        "sns.countplot(data=df,x='borough')\n",
        "plt.xticks(rotation = 90)"
      ]
    },
    {
      "cell_type": "markdown",
      "metadata": {
        "id": "e2kTj-A8CmNR"
      },
      "source": [
        "- *The observations are uniformly distributed across the boroughs except the observations that had NaN values and were attributed to Unknown borough*"
      ]
    },
    {
      "cell_type": "markdown",
      "metadata": {
        "id": "a3FosXODCmNS"
      },
      "source": [
        "### **Bivariate Analysis**"
      ]
    },
    {
      "cell_type": "markdown",
      "metadata": {
        "id": "gSDIdIOxY7Zk"
      },
      "source": [
        "Bi means two and variate means variable, so here there are two variables. The analysis is related to the relationship between the two variables.\n",
        "\n",
        "Different types of Bivariate Analysis that can be done:\n",
        "- Bivariate Analysis of two Numerical Variables\n",
        "- Bivariate Analysis of two Categorical Variables\n",
        "- Bivariate Analysis of one Numerical Variables and one Categorical Variable"
      ]
    },
    {
      "cell_type": "markdown",
      "metadata": {
        "id": "v5VmYwCuCmNS"
      },
      "source": [
        "**Let us plot bivariate charts between variables to understand their interaction with each other.**"
      ]
    },
    {
      "cell_type": "markdown",
      "metadata": {
        "id": "ycVCmopBCmNT"
      },
      "source": [
        "#### **Correlation by Heatmap**"
      ]
    },
    {
      "cell_type": "markdown",
      "metadata": {
        "id": "258oRHIIZoAh"
      },
      "source": [
        "\n",
        "A **heatmap** is a graphical representation of data as a color-encoded matrix. It is a great way of representing  the correlation for each pair of columns in the data.The *heatmap()* function of seaborn helps us to create such a plot\n",
        "\n",
        "![Screenshot 2022-02-26 153546.jpg](data:image/jpeg;base64,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)"
      ]
    },
    {
      "cell_type": "code",
      "execution_count": 133,
      "metadata": {
        "id": "PGxoEYrWjqBA"
      },
      "outputs": [],
      "source": [
        "# Selecting only the numerical columns\n",
        "num_var = data.dtypes[data.dtypes != 'object'].index"
      ]
    },
    {
      "cell_type": "code",
      "execution_count": 134,
      "metadata": {
        "colab": {
          "base_uri": "https://localhost:8080/",
          "height": 0
        },
        "id": "0ri8U0CvCmNT",
        "outputId": "178048aa-03ba-469f-85f9-db406ab3550c"
      },
      "outputs": [
        {
          "output_type": "display_data",
          "data": {
            "text/plain": [
              "<Figure size 1500x700 with 2 Axes>"
            ],
            "image/png": "[encoded data removed]"
          },
          "metadata": {}
        }
      ],
      "source": [
        "# Check for correlation among numerical variables\n",
        "\n",
        "corr = df[num_var].corr(numeric_only = True)\n",
        "\n",
        "# plot the heatmap\n",
        "\n",
        "plt.figure(figsize=(15, 7))\n",
        "sns.heatmap(corr, annot=True, vmin=-1, vmax=1, fmt=\".2f\", cmap=\"Spectral\")\n",
        "plt.show()"
      ]
    },
    {
      "cell_type": "markdown",
      "metadata": {
        "id": "BEDOLQcECmNV"
      },
      "source": [
        "- *As expected, temperature shows high correlation with dew point*\n",
        "- *Visibility is negatively correlated with precipitation. If it is raining heavily, then the visibility will be low. This is aligned with our intuitive understanding*\n",
        "* *Snow depth of course would be negatively correlated with temperature.*\n",
        "* *Wind speed and sea level pressure are negatively correlated with temperature*\n",
        "* *It is important to note that correlation does not imply causation*\n",
        "* *There does not seem to be a strong relationship between number of pickups and weather stats*"
      ]
    },
    {
      "cell_type": "markdown",
      "metadata": {
        "id": "j4mXq9oyCmNV"
      },
      "source": [
        "#### **Bivariate Scatter Plots**"
      ]
    },
    {
      "cell_type": "markdown",
      "metadata": {
        "id": "ezv1sbeYZ66G"
      },
      "source": [
        "A **scatterplot** displays the relationship between 2 numeric variables. For each data point, the value of its first variable is represented on the X axis, the second on the Y axis\n",
        "\n",
        "![Screenshot 2022-02-26 153458.jpg](data:image/jpeg;base64,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)"
      ]
    },
    {
      "cell_type": "code",
      "execution_count": null,
      "metadata": {
        "id": "gpSzyZF8CmNW"
      },
      "outputs": [],
      "source": [
        "sns.pairplot(data=df[num_var], diag_kind=\"kde\")\n",
        "plt.show()"
      ]
    },
    {
      "cell_type": "markdown",
      "metadata": {
        "id": "uHMTrRRWCmNZ"
      },
      "source": [
        "- *We get the same insights as from the correlation plot*\n",
        "- *There does not seem to be a strong relationship between number of pickups and weather stats*"
      ]
    },
    {
      "cell_type": "markdown",
      "metadata": {
        "id": "bSZgpRq4CmNZ"
      },
      "source": [
        "#### Now let's check the trend between pickups across different time based variables"
      ]
    },
    {
      "cell_type": "markdown",
      "metadata": {
        "id": "0VjMgba4aRB3"
      },
      "source": [
        "We can check the trends for time measures by plotting Line charts\n",
        "\n",
        "A **line chart** is often used to visualize a trend in data over intervals of time, thus the line is often drawn chronologically.\n",
        "\n",
        "![Screenshot 2022-02-26 153349.jpg](data:image/jpeg;base64,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)"
      ]
    },
    {
      "cell_type": "markdown",
      "metadata": {
        "id": "uuwDETWqCmNZ"
      },
      "source": [
        "#### **Pickups across months**"
      ]
    },
    {
      "cell_type": "code",
      "execution_count": null,
      "metadata": {
        "id": "84a95LhQCmNc"
      },
      "outputs": [],
      "source": [
        "cats = df.start_month.unique().tolist()\n",
        "df.start_month = pd.Categorical(df.start_month, ordered=True, categories=cats)\n",
        "\n",
        "plt.figure(figsize=(15,7))\n",
        "sns.lineplot(data=df, x=\"start_month\", y=\"pickups\", ci=False, color=\"red\", estimator='sum')\n",
        "plt.ylabel('Total pickups')\n",
        "plt.xlabel('Month')\n",
        "plt.show()"
      ]
    },
    {
      "cell_type": "markdown",
      "metadata": {
        "id": "XijX5LSDCmNe"
      },
      "source": [
        "- *There is a clear increasing trend in monthly bookings*\n",
        "- *The number of pickups in June is almost 2.8 times of that of January*"
      ]
    },
    {
      "cell_type": "markdown",
      "metadata": {
        "id": "58KoBSudCmNe"
      },
      "source": [
        "#### **Pickups vs Days of the Month**"
      ]
    },
    {
      "cell_type": "code",
      "execution_count": null,
      "metadata": {
        "id": "XWPJsTjTCmNe"
      },
      "outputs": [],
      "source": [
        "plt.figure(figsize=(15,7))\n",
        "sns.lineplot(data=df, x=\"start_day\", y=\"pickups\", estimator='sum', ci=False, color=\"red\")\n",
        "plt.ylabel('Total pickups')\n",
        "plt.xlabel('Day of Month')\n",
        "plt.show()"
      ]
    },
    {
      "cell_type": "markdown",
      "metadata": {
        "id": "n7O7M8TJCmNg"
      },
      "source": [
        "- *There is a steep fall in the number of pickups over the last days of the month*\n",
        "- *This can partially be attributed to month of Feb having just 28 days. We can drop Feb and have a look at this chart again*\n",
        "- *There is a peak in the bookings around the 20th day of the month*"
      ]
    },
    {
      "cell_type": "markdown",
      "metadata": {
        "id": "-8qlkeU3OW3T"
      },
      "source": [
        "**Let us drop the observations for the month of Feb and see the trend**"
      ]
    },
    {
      "cell_type": "code",
      "execution_count": null,
      "metadata": {
        "id": "GEmLUscQCmNj"
      },
      "outputs": [],
      "source": [
        "# Let us drop the Feb month and see the trend\n",
        "df_not_feb =  df[df['start_month'] != 'February']\n",
        "plt.figure(figsize=(15,7))\n",
        "sns.lineplot(data=df_not_feb, x=\"start_day\", y=\"pickups\", estimator='sum', ci=False, color=\"red\")\n",
        "plt.ylabel('Total pickups')\n",
        "plt.xlabel('Day of Month')\n",
        "plt.show()"
      ]
    },
    {
      "cell_type": "markdown",
      "metadata": {
        "id": "7CpIc_bLCmNm"
      },
      "source": [
        "- *Number of pickups for 31st is still low because not all months have the 31st day*"
      ]
    },
    {
      "cell_type": "markdown",
      "metadata": {
        "id": "m4Dgmr6NCmNm"
      },
      "source": [
        "#### **Pickups across Hours of the Day**"
      ]
    },
    {
      "cell_type": "code",
      "execution_count": null,
      "metadata": {
        "id": "lGiJxX5bCmNm"
      },
      "outputs": [],
      "source": [
        "plt.figure(figsize=(15,7))\n",
        "sns.lineplot(data=df, x=\"start_hour\", y=\"pickups\", estimator='sum', ci=False, color=\"red\")\n",
        "plt.ylabel('Total pickups')\n",
        "plt.xlabel('Hour of the day')\n",
        "plt.show()"
      ]
    },
    {
      "cell_type": "markdown",
      "metadata": {
        "id": "rP94nA3kCmNo"
      },
      "source": [
        "- *Bookings peak around the 19th and 20th hour of the day*\n",
        "- *The peak can be attributed to the time when people leave their workplaces*\n",
        "- *From 5 AM onwards, we can see an increasing trend till 10, possibly the office rush*\n",
        "- *Pickups then go down from 10AM to 12PM post which they start increasing*"
      ]
    },
    {
      "cell_type": "markdown",
      "metadata": {
        "id": "OF3neJO9CmNo"
      },
      "source": [
        "#### **Pickups across Weekdays**"
      ]
    },
    {
      "cell_type": "code",
      "execution_count": null,
      "metadata": {
        "id": "gYFgSHzbCmNo"
      },
      "outputs": [],
      "source": [
        "cats = ['Monday', 'Tuesday', 'Wednesday','Thursday', 'Friday', 'Saturday', 'Sunday']\n",
        "df.week_day = pd.Categorical(df.week_day, ordered=True, categories=cats)\n",
        "\n",
        "plt.figure(figsize=(15,7))\n",
        "sns.lineplot(data=df, x=\"week_day\", y=\"pickups\", ci=False, color=\"red\", estimator='sum')\n",
        "plt.ylabel('Total pickups')\n",
        "plt.xlabel('Weeks')\n",
        "plt.show()"
      ]
    },
    {
      "cell_type": "markdown",
      "metadata": {
        "id": "F5_QjHKXCmNr"
      },
      "source": [
        "- *Pickups gradually increase as the week progresses and starts dropping down after Saturday*\n",
        "- *We need to do more investigation to understand why demand for Uber is low in the beginning of the week*"
      ]
    },
    {
      "cell_type": "markdown",
      "metadata": {
        "id": "r1iyNog90RQ8"
      },
      "source": [
        "**Let's check if there is any significant effect of the categorical variables on the number of pickups**"
      ]
    },
    {
      "cell_type": "markdown",
      "metadata": {
        "id": "v-mmpB4nCmNs"
      },
      "source": [
        "#### **Pickups across Borough**"
      ]
    },
    {
      "cell_type": "code",
      "execution_count": null,
      "metadata": {
        "id": "PYKgfuFHCmNs"
      },
      "outputs": [],
      "source": [
        "plt.figure(figsize=(15,7))\n",
        "sns.boxplot(x=df['borough'], y=df['pickups'])\n",
        "plt.ylabel('pickups')\n",
        "plt.xlabel('Borough')\n",
        "plt.show()"
      ]
    },
    {
      "cell_type": "code",
      "execution_count": null,
      "metadata": {
        "id": "X_SPN8JZCmNw"
      },
      "outputs": [],
      "source": [
        "# Dispersion of pickups in every borough\n",
        "sns.catplot(x='pickups', col='borough', data=df, col_wrap=4, kind=\"violin\")\n",
        "plt.show()"
      ]
    },
    {
      "cell_type": "markdown",
      "metadata": {
        "id": "seV0Bl8OCmNw"
      },
      "source": [
        "- *There is a clear difference in the number of riders across the different boroughs*\n",
        "- *Manhattan has the highest number of bookings*\n",
        "- *Brooklyn and Queens are distant followers*\n",
        "- *EWR, Unknown and Staten Island have very low number of bookings. The demand is so small that probably it can be covered by the drop-offs of the inbound trips from other areas*"
      ]
    },
    {
      "cell_type": "markdown",
      "metadata": {
        "id": "Po7r6S40CmNz"
      },
      "source": [
        "#### **Relationship between pickups and holidays**"
      ]
    },
    {
      "cell_type": "code",
      "execution_count": null,
      "metadata": {
        "id": "CaxHHQ03ISOp"
      },
      "outputs": [],
      "source": [
        "sns.catplot(x='hday', y='pickups', data=df, kind=\"bar\")\n",
        "plt.show()"
      ]
    },
    {
      "cell_type": "markdown",
      "metadata": {
        "id": "J_pK7DUMWwCr"
      },
      "source": [
        "- *The mean pickups on a holiday is lesser than that on a non-holiday*"
      ]
    },
    {
      "cell_type": "markdown",
      "metadata": {
        "id": "7VEfbdxSCmN4"
      },
      "source": [
        "### **Multivariate Analysis**"
      ]
    },
    {
      "cell_type": "code",
      "execution_count": null,
      "metadata": {
        "id": "m6kJ8kwtCmN0"
      },
      "outputs": [],
      "source": [
        "sns.catplot(x='borough', y='pickups', data=df, kind=\"bar\", hue='hday')\n",
        "plt.xticks(rotation=90)\n",
        "plt.show()"
      ]
    },
    {
      "cell_type": "markdown",
      "metadata": {
        "id": "GGeSY7VfIdXn"
      },
      "source": [
        "The bars for EWR, Staten Island and Unknown are not visible. Let's check the mean pickups in all the borough to verify this."
      ]
    },
    {
      "cell_type": "code",
      "execution_count": null,
      "metadata": {
        "id": "lksVM1EFCmN2"
      },
      "outputs": [],
      "source": [
        "# Check if the trend is similar across boroughs\n",
        "df.groupby(by = ['borough','hday'])['pickups'].mean()"
      ]
    },
    {
      "cell_type": "markdown",
      "metadata": {
        "id": "1tgju4SWCmN4"
      },
      "source": [
        "- *In all the boroughs, except Manhattan, the mean pickups on a holiday is very similar to that on a non holiday*\n",
        "- *In Queens, mean pickups on a holiday is higher*\n",
        "- *There are hardly any pickups in EWR*"
      ]
    },
    {
      "cell_type": "markdown",
      "metadata": {
        "id": "-pTUyiL_1mpD"
      },
      "source": [
        "Since we have seen that borough has a significant effect on the number of pickups, let's check if that effect is present across different hours of the day."
      ]
    },
    {
      "cell_type": "code",
      "execution_count": null,
      "metadata": {
        "id": "D3oJ-9FYCmN4"
      },
      "outputs": [],
      "source": [
        "plt.figure(figsize=(15,7))\n",
        "sns.lineplot(data=df, x=\"start_hour\", y=\"pickups\", hue='borough', estimator='sum', ci=False)\n",
        "plt.ylabel('Total pickups')\n",
        "plt.xlabel('Hour of the day')\n",
        "plt.show()"
      ]
    },
    {
      "cell_type": "markdown",
      "metadata": {
        "id": "-38qbGNXCmN6"
      },
      "source": [
        "- *The number of pickups in Manhattan is very high and dominant when we see the spread across boroughs*\n",
        "- *The hourly trend which we have observed earlier can be mainly attributed to the borough Manhattan, as rest of the other boroughs do not show any significant change for the number of pickups on the hourly basis*"
      ]
    },
    {
      "cell_type": "markdown",
      "metadata": {
        "id": "_t3JKMhEQMLL"
      },
      "source": [
        "### **Outlier Detection and Treatment**"
      ]
    },
    {
      "cell_type": "markdown",
      "metadata": {
        "id": "YBkjbbAAQWV3"
      },
      "source": [
        "**Let's visualize all the outliers present in data together**"
      ]
    },
    {
      "cell_type": "code",
      "execution_count": null,
      "metadata": {
        "id": "aRgwsT0fQe9i"
      },
      "outputs": [],
      "source": [
        "# outlier detection using boxplot\n",
        "# selecting the numerical columns of data and adding their names in a list\n",
        "numeric_columns = ['pickups','spd','vsb','temp','dewp', 'slp','pcp01', 'pcp06', 'pcp24', 'sd']\n",
        "plt.figure(figsize=(15, 12))\n",
        "\n",
        "for i, variable in enumerate(numeric_columns):\n",
        "    plt.subplot(4, 4, i + 1)\n",
        "    plt.boxplot(data[variable], whis=1.5)\n",
        "    plt.tight_layout()\n",
        "    plt.title(variable)\n",
        "\n",
        "plt.show()"
      ]
    },
    {
      "cell_type": "markdown",
      "metadata": {
        "id": "znraLjuTmEwN"
      },
      "source": [
        "- *The `pickups` column has a wide range of values with lots of outliers. However we are not going to treat this column since the number of pickups can have a varying range and we can miss out on some genuine values if we treat this column*\n",
        "- *Starting from `spd` to `sd`, all the columns are related to weather. The weather related variables have some outliers, however all of them seem to be genuine values. So we are not going to treat the outliers present in these columns*"
      ]
    },
    {
      "cell_type": "markdown",
      "metadata": {
        "id": "G0ScNCW3lhWx"
      },
      "source": [
        "### **Actionable Insights and Recommendations**"
      ]
    },
    {
      "cell_type": "markdown",
      "metadata": {
        "id": "a3wP1oR53up6"
      },
      "source": [
        "#### **Insights**\n",
        "\n",
        "We analyzed a dataset of nearly 30K hourly Uber pickup informations, from New York boroughs.\n",
        "The data spanned over every day of the first six months of the year 2015.\n",
        "The main feature of interest here is the number of pickups.\n",
        "Both from an environmental and business perspective, having cars roaming in an area while the demand is in another or filling the streets with cars during a low demand period while lacking during peak hours is inefficient. Thus we determined the factors that effect pickup and the nature of their effect.\n",
        "\n",
        "We have been able to conclude that -  \n",
        "\n",
        "1. Uber cabs are most popular in the Manhattan area of New York\n",
        "2. Contrary to intuition, weather conditions do not have much impact on the number of Uber pickups\n",
        "3. The demand for Uber has been increasing steadily over the months (Jan to June)\n",
        "4. The rate of pickups is higher on the weekends as compared to weekdays\n",
        "5. It is encouraging to see that New Yorkers trust Uber taxi services when they step out to enjoy their evenings\n",
        "6. We can also conclude that people use Uber for regular office commutes.The demand steadily increases from 6 AM to 10 AM, then declines a little and starts picking up till midnight. The demand peaks at 7-8 PM\n",
        "7. We need to further investigate the low demand for Uber on Mondays\n",
        "\n",
        "\n",
        "#### **Recommendations to business**\n",
        "\n",
        "1. Manhattan is the most mature market for Uber. Brooklyn, Queens, and Bronx show potential\n",
        "2. There has been a gradual increase in Uber rides over the last few months and we need to keep up the momentum\n",
        "3. The number of rides are high at peak office commute hours on weekdays and during late evenings on Saturdays. Cab availability must be ensured during these times\n",
        "4. The demand for cabs is highest on Saturday nights. Cab availability must be ensured during this time of the week\n",
        "5. Data should be procured for fleet size availability to get a better understanding of the demand-supply status and build a machine learning model to accurately predict pickups per hour, to optimize the cab fleet in respective areas\n",
        "6. More data should be procured on price and a model can be built that can predict optimal pricing\n",
        "\n",
        "####  **Further Analysis that can be done**\n",
        "\n",
        "1. Dig deeper to explore the variation of cab demand, during working days and non-working days. You can combine Weekends+Holidays to be non-working days and weekdays to be the working days\n",
        "2. Drop the boroughs that have negligible pickups and then analyze the data to uncover more insights"
      ]
    }
  ],
  "metadata": {
    "colab": {
      "collapsed_sections": [
        "cuFlvhPwCmL3",
        "ikTvAOfVCmL_",
        "wCI1v_BsreA5",
        "ymfvv11nCmMI",
        "0rwGjIn8CmML",
        "QDaaq4453upr",
        "HSpYcGWICmMP",
        "anXwYwBpnzoa",
        "XbECHPQ1CmMj",
        "sZ4YtvWeCmMu",
        "1v3duQ20G_PG",
        "DtYMqpkOCmMx",
        "sd8hv8JDCmM0",
        "UnLx3-PfCmM2",
        "4j6Be5DuCmM5",
        "Rl6uU-UWCmM8",
        "w-YtW4DJCmM_",
        "cO94S55DCmNG",
        "Rz5intsrCmNM",
        "gCoGf5viCmNO",
        "a3FosXODCmNS",
        "ycVCmopBCmNT",
        "7VEfbdxSCmN4",
        "_t3JKMhEQMLL"
      ],
      "provenance": [],
      "include_colab_link": true
    },
    "kernelspec": {
      "display_name": "Python 3",
      "name": "python3"
    },
    "language_info": {
      "codemirror_mode": {
        "name": "ipython",
        "version": 3
      },
      "file_extension": ".py",
      "mimetype": "text/x-python",
      "name": "python",
      "nbconvert_exporter": "python",
      "pygments_lexer": "ipython3",
      "version": "3.8.5"
    },
    "toc": {
      "base_numbering": 1,
      "nav_menu": {},
      "number_sections": true,
      "sideBar": true,
      "skip_h1_title": false,
      "title_cell": "Table of Contents",
      "title_sidebar": "Contents",
      "toc_cell": false,
      "toc_position": {},
      "toc_section_display": true,
      "toc_window_display": false
    }
  },
  "nbformat": 4,
  "nbformat_minor": 0
}